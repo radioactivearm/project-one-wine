{
 "cells": [
  {
   "cell_type": "code",
   "execution_count": null,
   "metadata": {},
   "outputs": [],
   "source": [
    "#import dependencies\n",
    "import pandas as pd\n",
    "import matplotlib.pyplot as plt\n",
    "import numpy as np\n",
    "import csv"
   ]
  },
  {
   "cell_type": "code",
   "execution_count": null,
   "metadata": {},
   "outputs": [],
   "source": [
    "# import .csv\n",
    "csv_path = \"wine_data.csv\"\n",
    "wine_df = pd.read_csv(csv_path)\n",
    "wine_df"
   ]
  },
  {
   "cell_type": "code",
   "execution_count": null,
   "metadata": {},
   "outputs": [],
   "source": [
    "# jeanaej's code starts here"
   ]
  },
  {
   "cell_type": "code",
   "execution_count": null,
   "metadata": {},
   "outputs": [],
   "source": [
    "# jeanaej's code ends here"
   ]
  },
  {
   "cell_type": "code",
   "execution_count": null,
   "metadata": {},
   "outputs": [],
   "source": [
    "# natalia's code starts here"
   ]
  },
  {
   "cell_type": "code",
   "execution_count": null,
   "metadata": {},
   "outputs": [],
   "source": [
    "wine_df.nunique()"
   ]
  },
  {
   "cell_type": "code",
   "execution_count": null,
   "metadata": {},
   "outputs": [],
   "source": [
    "US_only = wine_df.loc[wine_df[\"Country\"] == \"US\"]\n",
    "US_only"
   ]
  },
  {
   "cell_type": "code",
   "execution_count": null,
   "metadata": {},
   "outputs": [],
   "source": [
    "us_var = US_only.groupby(\"Variety\")\n",
    "us_varieties = us_var.count()\n",
    "us_varieties"
   ]
  },
  {
   "cell_type": "code",
   "execution_count": null,
   "metadata": {},
   "outputs": [],
   "source": [
    "# Summing all varieties that will be lummped together\n",
    "other = 0\n",
    "for variety, row in us_varieties.iterrows():\n",
    "    if row[\"Country\"] < 1000:\n",
    "        added = row[\"Country\"]\n",
    "        other = other + added\n",
    "    else:\n",
    "        pass\n",
    "        \n",
    "print(other)"
   ]
  },
  {
   "cell_type": "code",
   "execution_count": null,
   "metadata": {},
   "outputs": [],
   "source": [
    "# Returns the top 40 varietals from US wineries\n",
    "us_var_top = us_varieties.loc[us_varieties[\"Country\"] >= 1000]"
   ]
  },
  {
   "cell_type": "code",
   "execution_count": null,
   "metadata": {},
   "outputs": [],
   "source": [
    "us_var_top.head()"
   ]
  },
  {
   "cell_type": "code",
   "execution_count": null,
   "metadata": {},
   "outputs": [],
   "source": [
    "us_var_top.loc[\"Other Wine (206 Varietals)\"] = [12575,12575,12575,12575,12575]\n",
    "us_var_top = us_var_top.sort_values(by=\"Country\", ascending=False)\n",
    "us_var_top"
   ]
  },
  {
   "cell_type": "code",
   "execution_count": null,
   "metadata": {},
   "outputs": [],
   "source": [
    "# Labels for the sections of our pie chart\n",
    "labels = us_var_top.index\n",
    "\n",
    "# The values of each section of the pie chart\n",
    "sizes = us_var_top[\"Country\"]\n",
    "\n",
    "# The colors of each section of the pie chart\n",
    "# colors = [\"red\", \"orange\", \"lightcoral\", \"lightskyblue\"]\n",
    "\n",
    "# Seperate the top 3 Varietals\n",
    "explode = (0, 0.1, 0.1, 0.1, 0, 0, 0, 0, 0, 0, 0, 0)"
   ]
  },
  {
   "cell_type": "code",
   "execution_count": null,
   "metadata": {},
   "outputs": [],
   "source": [
    "plt.pie(sizes, labels=labels, autopct=\"%1.1f%%\", shadow=True, explode=explode, radius=2.5)\n",
    "plt.show()"
   ]
  },
  {
   "cell_type": "code",
   "execution_count": null,
   "metadata": {},
   "outputs": [],
   "source": [
    "province = US_only.groupby(\"Province\").count().sort_values(by=\"Country\", ascending=False)\n",
    "province"
   ]
  },
  {
   "cell_type": "code",
   "execution_count": null,
   "metadata": {},
   "outputs": [],
   "source": [
    "# Summing all varieties that will be lummped together\n",
    "other_prov = 0\n",
    "for prov, row in province.iterrows():\n",
    "    if row[\"Country\"] < 100:\n",
    "        added_prov = row[\"Country\"]\n",
    "        other_prov = other_prov + added_prov\n",
    "    else:\n",
    "        pass\n",
    "        \n",
    "print(other_prov)"
   ]
  },
  {
   "cell_type": "code",
   "execution_count": null,
   "metadata": {},
   "outputs": [],
   "source": [
    "# Returns the top wine producing provinces in the US\n",
    "province_top = province.loc[province[\"Country\"] >1000]\n",
    "province_top"
   ]
  },
  {
   "cell_type": "code",
   "execution_count": null,
   "metadata": {},
   "outputs": [],
   "source": [
    "province_top.loc[\"Other Provinces (469 Provinces)\"] = [469,469,469,469,469]\n",
    "province_top = province_top.sort_values(by=\"Country\", ascending=False)\n",
    "province_top"
   ]
  },
  {
   "cell_type": "code",
   "execution_count": null,
   "metadata": {},
   "outputs": [],
   "source": [
    "# Labels for the sections of our pie chart\n",
    "labels = province_top.index\n",
    "\n",
    "# The values of each section of the pie chart\n",
    "sizes = province_top[\"Country\"]\n",
    "\n",
    "# The colors of each section of the pie chart\n",
    "# colors = [\"red\", \"orange\", \"lightcoral\", \"lightskyblue\"]\n",
    "\n",
    "# Seperate the top 3 Varietals\n",
    "explode = (0.1, 0, 0, 0, 0)"
   ]
  },
  {
   "cell_type": "code",
   "execution_count": null,
   "metadata": {},
   "outputs": [],
   "source": [
    "plt.pie(sizes, labels=labels, autopct=\"%1.1f%%\", shadow=True, explode=explode, startangle=90, radius=2.5)\n",
    "plt.show()"
   ]
  },
  {
   "cell_type": "code",
   "execution_count": null,
   "metadata": {},
   "outputs": [],
   "source": [
    "patches, text = plt.pie(sizes, shadow=True, explode=explode, startangle=90, radius=2.5)\n",
    "    \n",
    "plt.legend(patches, labels, loc=\"best\", bbox_to_anchor=(-0.1,1.), fontsize=12)\n",
    "plt.show()\n",
    "\n",
    "# Avoiding overlapping labels\n",
    "# https://stackoverflow.com/questions/23577505/how-to-avoid-overlapping-of-labels-autopct-in-a-matplotlib-pie-chart \n",
    "# Accessed 14 Feb 2021"
   ]
  },
  {
   "cell_type": "code",
   "execution_count": null,
   "metadata": {},
   "outputs": [],
   "source": [
    "ratio_df = wine_df\n",
    "ratio_df[\"Points:Price\"] = ratio_df[\"Points\"]/ratio_df[\"Price\"]\n",
    "ratio_df"
   ]
  },
  {
   "cell_type": "code",
   "execution_count": null,
   "metadata": {},
   "outputs": [],
   "source": [
    "mean = ratio_df.groupby(\"Country\").mean()\n",
    "mean"
   ]
  },
  {
   "cell_type": "code",
   "execution_count": null,
   "metadata": {},
   "outputs": [],
   "source": [
    "median = ratio_df.groupby(\"Country\").median()\n",
    "median"
   ]
  },
  {
   "cell_type": "code",
   "execution_count": null,
   "metadata": {},
   "outputs": [],
   "source": [
    "mean_median = pd.merge(mean, median, left_index=True, right_index=True, suffixes=(\"_mean\",\"_median\"))\n",
    "best = mean_median.sort_values(by=\"Points:Price_mean\", ascending=False)"
   ]
  },
  {
   "cell_type": "code",
   "execution_count": null,
   "metadata": {},
   "outputs": [],
   "source": [
    "x_axis_country = best.index\n",
    "point_per = best[\"Points:Price_mean\"]\n",
    "plt.bar(x_axis_country, point_per, align=\"center\")\n",
    "plt.xticks(rotation=45)\n",
    "plt.xlabel(\"Country\")\n",
    "plt.ylabel(\"Points per Dollar\")\n",
    "plt.title(\"Average Points per Dollar\")\n",
    "\n",
    "plt.show()"
   ]
  },
  {
   "cell_type": "code",
   "execution_count": null,
   "metadata": {},
   "outputs": [],
   "source": [
    "# natalia's code ends here"
   ]
  },
  {
   "cell_type": "code",
   "execution_count": null,
   "metadata": {},
   "outputs": [],
   "source": [
    "# sharon's code starts here"
   ]
  },
  {
   "cell_type": "code",
   "execution_count": null,
   "metadata": {},
   "outputs": [],
   "source": [
    "# sharon's code ends here"
   ]
  }
 ],
 "metadata": {
  "kernelspec": {
   "display_name": "Python 3",
   "language": "python",
   "name": "python3"
  },
  "language_info": {
   "codemirror_mode": {
    "name": "ipython",
    "version": 3
   },
   "file_extension": ".py",
   "mimetype": "text/x-python",
   "name": "python",
   "nbconvert_exporter": "python",
   "pygments_lexer": "ipython3",
   "version": "3.6.10"
  }
 },
 "nbformat": 4,
 "nbformat_minor": 4
}
