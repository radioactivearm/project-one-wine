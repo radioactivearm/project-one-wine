{
 "cells": [
  {
   "cell_type": "code",
   "execution_count": null,
   "metadata": {},
   "outputs": [],
   "source": [
    "#import dependencies\n",
    "import pandas as pd\n",
    "import matplotlib.pyplot as plt\n",
    "import numpy as np\n",
    "import csv\n",
    "import scipy.stats as st"
   ]
  },
  {
   "cell_type": "code",
   "execution_count": null,
   "metadata": {},
   "outputs": [],
   "source": [
    "# import .csv\n",
    "csv_path = \"wine_data.csv\"\n",
    "wine_df = pd.read_csv(csv_path, low_memory=False)\n",
    "wine_df"
   ]
  },
  {
   "cell_type": "code",
   "execution_count": null,
   "metadata": {},
   "outputs": [],
   "source": [
    "variety_path = \"variety_data.csv\"\n",
    "variety_df = pd.read_csv(variety_path, low_memory=False)\n",
    "variety_df"
   ]
  },
  {
   "cell_type": "code",
   "execution_count": null,
   "metadata": {},
   "outputs": [],
   "source": [
    "# jeanaej's code starts here"
   ]
  },
  {
   "cell_type": "markdown",
   "metadata": {},
   "source": [
    "## By Country"
   ]
  },
  {
   "cell_type": "code",
   "execution_count": null,
   "metadata": {
    "scrolled": true
   },
   "outputs": [],
   "source": [
    "# Get the countries\n",
    "countries = wine_df[\"Country\"].unique()\n",
    "countries = sorted(countries)\n",
    "countries"
   ]
  },
  {
   "cell_type": "code",
   "execution_count": null,
   "metadata": {},
   "outputs": [],
   "source": [
    "# Grouping by country\n",
    "country_group = wine_df.groupby([\"Country\"])\n",
    "\n",
    "# Getting the mean of points and price\n",
    "points_c_mean = country_group[\"Points\"].mean()\n",
    "price_c_mean = country_group[\"Price\"].mean()\n",
    "\n",
    "# Getting the median of points and price\n",
    "points_c_median = country_group[\"Points\"].median()\n",
    "price_c_median = country_group[\"Price\"].median()"
   ]
  },
  {
   "cell_type": "code",
   "execution_count": null,
   "metadata": {},
   "outputs": [],
   "source": [
    "# Creating a bar graph Average rating by country\n",
    "plt.bar(countries, points_c_mean, align = \"center\", color = \"yellow\", edgecolor =\"black\")\n",
    "\n",
    "# Labeling graphs\n",
    "plt.title(\"Average Rating Points by Country\")\n",
    "plt.xlabel(\"Countries\")\n",
    "plt.ylabel(\"Rating Point\")\n",
    "plt.xticks(rotation = 90)\n",
    "\n",
    "# Making the y-values start at 80 to 90 because the range of the rating points began at 85. \n",
    "# Note: There is a payment threshold to get a wine rated; therefore, the rating points begin at 85.\n",
    "plt.ylim(85, 90)\n",
    "plt.show()"
   ]
  },
  {
   "cell_type": "code",
   "execution_count": null,
   "metadata": {},
   "outputs": [],
   "source": [
    "# Creating a bar graph Median rating by country\n",
    "plt.bar(countries, points_c_median, align = \"center\", color = \"yellow\", edgecolor =\"black\")\n",
    "\n",
    "# Labeling graphs\n",
    "plt.title(\"Median Rating Points by Country\")\n",
    "plt.xlabel(\"Countries\")\n",
    "plt.ylabel(\"Rating Point\")\n",
    "plt.xticks(rotation = 90)\n",
    "\n",
    "# Making the y-values start at 80 to 90 because the range of the rating points began at 85. \n",
    "# Note: There is a payment threshold to get a wine rated; therefore, the rating points begin at 85.\n",
    "plt.ylim(85, 90)\n",
    "plt.show()"
   ]
  },
  {
   "cell_type": "markdown",
   "metadata": {},
   "source": [
    "Difference between Average and Median."
   ]
  },
  {
   "cell_type": "code",
   "execution_count": null,
   "metadata": {},
   "outputs": [],
   "source": [
    "# Creating a bar graph Average Price by country\n",
    "plt.bar(countries, price_c_mean, align = \"center\", color = \"green\", edgecolor =\"black\")\n",
    "\n",
    "# Labeling the graph\n",
    "plt.title(\"Average Price by Country\")\n",
    "plt.xlabel(\"Countries\")\n",
    "plt.ylabel(\"Price ($)\")\n",
    "plt.xticks(rotation = 90)\n",
    "plt.show()"
   ]
  },
  {
   "cell_type": "code",
   "execution_count": null,
   "metadata": {},
   "outputs": [],
   "source": [
    "# Creating a bar graph Median Price by country\n",
    "plt.bar(countries, price_c_median, align = \"center\", color = \"green\", edgecolor =\"black\")\n",
    "\n",
    "# Labeling the graph\n",
    "plt.title(\"Median Price by Country\")\n",
    "plt.xlabel(\"Countries\")\n",
    "plt.ylabel(\"Price ($)\")\n",
    "plt.xticks(rotation = 90)\n",
    "plt.show()"
   ]
  },
  {
   "cell_type": "markdown",
   "metadata": {},
   "source": [
    "Difference between Average and Median."
   ]
  },
  {
   "cell_type": "markdown",
   "metadata": {},
   "source": [
    "## By Variety"
   ]
  },
  {
   "cell_type": "code",
   "execution_count": null,
   "metadata": {},
   "outputs": [],
   "source": [
    "# Getting the varieties\n",
    "varieties = wine_df[\"Variety\"].unique()\n",
    "varieties = sorted(varieties)\n",
    "varieties"
   ]
  },
  {
   "cell_type": "code",
   "execution_count": null,
   "metadata": {},
   "outputs": [],
   "source": [
    "# Grouping by varieties\n",
    "wine_variety_group = wine_df.groupby([\"Variety\"])\n",
    "\n",
    "# Getting the mean of points and price\n",
    "points_wv_mean = wine_variety_group[\"Points\"].mean()\n",
    "price_wv_mean = wine_variety_group[\"Price\"].mean()\n",
    "\n",
    "# Getting the median of points and price\n",
    "points_wv_median = wine_variety_group[\"Points\"].median()\n",
    "price_wv_median = wine_variety_group[\"Price\"].median()"
   ]
  },
  {
   "cell_type": "code",
   "execution_count": null,
   "metadata": {},
   "outputs": [],
   "source": [
    "# Creating a bar graph Average points by varietal\n",
    "plt.bar(varieties, points_wv_mean, align = \"center\")\n",
    "\n",
    "# Labeling the graph\n",
    "plt.title(\"Average Rating Points by Variety\")\n",
    "plt.xlabel(\"Varieties\")\n",
    "plt.ylabel(\"Rating Points\")\n",
    "plt.xticks(rotation = 90)\n",
    "\n",
    "# Making the y-values start at 80 to 90 because the range of the rating points began at 80. \n",
    "# Note: There is a payment threshold to get a wine rated; therefore, the rating points begin at 80.\n",
    "plt.ylim(80,100)\n",
    "plt.show()"
   ]
  },
  {
   "cell_type": "markdown",
   "metadata": {},
   "source": [
    "There are 545 different varieties within the cleaned wine data set. In order to further analyze the price and rating points of wine varieties, we created another data set with the 25 top ranked varieties."
   ]
  },
  {
   "cell_type": "code",
   "execution_count": null,
   "metadata": {},
   "outputs": [],
   "source": [
    "# Getting the Top 25 Variety names\n",
    "top_varieties = variety_df[\"Variety\"].unique()\n",
    "top_varieties = sorted(top_varieties)\n",
    "top_varieties"
   ]
  },
  {
   "cell_type": "code",
   "execution_count": null,
   "metadata": {},
   "outputs": [],
   "source": [
    "# Grouping by varieties\n",
    "varieties_group = variety_df.groupby([\"Variety\"])\n",
    "\n",
    "# Getting the mean of points and price\n",
    "points_v_mean = varieties_group[\"Points\"].mean()\n",
    "price_v_mean = varieties_group[\"Price\"].mean()\n",
    "\n",
    "# Getting the median of points and price\n",
    "points_v_median = varieties_group[\"Points\"].median()\n",
    "price_v_median = varieties_group[\"Price\"].median()"
   ]
  },
  {
   "cell_type": "code",
   "execution_count": null,
   "metadata": {},
   "outputs": [],
   "source": [
    "# Creating a bar graph Median points by varietal\n",
    "plt.bar(top_varieties, points_v_mean, align = \"center\", color = \"yellow\", edgecolor =\"black\")\n",
    "\n",
    "# Labeling the graph\n",
    "plt.title(\"Median Rating Points by Variety\")\n",
    "plt.xlabel(\"Varieties\")\n",
    "plt.ylabel(\"Rating Points\")\n",
    "plt.xticks(rotation = 90)\n",
    "\n",
    "# Making the y-values start at 80 to 90 because the range of the rating points began at 85. \n",
    "# Note: There is a payment threshold to get a wine rated; therefore, the rating points begin at 85.\n",
    "plt.ylim(85, 90.5)\n",
    "plt.show()"
   ]
  },
  {
   "cell_type": "code",
   "execution_count": null,
   "metadata": {},
   "outputs": [],
   "source": [
    "# Creating a bar graph Median points by varietal\n",
    "plt.bar(top_varieties, points_v_median, align = \"center\", color = \"yellow\", edgecolor =\"black\")\n",
    "\n",
    "# Labeling the graph\n",
    "plt.title(\"Median Rating Points by Variety\")\n",
    "plt.xlabel(\"Varieties\")\n",
    "plt.ylabel(\"Rating Points\")\n",
    "plt.xticks(rotation = 90)\n",
    "\n",
    "# Making the y-values start at 80 to 90 because the range of the rating points began at 85. \n",
    "# Note: There is a payment threshold to get a wine rated; therefore, the rating points begin at 85.\n",
    "plt.ylim(85, 90.5)\n",
    "plt.show()"
   ]
  },
  {
   "cell_type": "markdown",
   "metadata": {},
   "source": [
    "Difference between Average and Median"
   ]
  },
  {
   "cell_type": "code",
   "execution_count": null,
   "metadata": {},
   "outputs": [],
   "source": [
    "# Creating a bar graph Average Price by varietal\n",
    "plt.bar(top_varieties, price_v_mean, align = \"center\",color = \"green\", edgecolor =\"black\")\n",
    "\n",
    "# Labeling the graph\n",
    "plt.title(\"Average Price by Variety\")\n",
    "plt.xlabel(\"Varieties\")\n",
    "plt.ylabel(\"Price ($)\")\n",
    "plt.xticks(rotation = 90)\n",
    "plt.show()"
   ]
  },
  {
   "cell_type": "code",
   "execution_count": null,
   "metadata": {},
   "outputs": [],
   "source": [
    "# Creating a bar graph Median Price by varietal\n",
    "plt.bar(top_varieties, price_v_median, align = \"center\", color = \"green\", edgecolor =\"black\")\n",
    "\n",
    "# Labeling the graph\n",
    "plt.title(\"Median Price by Variety\")\n",
    "plt.xlabel(\"Varieties\")\n",
    "plt.ylabel(\"Price ($)\")\n",
    "plt.xticks(rotation = 90)\n",
    "plt.show()"
   ]
  },
  {
   "cell_type": "markdown",
   "metadata": {},
   "source": [
    "Difference between Average and Median"
   ]
  },
  {
   "cell_type": "markdown",
   "metadata": {},
   "source": [
    "## All Wine"
   ]
  },
  {
   "cell_type": "code",
   "execution_count": null,
   "metadata": {},
   "outputs": [],
   "source": [
    "# Get the Price and Points of Wines\n",
    "all_price = wine_df[\"Price\"]\n",
    "all_points = wine_df[\"Points\"]"
   ]
  },
  {
   "cell_type": "markdown",
   "metadata": {},
   "source": [
    "### Rating Points by Price"
   ]
  },
  {
   "cell_type": "code",
   "execution_count": null,
   "metadata": {},
   "outputs": [],
   "source": [
    "# Generate a scatter plot of the Rating Points by Price of all wines\n",
    "plt.scatter(all_price, all_points, color = \"yellow\", edgecolor = \"black\")\n",
    "\n",
    "# Labeling the graph\n",
    "plt.title(f\"All Wine Rating Points by Price\")\n",
    "plt.xlabel(\"Price ($)\")\n",
    "plt.ylabel(\"Points\")\n",
    "\n",
    "plt.ylim(75,105)\n",
    "plt.grid(True)\n",
    "\n",
    "plt.show()"
   ]
  },
  {
   "cell_type": "code",
   "execution_count": null,
   "metadata": {},
   "outputs": [],
   "source": [
    "# Calculate the correlation coefficient\n",
    "r = st.pearsonr(all_price, all_points)\n",
    "r = r[0]**2\n",
    "\n",
    "print(f'The correlation coefficient of price and rating points for all wines {round(r,2)}\\n')\n",
    "\n",
    "# Calculate the linear regression model \n",
    "\n",
    "(slope, intercept, rvalue, pvalue, stderr) = st.linregress(all_price, all_points)\n",
    "regress_values = all_price * slope + intercept\n",
    "line_eq = f' y = {round(slope,2)} x + {round(intercept,2)}'\n",
    "\n",
    "print(line_eq)"
   ]
  },
  {
   "cell_type": "code",
   "execution_count": null,
   "metadata": {},
   "outputs": [],
   "source": [
    "# Generate a scatter plot of the Rating Points by Price of all wines\n",
    "# with the linear regression line and equation\n",
    "\n",
    "plt.plot(all_price,regress_values, \"r-\")\n",
    "plt.scatter(all_price, all_points, color = \"yellow\", edgecolor = \"black\")\n",
    "\n",
    "# Labeling the graph with the Linear Regression\n",
    "plt.title(f\"All Wine Rating Points by Price\")\n",
    "plt.xlabel(\"Price ($)\")\n",
    "plt.ylabel(\"Points\")\n",
    "\n",
    "plt.ylim(75,105)\n",
    "plt.grid(True)\n",
    "plt.annotate(line_eq, (500,80), fontsize = 14, color =\"r\")\n",
    "\n",
    "plt.show()"
   ]
  },
  {
   "cell_type": "markdown",
   "metadata": {},
   "source": [
    "### Price by Rating"
   ]
  },
  {
   "cell_type": "code",
   "execution_count": null,
   "metadata": {},
   "outputs": [],
   "source": [
    "# Generate a scatter plot of the Price by Rating Points of all wines\n",
    "plt.scatter(all_points, all_price, color = \"green\", edgecolor = \"black\")\n",
    "\n",
    "# Labeling the graph\n",
    "plt.title(f\"All Wine Price by Rating Points\")\n",
    "plt.xlabel(\"Points\")\n",
    "plt.ylabel(\"Price ($)\")\n",
    "\n",
    "plt.xlim(75,105)\n",
    "plt.grid(True)\n",
    "\n",
    "plt.show()"
   ]
  },
  {
   "cell_type": "code",
   "execution_count": null,
   "metadata": {},
   "outputs": [],
   "source": [
    "# Calculate the correlation coefficient\n",
    "r = st.pearsonr(all_points, all_price)\n",
    "r = r[0]**2\n",
    "\n",
    "print(f'The correlation coefficient of price and rating points for all wines {round(r,2)}\\n')\n",
    "\n",
    "# Calculate the linear regression model \n",
    "\n",
    "(slope, intercept, rvalue, pvalue, stderr) = st.linregress(all_points, all_price)\n",
    "regress_values = all_points * slope + intercept\n",
    "line_eq = f' y = {round(slope,2)} x + {round(intercept,2)}'\n",
    "\n",
    "print(line_eq)"
   ]
  },
  {
   "cell_type": "code",
   "execution_count": null,
   "metadata": {},
   "outputs": [],
   "source": [
    "# Generate a scatter plot of the Price by Rating Points of all wines\n",
    "# with the linear regression line and equation\n",
    "\n",
    "plt.plot(all_points,regress_values, \"r-\")\n",
    "plt.scatter(all_points, all_price, color = \"green\", edgecolor = \"black\")\n",
    "\n",
    "# Labeling the graph with the Linear Regression\n",
    "plt.title(f\"All Wine Price by Rating Points\")\n",
    "plt.xlabel(\"Points\")\n",
    "plt.ylabel(\"Price ($)\")\n",
    "\n",
    "plt.xlim(75,105)\n",
    "plt.grid(True)\n",
    "plt.annotate(line_eq, (76,1500), fontsize = 14, color =\"r\")\n",
    "\n",
    "plt.show()"
   ]
  },
  {
   "cell_type": "markdown",
   "metadata": {},
   "source": [
    "## Wines Below $25"
   ]
  },
  {
   "cell_type": "code",
   "execution_count": null,
   "metadata": {},
   "outputs": [],
   "source": [
    "# Create a new dataframe with economical priced wine\n",
    "low_price = 25\n",
    "low_price_df = wine_df.loc[wine_df[\"Price\"] <= low_price]\n",
    "low_price_df"
   ]
  },
  {
   "cell_type": "code",
   "execution_count": null,
   "metadata": {},
   "outputs": [],
   "source": [
    "# Get the Price and Points of Economical Wines\n",
    "lp_price = low_price_df[\"Price\"]\n",
    "lp_points = low_price_df[\"Points\"]"
   ]
  },
  {
   "cell_type": "markdown",
   "metadata": {},
   "source": [
    "### Rating Points by Price"
   ]
  },
  {
   "cell_type": "code",
   "execution_count": null,
   "metadata": {},
   "outputs": [],
   "source": [
    "# Generate a scatter plot of the Rating Points by Price of economical wines\n",
    "plt.scatter(lp_price, lp_points, color = \"yellow\", edgecolor = \"black\")\n",
    "\n",
    "# Labeling the graph\n",
    "plt.title(f\"Economical Wines (${low_price} and below) Rating Points by Price\")\n",
    "plt.xlabel(\"Price ($)\")\n",
    "plt.ylabel(\"Points\")\n",
    "\n",
    "plt.ylim(75,100)\n",
    "plt.grid(True)\n",
    "\n",
    "plt.show()"
   ]
  },
  {
   "cell_type": "code",
   "execution_count": null,
   "metadata": {},
   "outputs": [],
   "source": [
    "# Calculate the correlation coefficient\n",
    "r = st.pearsonr(lp_price, lp_points)\n",
    "r = r[0]**2\n",
    "\n",
    "print(f'The correlation coefficient of price and rating points for expensive wines {round(r,2)}\\n')\n",
    "\n",
    "# Calculate the linear regression model \n",
    "\n",
    "(slope, intercept, rvalue, pvalue, stderr) = st.linregress(lp_price, lp_points)\n",
    "regress_values = lp_price * slope + intercept\n",
    "line_eq = f' y = {round(slope,2)} x + {round(intercept,2)}'\n",
    "\n",
    "print(line_eq)"
   ]
  },
  {
   "cell_type": "code",
   "execution_count": null,
   "metadata": {},
   "outputs": [],
   "source": [
    "# Generate a scatter plot of the Rating Points by Price of economical wines\n",
    "# with the linear regression line and equation\n",
    "\n",
    "plt.plot(lp_price,regress_values, \"r-\")\n",
    "plt.scatter(lp_price, lp_points, color = \"yellow\", edgecolor = \"black\")\n",
    "\n",
    "# Labeling the graph with the Linear Regression\n",
    "plt.title(f\"Economical Wines (${low_price} and below) Rating Points by Price\")\n",
    "plt.xlabel(\"Price ($)\")\n",
    "plt.ylabel(\"Points\")\n",
    "\n",
    "plt.ylim(75,100)\n",
    "plt.grid(True)\n",
    "plt.annotate(line_eq, (4,95), fontsize = 14, color =\"r\")\n",
    "\n",
    "plt.show()"
   ]
  },
  {
   "cell_type": "markdown",
   "metadata": {},
   "source": [
    "### Price by Rating Points"
   ]
  },
  {
   "cell_type": "code",
   "execution_count": null,
   "metadata": {},
   "outputs": [],
   "source": [
    "# Generate a scatter plot of the Price by Rating Points of Economical wines\n",
    "plt.scatter(lp_points, lp_price, color = \"green\", edgecolor = \"black\")\n",
    "\n",
    "# Labeling the graph\n",
    "plt.title(f\"Economical Wines (${low_price} and below) Price by Rating Points\")\n",
    "plt.xlabel(\"Points\")\n",
    "plt.ylabel(\"Price ($)\")\n",
    "\n",
    "plt.xlim(75,100)\n",
    "plt.grid(True)\n",
    "\n",
    "plt.show()"
   ]
  },
  {
   "cell_type": "code",
   "execution_count": null,
   "metadata": {},
   "outputs": [],
   "source": [
    "# Calculate the correlation coefficient\n",
    "r = st.pearsonr(lp_points, lp_price)\n",
    "r = r[0]**2\n",
    "\n",
    "print(f'The correlation coefficient of price and rating points for economical wines {round(r,2)}\\n')\n",
    "\n",
    "# Calculate the linear regression model \n",
    "\n",
    "(slope, intercept, rvalue, pvalue, stderr) = st.linregress(lp_points, lp_price)\n",
    "regress_values = lp_points * slope + intercept\n",
    "line_eq = f' y = {round(slope,2)} x + {round(intercept,2)}'\n",
    "\n",
    "print(line_eq)"
   ]
  },
  {
   "cell_type": "code",
   "execution_count": null,
   "metadata": {},
   "outputs": [],
   "source": [
    "# Generate a scatter plot of the Price by Rating Points of Economical wines\n",
    "# with the linear regression line and equation\n",
    "\n",
    "plt.plot(lp_points,regress_values, \"r-\")\n",
    "plt.scatter(lp_points, lp_price, color = \"green\", edgecolor = \"black\")\n",
    "\n",
    "# Labeling the graph with the Linear Regression\n",
    "plt.title(f\"Economical Wines (${low_price} and below) Price by Rating Points\")\n",
    "plt.xlabel(\"Points\")\n",
    "plt.ylabel(\"Price ($)\")\n",
    "\n",
    "plt.xlim(75,100)\n",
    "plt.grid(True)\n",
    "plt.annotate(line_eq, (89,3.5), fontsize = 14, color =\"r\")\n",
    "\n",
    "plt.show()"
   ]
  },
  {
   "cell_type": "markdown",
   "metadata": {},
   "source": [
    "## Wines Above $40"
   ]
  },
  {
   "cell_type": "code",
   "execution_count": null,
   "metadata": {},
   "outputs": [],
   "source": [
    "high_price = 50\n",
    "high_price_df = wine_df.loc[wine_df[\"Price\"] >= high_price]\n",
    "high_price_df"
   ]
  },
  {
   "cell_type": "code",
   "execution_count": null,
   "metadata": {},
   "outputs": [],
   "source": [
    "# Get the Price and Points of Expensive Wines\n",
    "hp_price = high_price_df[\"Price\"]\n",
    "hp_points = high_price_df[\"Points\"]"
   ]
  },
  {
   "cell_type": "code",
   "execution_count": null,
   "metadata": {},
   "outputs": [],
   "source": [
    "# Generate a scatter plot of the Rating Points by Price of expensive wines\n",
    "plt.scatter(hp_price, hp_points, color = \"yellow\", edgecolor = \"black\")\n",
    "\n",
    "plt.title(f\"Expensive Wines (${high_price} and above) Rating Points by Price\")\n",
    "plt.xlabel(\"Price ($)\")\n",
    "plt.ylabel(\"Points\")\n",
    "\n",
    "plt.ylim(75,105)\n",
    "plt.grid(True)\n",
    "\n",
    "plt.show()"
   ]
  },
  {
   "cell_type": "code",
   "execution_count": null,
   "metadata": {},
   "outputs": [],
   "source": [
    "# Calculate the correlation coefficient\n",
    "\n",
    "r = st.pearsonr(hp_price, hp_points)\n",
    "r = r[0]**2\n",
    "\n",
    "print(f'The correlation coefficient of price and rating points for expensive wines {round(r,2)}\\n')\n",
    "\n",
    "# Calculate the linear regression model \n",
    "\n",
    "(slope, intercept, rvalue, pvalue, stderr) = st.linregress(hp_price, hp_points)\n",
    "regress_values = hp_price * slope + intercept\n",
    "line_eq = f' y = {round(slope,2)} x + {round(intercept,2)}'\n",
    "\n",
    "print(line_eq)"
   ]
  },
  {
   "cell_type": "code",
   "execution_count": null,
   "metadata": {},
   "outputs": [],
   "source": [
    "# Generate a scatter plot of the Rating Points by Price of expensive wines\n",
    "# with the linear regression line and equation\n",
    "\n",
    "plt.plot(hp_price,regress_values, \"r-\")\n",
    "plt.scatter(hp_price, hp_points, color = \"yellow\", edgecolor = \"black\")\n",
    "\n",
    "# Labeling the graph with the Linear Regression\n",
    "plt.title(f\"Expensive Wines (${high_price} and below) Rating Points by Price\")\n",
    "plt.xlabel(\"Price ($)\")\n",
    "plt.ylabel(\"Points\")\n",
    "\n",
    "plt.ylim(75,105)\n",
    "plt.grid(True)\n",
    "plt.annotate(line_eq, (550,80), fontsize = 14, color =\"r\")\n",
    "\n",
    "plt.show()"
   ]
  },
  {
   "cell_type": "code",
   "execution_count": null,
   "metadata": {
    "scrolled": true
   },
   "outputs": [],
   "source": [
    "# Generate a scatter plot of the Price by Rating Points of expensive wines\n",
    "plt.scatter(hp_points, hp_price, color = \"green\", edgecolor = \"black\")\n",
    "\n",
    "# Labeling the graph\n",
    "plt.title(f\"Economical Wines (${high_price} and below) Price by Rating Points\")\n",
    "plt.xlabel(\"Points\")\n",
    "plt.ylabel(\"Price ($)\")\n",
    "\n",
    "plt.xlim()\n",
    "plt.grid(True)\n",
    "\n",
    "plt.show()"
   ]
  },
  {
   "cell_type": "code",
   "execution_count": null,
   "metadata": {},
   "outputs": [],
   "source": [
    "# Calculate the correlation coefficient\n",
    "r = st.pearsonr(hp_points, hp_price)\n",
    "r = r[0]**2\n",
    "\n",
    "print(f'The correlation coefficient of price and rating points for expensive wines {round(r,2)}\\n')\n",
    "\n",
    "# Calculate the linear regression model \n",
    "\n",
    "(slope, intercept, rvalue, pvalue, stderr) = st.linregress(hp_points, hp_price)\n",
    "regress_values = hp_points * slope + intercept\n",
    "line_eq = f' y = {round(slope,2)} x + {round(intercept,2)}'\n",
    "\n",
    "print(line_eq)"
   ]
  },
  {
   "cell_type": "code",
   "execution_count": null,
   "metadata": {},
   "outputs": [],
   "source": [
    "# Generate a scatter plot of the Price by rating Points of Expensive Wines\n",
    "# with the linear regression line and equation\n",
    "\n",
    "plt.plot(hp_points,regress_values, \"r-\")\n",
    "plt.scatter(hp_points, hp_price, color = \"green\", edgecolor = \"black\")\n",
    "\n",
    "# Labeling the graph with the Linear Regression\n",
    "plt.title(f\"Expensive Wines (${high_price} and below) Price by Rating Points\")\n",
    "plt.xlabel(\"Points\")\n",
    "plt.ylabel(\"Price ($)\")\n",
    "\n",
    "plt.xlim()\n",
    "plt.grid(True)\n",
    "plt.annotate(line_eq, (80,1500), fontsize = 14, color =\"r\")\n",
    "\n",
    "plt.show()"
   ]
  },
  {
   "cell_type": "markdown",
   "metadata": {},
   "source": [
    "## France vs Italy"
   ]
  },
  {
   "cell_type": "code",
   "execution_count": null,
   "metadata": {},
   "outputs": [],
   "source": [
    "# Create a new dataframe with a Country\n",
    "country_one = \"France\"\n",
    "\n",
    "# Create a new dataframe with another Country\n",
    "country_two = \"Italy\"\n",
    "\n",
    "# Put countries to compare into a list for for loop \n",
    "country_comparisons = [country_one, country_two]\n",
    "country_comparisons"
   ]
  },
  {
   "cell_type": "markdown",
   "metadata": {},
   "source": [
    "### Comparing Rating Points"
   ]
  },
  {
   "cell_type": "code",
   "execution_count": null,
   "metadata": {},
   "outputs": [],
   "source": [
    "# Create empty list to fill with points(for plotting)\n",
    "compare_points = []\n",
    "\n",
    "# Calculate the IQR and quantitatively determine if there are any potential outliers. \n",
    "#For loop the get the wine rating points of the wines in compared countries\n",
    "\n",
    "for country in country_comparisons:\n",
    "    wine_results = wine_df.loc[wine_df[\"Country\"] == country]\n",
    "    \n",
    "    # Locate the rows which Country on Wine_df and get the wine rating points\n",
    "  \n",
    "    wine_points = wine_results[\"Points\"]\n",
    "    \n",
    "    # Add subset\n",
    "    \n",
    "    compare_points.append(wine_points)\n",
    "    \n",
    "    # Determine outliers using upper and lower bounds using quartiles\n",
    "  \n",
    "    quartiles = wine_points.quantile([.25, .5, .75])\n",
    "    lowerq = quartiles[0.25]\n",
    "    upperq = quartiles[0.75]\n",
    "    iqr = upperq - lowerq\n",
    "    \n",
    "    lower_bound = lowerq - (1.5 * iqr)\n",
    "    upper_bound = upperq + (1.5 * iqr)\n",
    "    \n",
    "    print(f\"The interquartile range of Tumor Volume for {country} is: {round(iqr,2)}\")\n",
    "    print(f\"The values below {round(lower_bound,2)} could be outlier for {country}\")\n",
    "    print(f\"The values above {round(upper_bound,2)} could be outlier for {country}\\n\")"
   ]
  },
  {
   "cell_type": "code",
   "execution_count": null,
   "metadata": {},
   "outputs": [],
   "source": [
    "# Generate a box plot of the rating points of each wine in 2 compared countries\n",
    "outlier = dict(markerfacecolor = 'yellow', marker = \"o\")\n",
    "fig1,ax1 = plt.subplots()\n",
    "ax1.boxplot(compare_points, labels = country_comparisons, showfliers = True, flierprops = outlier)\n",
    "ax1.set_title(f\"Wine Rating Points of {country_one} and {country_two}\")\n",
    "ax1.set_ylim(75,105)\n",
    "ax1.set_ylabel(\"Rating Points\")\n",
    "ax1.set_xlabel(\"Countries\")\n",
    "ax1.grid(True)\n",
    "plt.show()"
   ]
  },
  {
   "cell_type": "markdown",
   "metadata": {},
   "source": [
    "### Comparing Price"
   ]
  },
  {
   "cell_type": "code",
   "execution_count": null,
   "metadata": {},
   "outputs": [],
   "source": [
    "# Create empty list to fill with price(for plotting)\n",
    "compare_price = []\n",
    "\n",
    "# Calculate the IQR and quantitatively determine if there are any potential outliers. \n",
    "#For loop the get the wine price of the wines in compared countries\n",
    "\n",
    "for country in country_comparisons:\n",
    "    wine_results = wine_df.loc[wine_df[\"Country\"] == country]\n",
    "    \n",
    "    # Locate the rows which Country on Wine_df and get the wine price\n",
    "  \n",
    "    wine_price = wine_results[\"Price\"]\n",
    "    \n",
    "    # Add subset\n",
    "    \n",
    "    compare_price.append(wine_price)\n",
    "    \n",
    "    # Determine outliers using upper and lower bounds using quartiles\n",
    "  \n",
    "    quartiles = wine_price.quantile([.25, .5, .75])\n",
    "    lowerq = quartiles[0.25]\n",
    "    upperq = quartiles[0.75]\n",
    "    iqr = upperq - lowerq\n",
    "    \n",
    "    lower_bound = lowerq - (1.5 * iqr)\n",
    "    upper_bound = upperq + (1.5 * iqr)\n",
    "    \n",
    "    print(f\"The interquartile range of Tumor Volume for {country} is: {round(iqr,2)}\")\n",
    "    print(f\"The values below {round(lower_bound,2)} could be outlier for {country}\")\n",
    "    print(f\"The values above {round(upper_bound,2)} could be outlier for {country}\\n\")"
   ]
  },
  {
   "cell_type": "code",
   "execution_count": null,
   "metadata": {},
   "outputs": [],
   "source": [
    "# Generate a box plot of the price of each wine in 2 compared countries\n",
    "outlier = dict(markerfacecolor = 'green', marker = \"o\")\n",
    "fig1,ax1 = plt.subplots()\n",
    "ax1.boxplot(compare_price, labels = country_comparisons, showfliers = True, flierprops = outlier)\n",
    "\n",
    "ax1.set_title(f\"Wine Price of {country_one} and {country_two}\")\n",
    "ax1.set_ylabel(\"Price ($)\")\n",
    "ax1.set_xlabel(\"Countries\")\n",
    "\n",
    "ax1.grid(True)\n",
    "plt.show()"
   ]
  },
  {
   "cell_type": "code",
   "execution_count": null,
   "metadata": {},
   "outputs": [],
   "source": [
    "# Generate a box plot of the price of each wine in 2 compared countries\n",
    "outlier = dict(markerfacecolor = 'green', marker = \"o\")\n",
    "fig1,ax1 = plt.subplots()\n",
    "ax1.boxplot(compare_price, labels = country_comparisons, showfliers = False)\n",
    "\n",
    "ax1.set_title(f\"Wine Price of {country_one} and {country_two}\")\n",
    "ax1.set_ylabel(\"Price ($)\")\n",
    "ax1.set_xlabel(\"Countries\")\n",
    "\n",
    "ax1.grid(True)\n",
    "plt.show()"
   ]
  },
  {
   "cell_type": "markdown",
   "metadata": {},
   "source": [
    "### Comparing Rating Points by Price Regression"
   ]
  },
  {
   "cell_type": "markdown",
   "metadata": {},
   "source": [
    "#### Country One"
   ]
  },
  {
   "cell_type": "code",
   "execution_count": null,
   "metadata": {},
   "outputs": [],
   "source": [
    "# Get the price and points of country one\n",
    "wine_results_one = wine_df.loc[wine_df[\"Country\"] == country_one]  \n",
    "country_one_points = wine_results[\"Points\"]\n",
    "country_one_price = wine_results[\"Price\"]\n",
    "country_one_price"
   ]
  },
  {
   "cell_type": "code",
   "execution_count": null,
   "metadata": {},
   "outputs": [],
   "source": [
    "# Create points by price scatter plot for country one\n",
    "plt.scatter(country_one_price, country_one_points, color = \"yellow\", edgecolor = \"black\")\n",
    "\n",
    "# Labeling the graph\n",
    "plt.title(f\"Wines from {country_one} Rating Points by Price\")\n",
    "plt.xlabel(\"Price ($)\")\n",
    "plt.ylabel(\"Point\")\n",
    "\n",
    "plt.ylim(75,105)\n",
    "plt.grid(True)\n",
    "plt.show()"
   ]
  },
  {
   "cell_type": "code",
   "execution_count": null,
   "metadata": {},
   "outputs": [],
   "source": [
    "# Calculate the correlation coefficient\n",
    "r = st.pearsonr(country_one_price, country_one_points)\n",
    "r = r[0]**2\n",
    "\n",
    "print(f'The correlation coefficient of price and rating points for wines from {country_one} {round(r,2)}\\n')\n",
    "\n",
    "# Calculate the linear regression model \n",
    "\n",
    "(slope, intercept, rvalue, pvalue, stderr) = st.linregress(country_one_price, country_one_points)\n",
    "regress_values = country_one_price * slope + intercept\n",
    "line_eq = f' y = {round(slope,2)} x + {round(intercept,2)}'\n",
    "\n",
    "print(line_eq)"
   ]
  },
  {
   "cell_type": "code",
   "execution_count": null,
   "metadata": {},
   "outputs": [],
   "source": [
    "# Generate a scatter plot of the Rating Points by Price of wines from country one\n",
    "# with the linear regression line and equation\n",
    "\n",
    "plt.plot(country_one_price,regress_values, \"r-\")\n",
    "plt.scatter(country_one_price, country_one_points, color = \"yellow\", edgecolor = \"black\")\n",
    "\n",
    "# Labeling the graph with the Linear Regression\n",
    "plt.title(f\"Wines from {country_one} Rating Points by Price\")\n",
    "plt.xlabel(\"Price ($)\")\n",
    "plt.ylabel(\"Points\")\n",
    "\n",
    "plt.ylim(75,105)\n",
    "plt.grid(True)\n",
    "plt.annotate(line_eq, (500,80), fontsize = 14, color =\"r\")\n",
    "\n",
    "plt.show()"
   ]
  },
  {
   "cell_type": "markdown",
   "metadata": {},
   "source": [
    "#### Country Two"
   ]
  },
  {
   "cell_type": "code",
   "execution_count": null,
   "metadata": {},
   "outputs": [],
   "source": [
    "# Get the price and points of country one\n",
    "wine_results_two = wine_df.loc[wine_df[\"Country\"] == country_two]  \n",
    "country_two_points = wine_results[\"Points\"]\n",
    "country_two_price = wine_results[\"Price\"]\n",
    "country_two_price"
   ]
  },
  {
   "cell_type": "code",
   "execution_count": null,
   "metadata": {},
   "outputs": [],
   "source": [
    "# Create points by price scatter plot for country two\n",
    "plt.scatter(country_two_price, country_two_points, color = \"yellow\", edgecolor = \"black\")\n",
    "\n",
    "# Labeling the graph\n",
    "plt.title(f\"Wines from {country_two} Rating Points by Price\")\n",
    "plt.xlabel(\"Price ($)\")\n",
    "plt.ylabel(\"Point\")\n",
    "\n",
    "plt.ylim(75,105)\n",
    "plt.grid(True)\n",
    "\n",
    "plt.show()"
   ]
  },
  {
   "cell_type": "code",
   "execution_count": null,
   "metadata": {},
   "outputs": [],
   "source": [
    "# Calculate the correlation coefficient\n",
    "r = st.pearsonr(country_two_price, country_two_points)\n",
    "r = r[0]**2\n",
    "\n",
    "print(f'The correlation coefficient of price and rating points for wines from {country_two} {round(r,2)}\\n')\n",
    "\n",
    "# Calculate the linear regression model \n",
    "\n",
    "(slope, intercept, rvalue, pvalue, stderr) = st.linregress(country_two_price, country_two_points)\n",
    "regress_values = country_two_price * slope + intercept\n",
    "line_eq = f' y = {round(slope,2)} x + {round(intercept,2)}'\n",
    "\n",
    "print(line_eq)"
   ]
  },
  {
   "cell_type": "code",
   "execution_count": null,
   "metadata": {},
   "outputs": [],
   "source": [
    "# Generate a scatter plot of the Rating Points by Price of wines from country two\n",
    "# with the linear regression line and equation\n",
    "\n",
    "plt.plot(country_two_price,regress_values, \"r-\")\n",
    "plt.scatter(country_two_price, country_two_points, color = \"yellow\", edgecolor = \"black\")\n",
    "\n",
    "# Labeling the graph with the Linear Regression\n",
    "plt.title(f\"Wines from {country_two} Rating Points by Price\")\n",
    "plt.xlabel(\"Price ($)\")\n",
    "plt.ylabel(\"Points\")\n",
    "\n",
    "plt.ylim(75,105)\n",
    "plt.grid(True)\n",
    "plt.annotate(line_eq, (500,80), fontsize = 14, color =\"r\")\n",
    "\n",
    "plt.show()"
   ]
  },
  {
   "cell_type": "markdown",
   "metadata": {},
   "source": [
    "### Tried to combine the scatter plots"
   ]
  },
  {
   "cell_type": "code",
   "execution_count": null,
   "metadata": {},
   "outputs": [],
   "source": [
    "# Create a grah of rating points by price for both country one and two\n",
    "fig = plt.figure()\n",
    "ax1 = fig.add_subplot()\n",
    "\n",
    "ax1.scatter(country_one_price, country_one_points, s=10, c='blue', marker=\"s\", label= country_one)\n",
    "ax1.scatter(country_two_price,country_two_points, s=10, c='orange', marker=\"o\", label= country_two)\n",
    "\n",
    "\n",
    "plt.title(f\"Wines from {country_one} and {country_two} Rating Points by Price\")\n",
    "plt.xlabel(\"Price ($)\")\n",
    "plt.ylabel(\"Point\")\n",
    "\n",
    "plt.legend(loc='best')\n",
    "plt.grid(True)\n",
    "\n",
    "plt.show()"
   ]
  },
  {
   "cell_type": "markdown",
   "metadata": {},
   "source": [
    "### Comparing Price by Rating Points Regression"
   ]
  },
  {
   "cell_type": "code",
   "execution_count": null,
   "metadata": {},
   "outputs": [],
   "source": []
  },
  {
   "cell_type": "code",
   "execution_count": null,
   "metadata": {},
   "outputs": [],
   "source": []
  },
  {
   "cell_type": "code",
   "execution_count": null,
   "metadata": {},
   "outputs": [],
   "source": []
  },
  {
   "cell_type": "code",
   "execution_count": null,
   "metadata": {},
   "outputs": [],
   "source": [
    "# jeannaej's code ends here"
   ]
  },
  {
   "cell_type": "code",
   "execution_count": null,
   "metadata": {},
   "outputs": [],
   "source": [
    "# natalia's code starts here"
   ]
  },
  {
   "cell_type": "code",
   "execution_count": null,
   "metadata": {},
   "outputs": [],
   "source": [
    "wine_df.nunique()"
   ]
  },
  {
   "cell_type": "code",
   "execution_count": null,
   "metadata": {},
   "outputs": [],
   "source": [
    "US_only = wine_df.loc[wine_df[\"Country\"] == \"US\"]\n",
    "US_only"
   ]
  },
  {
   "cell_type": "code",
   "execution_count": null,
   "metadata": {},
   "outputs": [],
   "source": [
    "us_var = US_only.groupby(\"Variety\")\n",
    "us_varieties = us_var.count()\n",
    "us_varieties"
   ]
  },
  {
   "cell_type": "code",
   "execution_count": null,
   "metadata": {},
   "outputs": [],
   "source": [
    "# Summing all varieties that will be lummped together\n",
    "other = 0\n",
    "for variety, row in us_varieties.iterrows():\n",
    "    if row[\"Country\"] < 1000:\n",
    "        added = row[\"Country\"]\n",
    "        other = other + added\n",
    "    else:\n",
    "        pass\n",
    "        \n",
    "print(other)"
   ]
  },
  {
   "cell_type": "code",
   "execution_count": null,
   "metadata": {},
   "outputs": [],
   "source": [
    "# Returns the top 40 varietals from US wineries\n",
    "us_var_top = us_varieties.loc[us_varieties[\"Country\"] >= 1000]"
   ]
  },
  {
   "cell_type": "code",
   "execution_count": null,
   "metadata": {},
   "outputs": [],
   "source": [
    "us_var_top.head()"
   ]
  },
  {
   "cell_type": "code",
   "execution_count": null,
   "metadata": {},
   "outputs": [],
   "source": [
    "us_var_top.loc[\"Other Wine (206 Varietals)\"] = [12575,12575,12575,12575,12575]\n",
    "us_var_top = us_var_top.sort_values(by=\"Country\", ascending=False)\n",
    "us_var_top"
   ]
  },
  {
   "cell_type": "code",
   "execution_count": null,
   "metadata": {},
   "outputs": [],
   "source": [
    "# Labels for the sections of our pie chart\n",
    "labels = us_var_top.index\n",
    "\n",
    "# The values of each section of the pie chart\n",
    "sizes = us_var_top[\"Country\"]\n",
    "\n",
    "# The colors of each section of the pie chart\n",
    "# colors = [\"red\", \"orange\", \"lightcoral\", \"lightskyblue\"]\n",
    "\n",
    "# Seperate the top 3 Varietals\n",
    "explode = (0, 0.1, 0.1, 0.1, 0, 0, 0, 0, 0, 0, 0, 0)"
   ]
  },
  {
   "cell_type": "code",
   "execution_count": null,
   "metadata": {},
   "outputs": [],
   "source": [
    "plt.pie(sizes, labels=labels, autopct=\"%1.1f%%\", shadow=True, explode=explode, radius=2.5)\n",
    "plt.show()"
   ]
  },
  {
   "cell_type": "code",
   "execution_count": null,
   "metadata": {},
   "outputs": [],
   "source": [
    "province = US_only.groupby(\"Province\").count().sort_values(by=\"Country\", ascending=False)\n",
    "province"
   ]
  },
  {
   "cell_type": "code",
   "execution_count": null,
   "metadata": {},
   "outputs": [],
   "source": [
    "# Summing all varieties that will be lummped together\n",
    "other_prov = 0\n",
    "for prov, row in province.iterrows():\n",
    "    if row[\"Country\"] < 100:\n",
    "        added_prov = row[\"Country\"]\n",
    "        other_prov = other_prov + added_prov\n",
    "    else:\n",
    "        pass\n",
    "        \n",
    "print(other_prov)"
   ]
  },
  {
   "cell_type": "code",
   "execution_count": null,
   "metadata": {},
   "outputs": [],
   "source": [
    "# Returns the top wine producing provinces in the US\n",
    "province_top = province.loc[province[\"Country\"] >1000]\n",
    "province_top"
   ]
  },
  {
   "cell_type": "code",
   "execution_count": null,
   "metadata": {},
   "outputs": [],
   "source": [
    "province_top.loc[\"Other Provinces (469 Provinces)\"] = [469,469,469,469,469]\n",
    "province_top = province_top.sort_values(by=\"Country\", ascending=False)\n",
    "province_top"
   ]
  },
  {
   "cell_type": "code",
   "execution_count": null,
   "metadata": {},
   "outputs": [],
   "source": [
    "# Labels for the sections of our pie chart\n",
    "labels = province_top.index\n",
    "\n",
    "# The values of each section of the pie chart\n",
    "sizes = province_top[\"Country\"]\n",
    "\n",
    "# The colors of each section of the pie chart\n",
    "# colors = [\"red\", \"orange\", \"lightcoral\", \"lightskyblue\"]\n",
    "\n",
    "# Seperate the top 3 Varietals\n",
    "explode = (0.1, 0, 0, 0, 0)"
   ]
  },
  {
   "cell_type": "code",
   "execution_count": null,
   "metadata": {},
   "outputs": [],
   "source": [
    "plt.pie(sizes, labels=labels, autopct=\"%1.1f%%\", shadow=True, explode=explode, startangle=90, radius=2.5)\n",
    "plt.show()"
   ]
  },
  {
   "cell_type": "code",
   "execution_count": null,
   "metadata": {},
   "outputs": [],
   "source": [
    "patches, text = plt.pie(sizes, shadow=True, explode=explode, startangle=90, radius=2.5)\n",
    "    \n",
    "plt.legend(patches, labels, loc=\"best\", bbox_to_anchor=(-0.1,1.), fontsize=12)\n",
    "plt.show()\n",
    "\n",
    "# Avoiding overlapping labels\n",
    "# https://stackoverflow.com/questions/23577505/how-to-avoid-overlapping-of-labels-autopct-in-a-matplotlib-pie-chart \n",
    "# Accessed 14 Feb 2021"
   ]
  },
  {
   "cell_type": "code",
   "execution_count": null,
   "metadata": {},
   "outputs": [],
   "source": [
    "ratio_df = wine_df\n",
    "ratio_df[\"Points:Price\"] = ratio_df[\"Points\"]/ratio_df[\"Price\"]\n",
    "ratio_df"
   ]
  },
  {
   "cell_type": "code",
   "execution_count": null,
   "metadata": {},
   "outputs": [],
   "source": [
    "mean = ratio_df.groupby(\"Country\").mean()\n",
    "mean"
   ]
  },
  {
   "cell_type": "code",
   "execution_count": null,
   "metadata": {},
   "outputs": [],
   "source": [
    "median = ratio_df.groupby(\"Country\").median()\n",
    "median"
   ]
  },
  {
   "cell_type": "code",
   "execution_count": null,
   "metadata": {},
   "outputs": [],
   "source": [
    "mean_median = pd.merge(mean, median, left_index=True, right_index=True, suffixes=(\"_mean\",\"_median\"))\n",
    "best = mean_median.sort_values(by=\"Points:Price_mean\", ascending=False)"
   ]
  },
  {
   "cell_type": "code",
   "execution_count": null,
   "metadata": {},
   "outputs": [],
   "source": [
    "x_axis_country = best.index\n",
    "point_per = best[\"Points:Price_mean\"]\n",
    "plt.bar(x_axis_country, point_per, align=\"center\")\n",
    "plt.xticks(rotation=45)\n",
    "plt.xlabel(\"Country\")\n",
    "plt.ylabel(\"Points per Dollar\")\n",
    "plt.title(\"Average Points per Dollar\")\n",
    "\n",
    "plt.show()"
   ]
  },
  {
   "cell_type": "code",
   "execution_count": null,
   "metadata": {},
   "outputs": [],
   "source": [
    "# natalia's code ends here"
   ]
  },
  {
   "cell_type": "code",
   "execution_count": null,
   "metadata": {},
   "outputs": [],
   "source": [
    "# sharon's code starts here"
   ]
  },
  {
   "cell_type": "code",
   "execution_count": null,
   "metadata": {},
   "outputs": [],
   "source": [
    "# sharon's code ends here"
   ]
  }
 ],
 "metadata": {
  "kernelspec": {
   "display_name": "Python 3",
   "language": "python",
   "name": "python3"
  },
  "language_info": {
   "codemirror_mode": {
    "name": "ipython",
    "version": 3
   },
   "file_extension": ".py",
   "mimetype": "text/x-python",
   "name": "python",
   "nbconvert_exporter": "python",
   "pygments_lexer": "ipython3",
   "version": "3.6.10"
  }
 },
 "nbformat": 4,
 "nbformat_minor": 4
}
