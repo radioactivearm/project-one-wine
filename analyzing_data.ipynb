{
 "cells": [
  {
   "cell_type": "code",
   "execution_count": null,
   "metadata": {},
   "outputs": [],
   "source": [
    "#import dependencies\n",
    "import pandas as pd\n",
    "import matplotlib.pyplot as plt\n",
    "import numpy as np\n",
    "import csv\n",
    "from scipy.stats import linregress"
   ]
  },
  {
   "cell_type": "code",
   "execution_count": null,
   "metadata": {},
   "outputs": [],
   "source": [
    "# import .csv\n",
    "csv_path = \"wine_data.csv\"\n",
    "wine_df = pd.read_csv(csv_path, low_memory=False)\n",
    "wine_df"
   ]
  },
  {
   "cell_type": "code",
   "execution_count": null,
   "metadata": {},
   "outputs": [],
   "source": [
    "# jeanaej's code starts here"
   ]
  },
  {
   "cell_type": "code",
   "execution_count": null,
   "metadata": {},
   "outputs": [],
   "source": [
    "# Read the cleaned wine data csv\n",
    "wine_data = pd.read_csv(\"wine_data.csv\")\n",
    "wine_data.head()"
   ]
  },
  {
   "cell_type": "code",
   "execution_count": null,
   "metadata": {},
   "outputs": [],
   "source": [
    "# Get the countries\n",
    "countries = wine_data[\"Country\"].unique()\n",
    "countries = sorted(countries)\n",
    "countries"
   ]
  },
  {
   "cell_type": "code",
   "execution_count": null,
   "metadata": {},
   "outputs": [],
   "source": [
    "# Grouping by country\n",
    "country_group = wine_data.groupby([\"Country\"])\n",
    "points_c_mean = country_group[\"Points\"].mean()\n",
    "price_c_mean = country_group[\"Price\"].mean()\n",
    "points_c_median = country_group[\"Points\"].median()\n",
    "price_c_median = country_group[\"Price\"].median()"
   ]
  },
  {
   "cell_type": "code",
   "execution_count": null,
   "metadata": {},
   "outputs": [],
   "source": [
    "# Creating a bar graph Average rating by country\n",
    "plt.bar(countries, points_c_mean, align = \"center\")\n",
    "\n",
    "plt.title(\"Average Rating Points by Country\")\n",
    "plt.xlabel(\"Countries\")\n",
    "plt.ylabel(\"Rating Point\")\n",
    "plt.xticks(rotation = 90)\n",
    "plt.show()"
   ]
  },
  {
   "cell_type": "code",
   "execution_count": null,
   "metadata": {},
   "outputs": [],
   "source": [
    "# Creating a bar graph Median rating by country\n",
    "plt.bar(countries, points_c_median, align = \"center\")\n",
    "\n",
    "plt.title(\"Median Rating Points by Country\")\n",
    "plt.xlabel(\"Countries\")\n",
    "plt.ylabel(\"Rating Point\")\n",
    "plt.xticks(rotation = 90)\n",
    "plt.show()"
   ]
  },
  {
   "cell_type": "code",
   "execution_count": null,
   "metadata": {},
   "outputs": [],
   "source": [
    "# Creating a bar graph Price by country\n",
    "plt.bar(countries, price_c_mean, align = \"center\")\n",
    "\n",
    "plt.title(\"Average Price by Country\")\n",
    "plt.xlabel(\"Countries\")\n",
    "plt.ylabel(\"Price ($)\")\n",
    "plt.xticks(rotation = 90)\n",
    "plt.show()"
   ]
  },
  {
   "cell_type": "code",
   "execution_count": null,
   "metadata": {},
   "outputs": [],
   "source": [
    "# Creating a bar graph Price by country\n",
    "plt.bar(countries, price_c_median, align = \"center\")\n",
    "\n",
    "plt.title(\"Median Price by Country\")\n",
    "plt.xlabel(\"Countries\")\n",
    "plt.ylabel(\"Price ($)\")\n",
    "plt.xticks(rotation = 90)\n",
    "plt.show()"
   ]
  },
  {
   "cell_type": "code",
   "execution_count": null,
   "metadata": {},
   "outputs": [],
   "source": [
    "# Grouping by country\n",
    "variety_group = wine_data.groupby([\"Variety\"])\n",
    "points_v_mean = variety_group[\"Points\"].mean()\n",
    "price_v_mean = variety_group[\"Price\"].mean()\n",
    "points_v_median = variety_group[\"Points\"].median()\n",
    "price_v_median = variety_group[\"Price\"].median()\n",
    "varieties = wine_data[\"Variety\"].unique()\n",
    "varieties = sorted(varieties)\n",
    "varieties"
   ]
  },
  {
   "cell_type": "code",
   "execution_count": null,
   "metadata": {},
   "outputs": [],
   "source": [
    "# Creating a bar graph Average points by varietal\n",
    "plt.bar(varieties, points_v_mean, align = \"center\")\n",
    "\n",
    "plt.title(\"Average Rating Points by Variety\")\n",
    "plt.xlabel(\"Varieties\")\n",
    "plt.ylabel(\"Rating Points\")\n",
    "plt.xticks(rotation = 90)\n",
    "plt.show()"
   ]
  },
  {
   "cell_type": "code",
   "execution_count": null,
   "metadata": {},
   "outputs": [],
   "source": [
    "# Creating a bar graph Average points by varietal\n",
    "plt.bar(varieties, points_v_median, align = \"center\")\n",
    "\n",
    "plt.title(\"Median Rating Points by Variety\")\n",
    "plt.xlabel(\"Varieties\")\n",
    "plt.ylabel(\"Rating Points\")\n",
    "plt.xticks(rotation = 90)\n",
    "plt.show()"
   ]
  },
  {
   "cell_type": "code",
   "execution_count": null,
   "metadata": {},
   "outputs": [],
   "source": [
    "# Creating a bar graph Average Price by varietal\n",
    "plt.bar(varieties, price_v_mean, align = \"center\")\n",
    "\n",
    "plt.title(\"Average Price by Variety\")\n",
    "plt.xlabel(\"Varieties\")\n",
    "plt.ylabel(\"Price ($)\")\n",
    "plt.xticks(rotation = 90)\n",
    "plt.show()"
   ]
  },
  {
   "cell_type": "code",
   "execution_count": null,
   "metadata": {},
   "outputs": [],
   "source": [
    "# Creating a bar graph Average Price by varietal\n",
    "plt.bar(varieties, price_v_median, align = \"center\")\n",
    "\n",
    "plt.title(\"Median Price by Variety\")\n",
    "plt.xlabel(\"Varieties\")\n",
    "plt.ylabel(\"Price ($)\")\n",
    "plt.xticks(rotation = 90)\n",
    "plt.show()"
   ]
  },
  {
   "cell_type": "code",
   "execution_count": null,
   "metadata": {},
   "outputs": [],
   "source": [
    "# Getting $40 or more\n",
    "wine_over_40 = wine_data.loc[wine_data[\"Price\"] >= 40]\n",
    "wine_over_40"
   ]
  },
  {
   "cell_type": "code",
   "execution_count": null,
   "metadata": {},
   "outputs": [],
   "source": [
    "# Grouping by Variety\n",
    "variety_o40_group = wine_over_40.groupby([\"Variety\"])\n",
    "points_v_o40_mean = variety_group[\"Points\"].mean()\n",
    "price_v_o40_mean = variety_group[\"Price\"].mean()\n",
    "varieties_o40 = wine_data[\"Variety\"].unique()\n",
    "varieties_o40 = sorted(varieties)\n",
    "price_v_o40_mean"
   ]
  },
  {
   "cell_type": "code",
   "execution_count": null,
   "metadata": {},
   "outputs": [],
   "source": [
    "# Creating a bar graph Average points by varietal\n",
    "plt.bar(varieties_o40, points_v_o40_mean, align = \"center\")\n",
    "\n",
    "plt.title(\"Average Rating Points by Variety\")\n",
    "plt.xlabel(\"Varieties\")\n",
    "plt.ylabel(\"Average Rating Points\")\n",
    "plt.xticks(rotation = 90)\n",
    "plt.show()"
   ]
  },
  {
   "cell_type": "code",
   "execution_count": null,
   "metadata": {},
   "outputs": [],
   "source": [
    "# Creating a bar graph Average Price by varietal\n",
    "plt.bar(varieties_o40, price_v_o40_mean, align = \"center\")\n",
    "\n",
    "plt.title(\"Average Price by Variety\")\n",
    "plt.xlabel(\"Varieties\")\n",
    "plt.ylabel(\"Average Price\")\n",
    "plt.xticks(rotation = 90)\n",
    "plt.show()"
   ]
  },
  {
   "cell_type": "code",
   "execution_count": null,
   "metadata": {},
   "outputs": [],
   "source": [
    "# to do the over $40 need to get the average that is over $40. Think of possibly doing a For Loop?"
   ]
  },
  {
   "cell_type": "code",
   "execution_count": null,
   "metadata": {},
   "outputs": [],
   "source": []
  },
  {
   "cell_type": "code",
   "execution_count": null,
   "metadata": {},
   "outputs": [],
   "source": []
  },
  {
   "cell_type": "code",
   "execution_count": null,
   "metadata": {},
   "outputs": [],
   "source": []
  },
  {
   "cell_type": "code",
   "execution_count": null,
   "metadata": {},
   "outputs": [],
   "source": []
  },
  {
   "cell_type": "code",
   "execution_count": null,
   "metadata": {},
   "outputs": [],
   "source": [
    "# jeannaej's code ends here"
   ]
  },
  {
   "cell_type": "code",
   "execution_count": null,
   "metadata": {},
   "outputs": [],
   "source": [
    "# natalia's code starts here"
   ]
  },
  {
   "cell_type": "code",
   "execution_count": null,
   "metadata": {},
   "outputs": [],
   "source": [
    "wine_df.nunique()"
   ]
  },
  {
   "cell_type": "code",
   "execution_count": null,
   "metadata": {},
   "outputs": [],
   "source": [
    "US_only = wine_df.loc[wine_df[\"Country\"] == \"US\"]\n",
    "US_only"
   ]
  },
  {
   "cell_type": "code",
   "execution_count": null,
   "metadata": {},
   "outputs": [],
   "source": [
    "us_var = US_only.groupby(\"Variety\")\n",
    "us_varieties = us_var.count()\n",
    "us_varieties"
   ]
  },
  {
   "cell_type": "code",
   "execution_count": null,
   "metadata": {},
   "outputs": [],
   "source": [
    "# Summing all varieties that will be lummped together\n",
    "other = 0\n",
    "for variety, row in us_varieties.iterrows():\n",
    "    if row[\"Country\"] < 1000:\n",
    "        added = row[\"Country\"]\n",
    "        other = other + added\n",
    "    else:\n",
    "        pass\n",
    "        \n",
    "print(other)"
   ]
  },
  {
   "cell_type": "code",
   "execution_count": null,
   "metadata": {},
   "outputs": [],
   "source": [
    "# Returns the top 40 varietals from US wineries\n",
    "us_var_top = us_varieties.loc[us_varieties[\"Country\"] >= 1000]"
   ]
  },
  {
   "cell_type": "code",
   "execution_count": null,
   "metadata": {},
   "outputs": [],
   "source": [
    "us_var_top.head()"
   ]
  },
  {
   "cell_type": "code",
   "execution_count": null,
   "metadata": {},
   "outputs": [],
   "source": [
    "us_var_top.loc[\"Other Wine (206 Varietals)\"] = [12575,12575,12575,12575,12575]\n",
    "us_var_top = us_var_top.sort_values(by=\"Country\", ascending=False)\n",
    "us_var_top"
   ]
  },
  {
   "cell_type": "code",
   "execution_count": null,
   "metadata": {},
   "outputs": [],
   "source": [
    "# Labels for the sections of our pie chart\n",
    "labels = us_var_top.index\n",
    "\n",
    "# The values of each section of the pie chart\n",
    "sizes = us_var_top[\"Country\"]\n",
    "\n",
    "# The colors of each section of the pie chart\n",
    "# colors = [\"red\", \"orange\", \"lightcoral\", \"lightskyblue\"]\n",
    "\n",
    "# Seperate the top 3 Varietals\n",
    "explode = (0, 0.1, 0.1, 0.1, 0, 0, 0, 0, 0, 0, 0, 0)"
   ]
  },
  {
   "cell_type": "code",
   "execution_count": null,
   "metadata": {},
   "outputs": [],
   "source": [
    "plt.pie(sizes, labels=labels, autopct=\"%1.1f%%\", shadow=True, explode=explode, radius=2.5)\n",
    "plt.show()"
   ]
  },
  {
   "cell_type": "code",
   "execution_count": null,
   "metadata": {},
   "outputs": [],
   "source": [
    "province = US_only.groupby(\"Province\").count().sort_values(by=\"Country\", ascending=False)\n",
    "province"
   ]
  },
  {
   "cell_type": "code",
   "execution_count": null,
   "metadata": {},
   "outputs": [],
   "source": [
    "# Summing all varieties that will be lummped together\n",
    "other_prov = 0\n",
    "for prov, row in province.iterrows():\n",
    "    if row[\"Country\"] < 100:\n",
    "        added_prov = row[\"Country\"]\n",
    "        other_prov = other_prov + added_prov\n",
    "    else:\n",
    "        pass\n",
    "        \n",
    "print(other_prov)"
   ]
  },
  {
   "cell_type": "code",
   "execution_count": null,
   "metadata": {},
   "outputs": [],
   "source": [
    "# Returns the top wine producing provinces in the US\n",
    "province_top = province.loc[province[\"Country\"] >1000]\n",
    "province_top"
   ]
  },
  {
   "cell_type": "code",
   "execution_count": null,
   "metadata": {},
   "outputs": [],
   "source": [
    "province_top.loc[\"Other Provinces (469 Provinces)\"] = [469,469,469,469,469]\n",
    "province_top = province_top.sort_values(by=\"Country\", ascending=False)\n",
    "province_top"
   ]
  },
  {
   "cell_type": "code",
   "execution_count": null,
   "metadata": {},
   "outputs": [],
   "source": [
    "# Labels for the sections of our pie chart\n",
    "labels = province_top.index\n",
    "\n",
    "# The values of each section of the pie chart\n",
    "sizes = province_top[\"Country\"]\n",
    "\n",
    "# The colors of each section of the pie chart\n",
    "# colors = [\"red\", \"orange\", \"lightcoral\", \"lightskyblue\"]\n",
    "\n",
    "# Seperate the top 3 Varietals\n",
    "explode = (0.1, 0, 0, 0, 0)"
   ]
  },
  {
   "cell_type": "code",
   "execution_count": null,
   "metadata": {},
   "outputs": [],
   "source": [
    "plt.pie(sizes, labels=labels, autopct=\"%1.1f%%\", shadow=True, explode=explode, startangle=90, radius=2.5)\n",
    "plt.show()"
   ]
  },
  {
   "cell_type": "code",
   "execution_count": null,
   "metadata": {},
   "outputs": [],
   "source": [
    "patches, text = plt.pie(sizes, shadow=True, explode=explode, startangle=90, radius=2.5)\n",
    "    \n",
    "plt.legend(patches, labels, loc=\"best\", bbox_to_anchor=(-0.1,1.), fontsize=12)\n",
    "plt.show()\n",
    "\n",
    "# Avoiding overlapping labels\n",
    "# https://stackoverflow.com/questions/23577505/how-to-avoid-overlapping-of-labels-autopct-in-a-matplotlib-pie-chart \n",
    "# Accessed 14 Feb 2021"
   ]
  },
  {
   "cell_type": "code",
   "execution_count": null,
   "metadata": {},
   "outputs": [],
   "source": [
    "ratio_df = wine_df\n",
    "ratio_df[\"Points:Price\"] = ratio_df[\"Points\"]/ratio_df[\"Price\"]\n",
    "ratio_df"
   ]
  },
  {
   "cell_type": "code",
   "execution_count": null,
   "metadata": {},
   "outputs": [],
   "source": [
    "mean = ratio_df.groupby(\"Country\").mean()\n",
    "mean"
   ]
  },
  {
   "cell_type": "code",
   "execution_count": null,
   "metadata": {},
   "outputs": [],
   "source": [
    "median = ratio_df.groupby(\"Country\").median()\n",
    "median"
   ]
  },
  {
   "cell_type": "code",
   "execution_count": null,
   "metadata": {},
   "outputs": [],
   "source": [
    "mean_median = pd.merge(mean, median, left_index=True, right_index=True, suffixes=(\"_mean\",\"_median\"))\n",
    "best = mean_median.sort_values(by=\"Points:Price_mean\", ascending=False)"
   ]
  },
  {
   "cell_type": "code",
   "execution_count": null,
   "metadata": {},
   "outputs": [],
   "source": [
    "x_axis_country = best.index\n",
    "point_per = best[\"Points:Price_mean\"]\n",
    "plt.bar(x_axis_country, point_per, align=\"center\")\n",
    "plt.xticks(rotation=45)\n",
    "plt.xlabel(\"Country\")\n",
    "plt.ylabel(\"Points per Dollar\")\n",
    "plt.title(\"Average Points per Dollar\")\n",
    "\n",
    "plt.show()"
   ]
  },
  {
   "cell_type": "code",
   "execution_count": null,
   "metadata": {},
   "outputs": [],
   "source": [
    "# natalia's code ends here"
   ]
  },
  {
   "cell_type": "code",
   "execution_count": null,
   "metadata": {},
   "outputs": [],
   "source": [
    "# sharon's code starts here"
   ]
  },
  {
   "cell_type": "code",
   "execution_count": null,
   "metadata": {},
   "outputs": [],
   "source": [
    "# Linear Regression... is there a correlation between price and rating\n",
    "# Can we predict the rating based on price?\n",
    "\n",
    "wine_df\n",
    "us_wine_df = wine_df.loc[wine_df['Country'] == 'US']\n",
    "# Dropping \"extreme, obvious\" outliers\n",
    "us_wine_df = us_wine_df.loc[us_wine_df['Price'] < 500.0]\n",
    "us_wine_df"
   ]
  },
  {
   "cell_type": "code",
   "execution_count": null,
   "metadata": {},
   "outputs": [],
   "source": [
    "# TODO: add the (x,y) values for the annotation so the equation shows up on the graph\n",
    "# Use strict outliers?  Or just the extreme outliers... maybe try the strict first\n",
    "\n",
    "def wine_regression(x_values, y_values, wine_variety):\n",
    "    \n",
    "\n",
    "    (slope, intercept, rvalue, pvalue, stderr) = linregress(x_values, y_values)\n",
    "    regress_values = x_values * slope + intercept\n",
    "    line_eq = \"y = \" + str(round(slope,2)) + \"x + \" + str(round(intercept,2))\n",
    "\n",
    "    plt.scatter(x_values, y_values, marker=\"o\", facecolor=\"maroon\", alpha=0.4)\n",
    "    plt.plot(x_values, regress_values, \"r-\")\n",
    "    plt.annotate(line_eq, (80, 250), fontsize=15, color = \"blue\")\n",
    "    plt.ylabel(\"Price of Wine (per bottle)\")\n",
    "    plt.xlabel(\"Rating of Wine (in Points)\")\n",
    "    plt.title(f\"{wine_variety}: Wine Rating versus Price\")\n",
    "    plt.show()"
   ]
  },
  {
   "cell_type": "code",
   "execution_count": null,
   "metadata": {},
   "outputs": [],
   "source": [
    "y_values = us_wine_df['Price']\n",
    "x_values = us_wine_df['Points']\n",
    "\n",
    "wine_regression(x_values, y_values, 'All Varieties')"
   ]
  },
  {
   "cell_type": "code",
   "execution_count": null,
   "metadata": {},
   "outputs": [],
   "source": [
    "# Pinot Noir\n",
    "us_pinot_df = us_wine_df.loc[us_wine_df['Variety'] == 'Pinot Noir']\n",
    "x_values = us_pinot_df['Points']\n",
    "y_values = us_pinot_df['Price']\n",
    "\n",
    "wine_regression(x_values, y_values, 'Pinot Noir')"
   ]
  },
  {
   "cell_type": "code",
   "execution_count": null,
   "metadata": {},
   "outputs": [],
   "source": [
    "## find Price outliers for boxplot (see below)\n",
    "pinots = np.asarray(us_pinot_df['Price'])\n",
    "\n",
    "pinot_quartiles = pd.DataFrame(pinots).quantile([.25,.5,.75], axis=0)\n",
    "pinot_quartiles\n"
   ]
  },
  {
   "cell_type": "code",
   "execution_count": null,
   "metadata": {},
   "outputs": [],
   "source": [
    "pinot_lowerq = pinot_quartiles.loc[0.25]  #TODO: this reference needs to be cleaned up\n",
    "pinot_median = pinot_quartiles.loc[0.50]\n",
    "pinot_upperq = pinot_quartiles.loc[0.75]\n",
    "pinot_iqr = pinot_upperq - pinot_lowerq\n",
    "\n",
    "print(f'The lower quartile of Price for Pinot Noir is: {pinot_lowerq[0]}')\n",
    "print(f'The upper quartile of Price for Pinot Noir is: {pinot_upperq[0]}')\n",
    "print(f'The interquartile range of Price for Pinot Noir is: {pinot_iqr[0]}')\n",
    "print(f'The median of Price for Pinot Noir is: {pinot_median[0]}')\n",
    "\n",
    "pinot_lower_bound = pinot_lowerq - (1.5*pinot_iqr)\n",
    "pinot_upper_bound = pinot_upperq + (1.5*pinot_iqr)\n",
    "\n",
    "print(f'Pinot Noir Price below {pinot_lower_bound[0]} could be outliers.')\n",
    "print(f'Pinot Noir Price above {pinot_upper_bound[0]} could be outliers.')"
   ]
  },
  {
   "cell_type": "code",
   "execution_count": null,
   "metadata": {},
   "outputs": [],
   "source": [
    "## re-run the linear regression HERE - TODO"
   ]
  },
  {
   "cell_type": "code",
   "execution_count": null,
   "metadata": {},
   "outputs": [],
   "source": [
    "# Cabernet Sauvignon\n",
    "us_cab_df = us_wine_df.loc[us_wine_df['Variety'] == 'Cabernet Sauvignon']\n",
    "x_values = us_cab_df['Points']\n",
    "y_values = us_cab_df['Price']\n",
    "\n",
    "wine_regression(x_values, y_values, 'Cabernet Sauvignon')"
   ]
  },
  {
   "cell_type": "code",
   "execution_count": null,
   "metadata": {},
   "outputs": [],
   "source": [
    "## find Price outliers for boxplot (see below)\n",
    "cabs = np.asarray(us_cab_df['Price'])  #Cabernet Sauvignon\n",
    "\n",
    "cabs_quartiles = pd.DataFrame(cabs).quantile([.25,.5,.75], axis=0)\n",
    "cabs_quartiles\n"
   ]
  },
  {
   "cell_type": "code",
   "execution_count": null,
   "metadata": {},
   "outputs": [],
   "source": [
    "cabs_lowerq = cabs_quartiles.loc[0.25]  #TODO: this reference needs to be cleaned up\n",
    "cabs_median = cabs_quartiles.loc[0.50]\n",
    "cabs_upperq = cabs_quartiles.loc[0.75]\n",
    "cabs_iqr = cabs_upperq - cabs_lowerq\n",
    "\n",
    "print(f'The lower quartile of Price for Cabernet Sauvignon is: {cabs_lowerq[0]}')\n",
    "print(f'The upper quartile of Price for Cabernet Sauvignon is: {cabs_upperq[0]}')\n",
    "print(f'The interquartile range of Price for Cabernet Sauvignon is: {cabs_iqr[0]}')\n",
    "print(f'The median of Price for Cabernet Sauvignon is: {cabs_median[0]}')\n",
    "\n",
    "cabs_lower_bound = cabs_lowerq - (1.5*cabs_iqr)\n",
    "cabs_upper_bound = cabs_upperq + (1.5*cabs_iqr)\n",
    "\n",
    "print(f'Cabernet Sauvignon Price below {cabs_lower_bound[0]} could be outliers.')\n",
    "print(f'Cabernet Sauvignon Price above {cabs_upper_bound[0]} could be outliers.')"
   ]
  },
  {
   "cell_type": "code",
   "execution_count": null,
   "metadata": {},
   "outputs": [],
   "source": [
    "# Chardonnay  This is a good candidate for a box plot b/c of the outlier\n",
    "us_chard_df = us_wine_df.loc[us_wine_df['Variety'] == 'Chardonnay']\n",
    "us_chard_df = us_chard_df.loc[us_chard_df['Price'] < 250]\n",
    "\n",
    "x_values = us_chard_df['Points']\n",
    "y_values = us_chard_df['Price']\n",
    "\n",
    "wine_regression(x_values, y_values, 'Chardonnay')"
   ]
  },
  {
   "cell_type": "code",
   "execution_count": null,
   "metadata": {},
   "outputs": [],
   "source": [
    "## find Price outliers for boxplot (see below)\n",
    "chards = np.asarray(us_chard_df['Price'])  #Chardonnay\n",
    "\n",
    "chard_quartiles = pd.DataFrame(chards).quantile([.25,.5,.75], axis=0)\n",
    "chard_quartiles"
   ]
  },
  {
   "cell_type": "code",
   "execution_count": null,
   "metadata": {},
   "outputs": [],
   "source": [
    "chard_lowerq = chard_quartiles.loc[0.25]  \n",
    "chard_median = chard_quartiles.loc[0.50]\n",
    "chard_upperq = chard_quartiles.loc[0.75]\n",
    "chard_iqr = chard_upperq - chard_lowerq\n",
    "\n",
    "print(f'The lower quartile of Price for Cabernet Sauvignon is: {chard_lowerq[0]}')\n",
    "print(f'The upper quartile of Price for Cabernet Sauvignon is: {chard_upperq[0]}')\n",
    "print(f'The interquartile range of Price for Cabernet Sauvignon is: {chard_iqr[0]}')\n",
    "print(f'The median of Price for Cabernet Sauvignon is: {chard_median[0]}')\n",
    "\n",
    "chard_lower_bound = chard_lowerq - (1.5*chard_iqr)\n",
    "chard_upper_bound = chard_upperq + (1.5*chard_iqr)\n",
    "\n",
    "print(f'Chardonnay Price below {chard_lower_bound[0]} could be outliers.')\n",
    "print(f'Chardonnay Price above {chard_upper_bound[0]} could be outliers.')"
   ]
  },
  {
   "cell_type": "code",
   "execution_count": null,
   "metadata": {},
   "outputs": [],
   "source": [
    "# Redraw Chard with upper outliers removed\n",
    "###  this is doing weird spacing things above the graph\n",
    "#us_chard_df = us_chard_df.loc[us_chard_df['Price'] < 62.0]\n",
    "\n",
    "#x_values = us_chard_df['Points']\n",
    "#y_values = us_chard_df['Price']\n",
    "\n",
    "#wine_regression(x_values, y_values, 'Chardonnay')"
   ]
  },
  {
   "cell_type": "code",
   "execution_count": null,
   "metadata": {},
   "outputs": [],
   "source": [
    "# Syrah\n",
    "us_syrah_df = us_wine_df.loc[us_wine_df['Variety'] == 'Syrah']\n",
    "x_values = us_syrah_df['Points']\n",
    "y_values = us_syrah_df['Price']\n",
    "\n",
    "wine_regression(x_values, y_values, 'Syrah')"
   ]
  },
  {
   "cell_type": "code",
   "execution_count": null,
   "metadata": {},
   "outputs": [],
   "source": [
    "## find Price outliers for boxplot (see below)\n",
    "syrahs = np.asarray(us_syrah_df['Price'])  #Syrah\n",
    "\n",
    "syrah_quartiles = pd.DataFrame(syrahs).quantile([.25,.5,.75], axis=0)\n",
    "syrah_quartiles"
   ]
  },
  {
   "cell_type": "code",
   "execution_count": null,
   "metadata": {},
   "outputs": [],
   "source": [
    "syrah_lowerq = syrah_quartiles.loc[0.25]  \n",
    "syrah_median = syrah_quartiles.loc[0.50]\n",
    "syrah_upperq = syrah_quartiles.loc[0.75]\n",
    "syrah_iqr = syrah_upperq - syrah_lowerq\n",
    "\n",
    "print(f'The lower quartile of Price for Cabernet Sauvignon is: {syrah_lowerq[0]}')\n",
    "print(f'The upper quartile of Price for Cabernet Sauvignon is: {syrah_upperq[0]}')\n",
    "print(f'The interquartile range of Price for Cabernet Sauvignon is: {syrah_iqr[0]}')\n",
    "print(f'The median of Price for Cabernet Sauvignon is: {syrah_median[0]}')\n",
    "\n",
    "syrah_lower_bound = syrah_lowerq - (1.5*syrah_iqr)\n",
    "syrah_upper_bound = syrah_upperq + (1.5*syrah_iqr)\n",
    "\n",
    "print(f'Syrah Price below {syrah_lower_bound[0]} could be outliers.')\n",
    "print(f'Syrah Price above {syrah_upper_bound[0]} could be outliers.')"
   ]
  },
  {
   "cell_type": "code",
   "execution_count": null,
   "metadata": {},
   "outputs": [],
   "source": []
  },
  {
   "cell_type": "code",
   "execution_count": null,
   "metadata": {},
   "outputs": [],
   "source": []
  },
  {
   "cell_type": "code",
   "execution_count": null,
   "metadata": {},
   "outputs": [],
   "source": []
  },
  {
   "cell_type": "code",
   "execution_count": null,
   "metadata": {},
   "outputs": [],
   "source": [
    "# Box plot for Pinot Noir, Cabernet Sauvignon, Chardonnay\n",
    "\n",
    "columns = [pinots, cabs, chards, syrahs]\n",
    "\n",
    "fig, ax = plt.subplots()\n",
    "ax.set_title('Wine Varieties')\n",
    "ax.set_ylabel('Price')  # per bottle?  update?\n",
    "labels = ['Pinot Noir', 'Cabernet Sauvignon', 'Chardonnay', 'Syrah']\n",
    "ax.boxplot(columns, labels=labels)\n",
    "plt.show()"
   ]
  },
  {
   "cell_type": "code",
   "execution_count": null,
   "metadata": {},
   "outputs": [],
   "source": []
  },
  {
   "cell_type": "code",
   "execution_count": null,
   "metadata": {},
   "outputs": [],
   "source": [
    "# sharon's code ends here"
   ]
  },
  {
   "cell_type": "code",
   "execution_count": null,
   "metadata": {},
   "outputs": [],
   "source": []
  },
  {
   "cell_type": "code",
   "execution_count": null,
   "metadata": {},
   "outputs": [],
   "source": []
  }
 ],
 "metadata": {
  "kernelspec": {
   "display_name": "Python 3",
   "language": "python",
   "name": "python3"
  },
  "language_info": {
   "codemirror_mode": {
    "name": "ipython",
    "version": 3
   },
   "file_extension": ".py",
   "mimetype": "text/x-python",
   "name": "python",
   "nbconvert_exporter": "python",
   "pygments_lexer": "ipython3",
   "version": "3.6.10"
  }
 },
 "nbformat": 4,
 "nbformat_minor": 4
}
