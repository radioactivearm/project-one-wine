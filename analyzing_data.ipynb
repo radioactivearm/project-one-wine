{
 "cells": [
  {
   "cell_type": "code",
   "execution_count": null,
   "metadata": {},
   "outputs": [],
   "source": [
    "#import dependencies\n",
    "import pandas as pd\n",
    "import matplotlib.pyplot as plt\n",
    "import numpy as np\n",
    "import csv\n",
    "import scipy.stats as st"
   ]
  },
  {
   "cell_type": "code",
   "execution_count": null,
   "metadata": {},
   "outputs": [],
   "source": [
    "# import .csv\n",
    "csv_path = \"wine_data.csv\"\n",
    "wine_df = pd.read_csv(csv_path, low_memory=False)\n",
    "wine_df"
   ]
  },
  {
   "cell_type": "code",
   "execution_count": null,
   "metadata": {},
   "outputs": [],
   "source": [
    "variety_path = \"variety_data.csv\"\n",
    "variety_df = pd.read_csv(variety_path, low_memory=False)\n",
    "variety_df"
   ]
  },
  {
   "cell_type": "code",
   "execution_count": null,
   "metadata": {},
   "outputs": [],
   "source": [
    "# jeanaej's code starts here"
   ]
  },
  {
   "cell_type": "markdown",
   "metadata": {},
   "source": [
    "## Find the Best Wine"
   ]
  },
  {
   "cell_type": "code",
   "execution_count": null,
   "metadata": {},
   "outputs": [],
   "source": [
    "print(f'Points min: {wine_df[\"Points\"].min()}, median: {wine_df[\"Points\"].median()}, mean : {wine_df[\"Points\"].mean()}, max : {wine_df[\"Points\"].max()}')\n",
    "print(f'Points min: {wine_df[\"Price\"].min()}, median: {wine_df[\"Price\"].median()}, mean : {wine_df[\"Price\"].mean()}, max : {wine_df[\"Price\"].max()}')"
   ]
  },
  {
   "cell_type": "code",
   "execution_count": null,
   "metadata": {},
   "outputs": [],
   "source": [
    "# Box plot of All Wine Rating points to see distribution\n",
    "fig1, ax1 = plt.subplots()\n",
    "ax1.set_title('Rating Points')\n",
    "ax1.boxplot(wine_df[\"Points\"])\n",
    "plt.show()"
   ]
  },
  {
   "cell_type": "code",
   "execution_count": null,
   "metadata": {},
   "outputs": [],
   "source": [
    "# Box plot of All Wine Price to see distribution\n",
    "fig1, ax1 = plt.subplots()\n",
    "ax1.set_title('Price')\n",
    "ax1.boxplot(wine_df[\"Price\"])\n",
    "plt.show()"
   ]
  },
  {
   "cell_type": "markdown",
   "metadata": {},
   "source": [
    "## By Country"
   ]
  },
  {
   "cell_type": "code",
   "execution_count": null,
   "metadata": {
    "scrolled": true
   },
   "outputs": [],
   "source": [
    "# Get the countries\n",
    "countries = wine_df[\"Country\"].unique()\n",
    "countries = sorted(countries)\n",
    "countries"
   ]
  },
  {
   "cell_type": "code",
   "execution_count": null,
   "metadata": {},
   "outputs": [],
   "source": [
    "# Grouping by country\n",
    "country_group = wine_df.groupby([\"Country\"])\n",
    "\n",
    "# Getting the mean of points because the distribution is close to a normal distribution\n",
    "points_c_mean = country_group[\"Points\"].mean()\n",
    "\n",
    "# Getting the median price because the distribution is skewed to the right\n",
    "price_c_median = country_group[\"Price\"].median()"
   ]
  },
  {
   "cell_type": "code",
   "execution_count": null,
   "metadata": {
    "scrolled": true
   },
   "outputs": [],
   "source": [
    "# Creating a bar graph Average rating by country\n",
    "plt.bar(countries, points_c_mean, align = \"center\", color = \"gold\", edgecolor =\"black\")\n",
    "\n",
    "# Labeling graphs\n",
    "plt.title(\"Average Rating Points by Country\")\n",
    "plt.xlabel(\"Countries\")\n",
    "plt.ylabel(\"Rating Point\")\n",
    "plt.xticks(rotation = 90)\n",
    "\n",
    "# Making the y-values start at 85 to 90 because the range of the rating points began at 85. \n",
    "# Note: There is a payment threshold to get a wine rated; therefore, the graph's rating points begin at 85.\n",
    "plt.ylim(85, 90)\n",
    "plt.show()"
   ]
  },
  {
   "cell_type": "markdown",
   "metadata": {},
   "source": [
    "Wine Rating Points are given to wines that requested to get rated. Rating points range from 80 to 100 with a normal distribution. Using the average rating point per country a wine is produced Austria has the highest average rating. "
   ]
  },
  {
   "cell_type": "code",
   "execution_count": null,
   "metadata": {},
   "outputs": [],
   "source": [
    "# Creating a bar graph Median Price by country\n",
    "plt.bar(countries, price_c_median, align = \"center\", color = \"green\", edgecolor =\"black\")\n",
    "\n",
    "# Labeling the graph\n",
    "plt.title(\"Median Price by Country\")\n",
    "plt.xlabel(\"Countries\")\n",
    "plt.ylabel(\"Price ($)\")\n",
    "plt.xticks(rotation = 90)\n",
    "plt.show()"
   ]
  },
  {
   "cell_type": "markdown",
   "metadata": {},
   "source": [
    "Wine Prices are skewed to the right, leading to outliers; therefore, the median would better represent the majority of the prices. Using the median the US has the highest median price and Chile has the lowest median price."
   ]
  },
  {
   "cell_type": "markdown",
   "metadata": {},
   "source": [
    "Finding the best wine based on taste, one should pick a wine from Austria."
   ]
  },
  {
   "cell_type": "markdown",
   "metadata": {},
   "source": [
    "## By Variety"
   ]
  },
  {
   "cell_type": "code",
   "execution_count": null,
   "metadata": {},
   "outputs": [],
   "source": [
    "# Getting the varieties\n",
    "varieties = wine_df[\"Variety\"].unique()\n",
    "varieties = sorted(varieties)\n",
    "varieties"
   ]
  },
  {
   "cell_type": "code",
   "execution_count": null,
   "metadata": {},
   "outputs": [],
   "source": [
    "# Grouping by varieties\n",
    "wine_variety_group = wine_df.groupby([\"Variety\"])\n",
    "\n",
    "# Getting the mean of points because the distribution is close to a normal distribution\n",
    "points_wv_mean = wine_variety_group[\"Points\"].mean()\n",
    "\n",
    "# Getting the median of price because the distribution is skewed to the right\n",
    "price_wv_median = wine_variety_group[\"Price\"].median()"
   ]
  },
  {
   "cell_type": "code",
   "execution_count": null,
   "metadata": {},
   "outputs": [],
   "source": [
    "# Creating a bar graph Average points by varietal\n",
    "plt.bar(varieties, points_wv_mean, align = \"center\")\n",
    "\n",
    "# Labeling the graph\n",
    "plt.title(\"Average Rating Points by Variety\")\n",
    "plt.xlabel(\"Varieties\")\n",
    "plt.ylabel(\"Rating Points\")\n",
    "plt.xticks(rotation = 90)\n",
    "\n",
    "# Making the y-values start at 85 to 90 because the range of the rating points began at 85. \n",
    "# Note: There is a payment threshold to get a wine rated; therefore, the rating points begin at 85.\n",
    "plt.ylim(80,100)\n",
    "plt.show()"
   ]
  },
  {
   "cell_type": "markdown",
   "metadata": {},
   "source": [
    "There are 545 different varieties within the cleaned wine data set. In order to further analyze the price and rating points of wine varieties, we created another data set with the 25 top ranked varieties."
   ]
  },
  {
   "cell_type": "code",
   "execution_count": null,
   "metadata": {},
   "outputs": [],
   "source": [
    "# Getting the Top 25 Variety names\n",
    "top_varieties = variety_df[\"Variety\"].unique()\n",
    "top_varieties = sorted(top_varieties)\n",
    "top_varieties"
   ]
  },
  {
   "cell_type": "code",
   "execution_count": null,
   "metadata": {},
   "outputs": [],
   "source": [
    "# Grouping by varieties\n",
    "varieties_group = variety_df.groupby([\"Variety\"])\n",
    "\n",
    "# Getting the mean of points because the distribution is close to a normal distribution\n",
    "points_v_mean = varieties_group[\"Points\"].mean()\n",
    "\n",
    "# Getting the median of price because the distribution is skewed to the right\n",
    "price_v_median = varieties_group[\"Price\"].median()"
   ]
  },
  {
   "cell_type": "code",
   "execution_count": null,
   "metadata": {},
   "outputs": [],
   "source": [
    "# Creating a bar graph Median points by varietal\n",
    "plt.bar(top_varieties, points_v_mean, align = \"center\", color = \"gold\", edgecolor =\"black\")\n",
    "\n",
    "# Labeling the graph\n",
    "plt.title(\"Average Rating Points by Variety\")\n",
    "plt.xlabel(\"Varieties\")\n",
    "plt.ylabel(\"Rating Points\")\n",
    "plt.xticks(rotation = 90)\n",
    "\n",
    "# Making the y-values start at 85 to 90 because the range of the rating points began at 85. \n",
    "# Note: There is a payment threshold to get a wine rated; therefore, the rating points begin at 85.\n",
    "plt.ylim(85, 90.5)\n",
    "plt.show()"
   ]
  },
  {
   "cell_type": "markdown",
   "metadata": {},
   "source": [
    "Using the average rating point per grape/wine variety a Nebbiolo has highest average rating. "
   ]
  },
  {
   "cell_type": "code",
   "execution_count": null,
   "metadata": {},
   "outputs": [],
   "source": [
    "# Creating a bar graph Median Price by varietal\n",
    "plt.bar(top_varieties, price_v_median, align = \"center\", color = \"green\", edgecolor =\"black\")\n",
    "\n",
    "# Labeling the graph\n",
    "plt.title(\"Median Price by Variety\")\n",
    "plt.xlabel(\"Varieties\")\n",
    "plt.ylabel(\"Price ($)\")\n",
    "plt.xticks(rotation = 90)\n",
    "plt.show()"
   ]
  },
  {
   "cell_type": "markdown",
   "metadata": {},
   "source": [
    "Using the median the Nebbiolo has the highest median price and Pinot Grigio has the lowest median price."
   ]
  },
  {
   "cell_type": "markdown",
   "metadata": {},
   "source": [
    "Finding the best wine based on taste, one should pick a wine that is a Nebbiolo."
   ]
  },
  {
   "cell_type": "markdown",
   "metadata": {},
   "source": [
    "## Can you predict the price of a Wine based on it's rating?"
   ]
  },
  {
   "cell_type": "markdown",
   "metadata": {},
   "source": [
    "## All Wine"
   ]
  },
  {
   "cell_type": "code",
   "execution_count": null,
   "metadata": {},
   "outputs": [],
   "source": [
    "# Get the Price and Points of Wines\n",
    "all_price = wine_df[\"Price\"]\n",
    "all_points = wine_df[\"Points\"]"
   ]
  },
  {
   "cell_type": "markdown",
   "metadata": {},
   "source": [
    "### Price by Rating"
   ]
  },
  {
   "cell_type": "code",
   "execution_count": null,
   "metadata": {},
   "outputs": [],
   "source": [
    "# Generate a scatter plot of the Price by Rating Points of all wines\n",
    "plt.scatter(all_points, all_price, color = \"green\", edgecolor = \"black\", alpha = .4)\n",
    "\n",
    "# Labeling the graph\n",
    "plt.title(f\"All Wine Price by Rating Points\")\n",
    "plt.xlabel(\"Points\")\n",
    "plt.ylabel(\"Price ($)\")\n",
    "\n",
    "plt.xlim(75,105)\n",
    "plt.grid(True)\n",
    "\n",
    "plt.show()"
   ]
  },
  {
   "cell_type": "code",
   "execution_count": null,
   "metadata": {},
   "outputs": [],
   "source": [
    "# Calculate the correlation coefficient\n",
    "r = st.pearsonr(all_points, all_price)\n",
    "r_sq = r[0]**2\n",
    "\n",
    "# Calculate the linear regression model \n",
    "(slope, intercept, rvalue, pvalue, stderr) = st.linregress(all_points, all_price)\n",
    "regress_values = all_points * slope + intercept\n",
    "line_eq = f' y = {round(slope,2)} x + {round(intercept,2)}'\n",
    "\n",
    "\n",
    "print(f'The correlation coefficient of price and rating points for all wines {round(rvalue,2)}\\n')\n",
    "print(f'The coefficient of determination of price and rating points for all wines {round(r_sq,2)}\\n')\n",
    "print(line_eq)"
   ]
  },
  {
   "cell_type": "code",
   "execution_count": null,
   "metadata": {},
   "outputs": [],
   "source": [
    "# Generate a scatter plot of the Price by Rating Points of all wines\n",
    "# with the linear regression line and equation\n",
    "\n",
    "plt.plot(all_points,regress_values, \"r-\")\n",
    "plt.scatter(all_points, all_price, color = \"green\", edgecolor = \"black\", alpha = .4)\n",
    "\n",
    "# Labeling the graph with the Linear Regression\n",
    "plt.title(f\"All Wine Price by Rating Points\")\n",
    "plt.xlabel(\"Points\")\n",
    "plt.ylabel(\"Price ($)\")\n",
    "\n",
    "plt.xlim(75,105)\n",
    "plt.grid(True)\n",
    "plt.annotate(line_eq, (76,1500), fontsize = 14, color =\"r\")\n",
    "\n",
    "plt.show()"
   ]
  },
  {
   "cell_type": "markdown",
   "metadata": {},
   "source": [
    "With a correlation coeffiecent of 0.46 there is weak positive correlation between all wine prices and rating points."
   ]
  },
  {
   "cell_type": "markdown",
   "metadata": {},
   "source": [
    "## Wines Below $25"
   ]
  },
  {
   "cell_type": "code",
   "execution_count": null,
   "metadata": {},
   "outputs": [],
   "source": [
    "# Create a new dataframe with economical priced wine\n",
    "low_price = 25\n",
    "low_price_df = wine_df.loc[wine_df[\"Price\"] <= low_price]\n",
    "low_price_df"
   ]
  },
  {
   "cell_type": "code",
   "execution_count": null,
   "metadata": {},
   "outputs": [],
   "source": [
    "# Get the Price and Points of Economical Wines\n",
    "lp_price = low_price_df[\"Price\"]\n",
    "lp_points = low_price_df[\"Points\"]"
   ]
  },
  {
   "cell_type": "markdown",
   "metadata": {},
   "source": [
    "### Price by Rating Points"
   ]
  },
  {
   "cell_type": "code",
   "execution_count": null,
   "metadata": {},
   "outputs": [],
   "source": [
    "# Generate a scatter plot of the Price by Rating Points of Economical wines\n",
    "plt.scatter(lp_points, lp_price, color = \"green\", edgecolor = \"black\", alpha = .4)\n",
    "\n",
    "# Labeling the graph\n",
    "plt.title(f\"Economical Wines (${low_price} and below) Price by Rating Points\")\n",
    "plt.xlabel(\"Points\")\n",
    "plt.ylabel(\"Price ($)\")\n",
    "\n",
    "plt.xlim(75,100)\n",
    "plt.grid(True)\n",
    "\n",
    "plt.show()"
   ]
  },
  {
   "cell_type": "code",
   "execution_count": null,
   "metadata": {},
   "outputs": [],
   "source": [
    "# Calculate the correlation coefficient\n",
    "r = st.pearsonr(lp_points, lp_price)\n",
    "r_sq = r[0]**2\n",
    "\n",
    "# Calculate the linear regression model \n",
    "(slope, intercept, rvalue, pvalue, stderr) = st.linregress(lp_points, lp_price)\n",
    "regress_values = lp_points * slope + intercept\n",
    "line_eq = f' y = {round(slope,2)} x + {round(intercept,2)}'\n",
    "\n",
    "\n",
    "print(f'The correlation coefficient of price and rating points for all wines {round(rvalue,2)}\\n')\n",
    "print(f'The coefficient of determination of price and rating points for all wines {round(r_sq,2)}\\n')\n",
    "print(line_eq)"
   ]
  },
  {
   "cell_type": "code",
   "execution_count": null,
   "metadata": {},
   "outputs": [],
   "source": [
    "# Generate a scatter plot of the Price by Rating Points of Economical wines\n",
    "# with the linear regression line and equation\n",
    "\n",
    "plt.plot(lp_points,regress_values, \"r-\")\n",
    "plt.scatter(lp_points, lp_price, color = \"green\", edgecolor = \"black\", alpha = .4)\n",
    "\n",
    "# Labeling the graph with the Linear Regression\n",
    "plt.title(f\"Economical Wines (${low_price} and below) Price by Rating Points\")\n",
    "plt.xlabel(\"Points\")\n",
    "plt.ylabel(\"Price ($)\")\n",
    "\n",
    "plt.xlim(75,100)\n",
    "plt.grid(True)\n",
    "plt.annotate(line_eq, (89,3.5), fontsize = 14, color =\"r\")\n",
    "\n",
    "plt.show()"
   ]
  },
  {
   "cell_type": "markdown",
   "metadata": {},
   "source": [
    "Split the wines the prices less than $25, $25 is chosen because the median wines prices if 24. \n",
    "\n",
    "Looking the economical wines there is a 0.37 correlation coeffiecent meaning there is a weak positive correlation between cheaper wine prices and the rating points. So when finding a wine you could make a weak assumption that the higher the rating the more expensive."
   ]
  },
  {
   "cell_type": "markdown",
   "metadata": {},
   "source": [
    "## Wines Above $250"
   ]
  },
  {
   "cell_type": "code",
   "execution_count": null,
   "metadata": {},
   "outputs": [],
   "source": [
    "high_price = 250\n",
    "high_price_df = wine_df.loc[wine_df[\"Price\"] >= high_price]\n",
    "high_price_df"
   ]
  },
  {
   "cell_type": "code",
   "execution_count": null,
   "metadata": {},
   "outputs": [],
   "source": [
    "# Get the Price and Points of Expensive Wines\n",
    "hp_price = high_price_df[\"Price\"]\n",
    "hp_points = high_price_df[\"Points\"]"
   ]
  },
  {
   "cell_type": "code",
   "execution_count": null,
   "metadata": {
    "scrolled": true
   },
   "outputs": [],
   "source": [
    "# Generate a scatter plot of the Price by Rating Points of expensive wines\n",
    "plt.scatter(hp_points, hp_price, color = \"green\", edgecolor = \"black\", alpha = .4)\n",
    "\n",
    "# Labeling the graph\n",
    "plt.title(f\"Economical Wines (${high_price} and below) Price by Rating Points\")\n",
    "plt.xlabel(\"Points\")\n",
    "plt.ylabel(\"Price ($)\")\n",
    "\n",
    "plt.xlim()\n",
    "plt.grid(True)\n",
    "\n",
    "plt.show()"
   ]
  },
  {
   "cell_type": "code",
   "execution_count": null,
   "metadata": {},
   "outputs": [],
   "source": [
    "# Calculate the correlation coefficient\n",
    "r = st.pearsonr(hp_points, hp_price)\n",
    "r_sq = r[0]**2\n",
    "\n",
    "# Calculate the linear regression model \n",
    "(slope, intercept, rvalue, pvalue, stderr) = st.linregress(hp_points, hp_price)\n",
    "regress_values = hp_points * slope + intercept\n",
    "line_eq = f' y = {round(slope,2)} x + {round(intercept,2)}'\n",
    "\n",
    "\n",
    "print(f'The correlation coefficient of price and rating points for all wines {round(rvalue,2)}\\n')\n",
    "print(f'The coefficient of determination of price and rating points for all wines {round(r_sq,2)}\\n')\n",
    "print(line_eq)"
   ]
  },
  {
   "cell_type": "code",
   "execution_count": null,
   "metadata": {},
   "outputs": [],
   "source": [
    "# Generate a scatter plot of the Price by rating Points of Expensive Wines\n",
    "# with the linear regression line and equation\n",
    "\n",
    "plt.plot(hp_points,regress_values, \"r-\")\n",
    "plt.scatter(hp_points, hp_price, color = \"green\", edgecolor = \"black\", alpha = .4)\n",
    "\n",
    "# Labeling the graph with the Linear Regression\n",
    "plt.title(f\"Expensive Wines (${high_price} and below) Price by Rating Points\")\n",
    "plt.xlabel(\"Points\")\n",
    "plt.ylabel(\"Price ($)\")\n",
    "\n",
    "plt.xlim(79,101)\n",
    "plt.grid(True)\n",
    "plt.annotate(line_eq, (80,1000), fontsize = 14, color =\"r\")\n",
    "\n",
    "plt.show()"
   ]
  },
  {
   "cell_type": "markdown",
   "metadata": {},
   "source": [
    "Looking the expensive wines there is a 0.2 correlation coeffiecent meaning there is a negligible positive correlation between higher wine prices and the rating points. So when finding a wine it can't be easily assumed that an expensive wine with a high rating will be more expensive. "
   ]
  },
  {
   "cell_type": "markdown",
   "metadata": {},
   "source": [
    "## Are French and Italian wines comparable in rating and price?\n",
    "#### Predict that French wine is better rated (based on the bar graph \"Average Rating Points by Country\") and French and Italian wine is same in price (based on the bar graph \"Median Price by Country\")"
   ]
  },
  {
   "cell_type": "markdown",
   "metadata": {},
   "source": [
    "## France vs Italy"
   ]
  },
  {
   "cell_type": "code",
   "execution_count": null,
   "metadata": {},
   "outputs": [],
   "source": [
    "# Create a new dataframe with a Country\n",
    "country_one = \"France\"\n",
    "\n",
    "# Create a new dataframe with another Country\n",
    "country_two = \"Italy\"\n",
    "\n",
    "# Put countries to compare into a list for for loop \n",
    "country_comparisons = [country_one, country_two]\n",
    "country_comparisons"
   ]
  },
  {
   "cell_type": "markdown",
   "metadata": {},
   "source": [
    "### Comparing Rating Points"
   ]
  },
  {
   "cell_type": "code",
   "execution_count": null,
   "metadata": {},
   "outputs": [],
   "source": [
    "# Create empty list to fill with points(for plotting)\n",
    "compare_points = []\n",
    "\n",
    "# Calculate the IQR and quantitatively determine if there are any potential outliers. \n",
    "#For loop the get the wine rating points of the wines in compared countries\n",
    "\n",
    "for country in country_comparisons:\n",
    "    wine_results = wine_df.loc[wine_df[\"Country\"] == country]\n",
    "    \n",
    "    # Locate the rows which Country on Wine_df and get the wine rating points\n",
    "  \n",
    "    wine_points = wine_results[\"Points\"]\n",
    "    \n",
    "    # Add subset\n",
    "    \n",
    "    compare_points.append(wine_points)\n",
    "    \n",
    "    # Determine outliers using upper and lower bounds using quartiles\n",
    "  \n",
    "    quartiles = wine_points.quantile([.25, .5, .75])\n",
    "    lowerq = quartiles[0.25]\n",
    "    median = quartiles[0.5]\n",
    "    upperq = quartiles[0.75]\n",
    "    iqr = upperq - lowerq\n",
    "    \n",
    "    lower_bound = lowerq - (1.5 * iqr)\n",
    "    upper_bound = upperq + (1.5 * iqr)\n",
    "    \n",
    "    print(f\"The interquartile range of Rating points for {country} is: {round(iqr,2)}\")\n",
    "    print(f\"The values below {round(lower_bound,2)} could be outlier for {country}\")\n",
    "    print(f\"The median of rating points in {country} is {round(median,2)}\")\n",
    "    print(f\"The values above {round(upper_bound,2)} could be outlier for {country}\\n\")"
   ]
  },
  {
   "cell_type": "code",
   "execution_count": null,
   "metadata": {},
   "outputs": [],
   "source": [
    "# Generate a box plot of the rating points of each wine in 2 compared countries\n",
    "outlier = dict(markerfacecolor = 'gold', marker = \"o\")\n",
    "fig1,ax1 = plt.subplots()\n",
    "ax1.boxplot(compare_points, labels = country_comparisons, showfliers = True, flierprops = outlier)\n",
    "ax1.set_title(f\"Wine Rating Points of {country_one} and {country_two}\")\n",
    "ax1.set_ylim(75,105)\n",
    "ax1.set_ylabel(\"Rating Points\")\n",
    "ax1.set_xlabel(\"Countries\")\n",
    "ax1.grid(True)\n",
    "plt.show()"
   ]
  },
  {
   "cell_type": "markdown",
   "metadata": {},
   "source": [
    "### Comparing Price"
   ]
  },
  {
   "cell_type": "code",
   "execution_count": null,
   "metadata": {},
   "outputs": [],
   "source": [
    "# Create empty list to fill with price(for plotting)\n",
    "compare_price = []\n",
    "\n",
    "# Calculate the IQR and quantitatively determine if there are any potential outliers. \n",
    "#For loop the get the wine price of the wines in compared countries\n",
    "\n",
    "for country in country_comparisons:\n",
    "    wine_results = wine_df.loc[wine_df[\"Country\"] == country]\n",
    "    \n",
    "    # Locate the rows which Country on Wine_df and get the wine price\n",
    "  \n",
    "    wine_price = wine_results[\"Price\"]\n",
    "    \n",
    "    # Add subset\n",
    "    \n",
    "    compare_price.append(wine_price)\n",
    "    \n",
    "    # Determine outliers using upper and lower bounds using quartiles\n",
    "  \n",
    "    quartiles = wine_price.quantile([.25, .5, .75])\n",
    "    lowerq = quartiles[0.25]\n",
    "    median = quartiles[0.5]\n",
    "    upperq = quartiles[0.75]\n",
    "    iqr = upperq - lowerq\n",
    "    \n",
    "    lower_bound = lowerq - (1.5 * iqr)\n",
    "    upper_bound = upperq + (1.5 * iqr)\n",
    "    \n",
    "    print(f\"The interquartile range of Price for {country} is: {round(iqr,2)}\")\n",
    "    print(f\"The values below {round(lower_bound,2)} could be outlier for {country}\")\n",
    "    print(f\"The median of rating points in {country} is {round(median,2)}\")\n",
    "    print(f\"The values above {round(upper_bound,2)} could be outlier for {country}\\n\")"
   ]
  },
  {
   "cell_type": "code",
   "execution_count": null,
   "metadata": {},
   "outputs": [],
   "source": [
    "# Generate a box plot of the price of each wine in 2 compared countries\n",
    "outlier = dict(markerfacecolor = 'green', marker = \"o\")\n",
    "fig1,ax1 = plt.subplots()\n",
    "ax1.boxplot(compare_price, labels = country_comparisons, showfliers = True, flierprops = outlier)\n",
    "\n",
    "ax1.set_title(f\"Wine Price of {country_one} and {country_two}\")\n",
    "ax1.set_ylabel(\"Price ($)\")\n",
    "ax1.set_xlabel(\"Countries\")\n",
    "\n",
    "ax1.grid(True)\n",
    "plt.show()"
   ]
  },
  {
   "cell_type": "code",
   "execution_count": null,
   "metadata": {
    "scrolled": true
   },
   "outputs": [],
   "source": [
    "# Generate a box plot of the price of each wine in 2 compared countries\n",
    "outlier = dict(markerfacecolor = 'green', marker = \"o\")\n",
    "fig1,ax1 = plt.subplots()\n",
    "ax1.boxplot(compare_price, labels = country_comparisons, showfliers = False)\n",
    "\n",
    "ax1.set_title(f\"Wine Price of {country_one} and {country_two}\")\n",
    "ax1.set_ylabel(\"Price ($)\")\n",
    "ax1.set_xlabel(\"Countries\")\n",
    "\n",
    "ax1.grid(True)\n",
    "plt.show()"
   ]
  },
  {
   "cell_type": "markdown",
   "metadata": {},
   "source": [
    "### Hypothesis Test - Independent Test"
   ]
  },
  {
   "cell_type": "code",
   "execution_count": null,
   "metadata": {},
   "outputs": [],
   "source": [
    "# Get the price and points of country one\n",
    "wine_results_one = wine_df.loc[wine_df[\"Country\"] == country_one]  \n",
    "country_one_points = wine_results[\"Points\"]\n",
    "country_one_price = wine_results[\"Price\"]\n",
    "\n",
    "# Get the price and points of country one\n",
    "wine_results_two = wine_df.loc[wine_df[\"Country\"] == country_two]  \n",
    "country_two_points = wine_results[\"Points\"]\n",
    "country_two_price = wine_results[\"Price\"]"
   ]
  },
  {
   "cell_type": "code",
   "execution_count": null,
   "metadata": {},
   "outputs": [],
   "source": [
    "# Independent Test for country one and country two points\n",
    "# Null - The mean of sample one and the mean of sample two are identical\n",
    "st.ttest_ind(country_one_points, country_two_points)"
   ]
  },
  {
   "cell_type": "markdown",
   "metadata": {},
   "source": [
    "With a p-value of 1 on an ANOVA test, we fail to reject the null; where the null hypothesis says the mean of sample one and the mean of sample two are identical. Therefore, we fail to reject that French and Italian wines have the same average rating points."
   ]
  },
  {
   "cell_type": "code",
   "execution_count": null,
   "metadata": {},
   "outputs": [],
   "source": [
    "# Independent Test for country one and country two price\n",
    "# Null - The mean of sample one and the mean of sample two are identical\n",
    "st.ttest_ind(country_one_price, country_two_price)"
   ]
  },
  {
   "cell_type": "markdown",
   "metadata": {},
   "source": [
    "With a p-value of 1 on an ANOVA test, we fail to reject the null; where the null hypothesis says the mean of sample one and the mean of sample two are identical. Therefore, we fail to reject that French and Italian wines have the same average price."
   ]
  },
  {
   "cell_type": "markdown",
   "metadata": {},
   "source": [
    "When choosing between French vs Italian wines their average rating points and price is similar. There isn't one that is better than the other."
   ]
  },
  {
   "cell_type": "code",
   "execution_count": null,
   "metadata": {},
   "outputs": [],
   "source": [
    "# jeannaej's code ends here"
   ]
  },
  {
   "cell_type": "code",
   "execution_count": null,
   "metadata": {},
   "outputs": [],
   "source": [
    "# natalia's code starts here"
   ]
  },
  {
   "cell_type": "code",
   "execution_count": null,
   "metadata": {},
   "outputs": [],
   "source": [
    "# Understanding how many data points are in each column\n",
    "wine_df.nunique()"
   ]
  },
  {
   "cell_type": "markdown",
   "metadata": {},
   "source": [
    "### United States specific wine analysis"
   ]
  },
  {
   "cell_type": "code",
   "execution_count": null,
   "metadata": {},
   "outputs": [],
   "source": [
    "# Creating a DF with only us wines\n",
    "US_only = wine_df.loc[wine_df[\"Country\"] == \"US\"]\n",
    "US_only"
   ]
  },
  {
   "cell_type": "code",
   "execution_count": null,
   "metadata": {},
   "outputs": [],
   "source": [
    "# Summing the entries to finding out how many times each varietal is mentioned in the data\n",
    "us_var = US_only.groupby(\"Variety\")\n",
    "us_varieties = us_var.count()\n",
    "us_varieties"
   ]
  },
  {
   "cell_type": "code",
   "execution_count": null,
   "metadata": {},
   "outputs": [],
   "source": [
    "# Summing all varieties that have less than 1000 data point; they will be lummped together\n",
    "other = 0\n",
    "for variety, row in us_varieties.iterrows():\n",
    "    if row[\"Country\"] < 1000:\n",
    "        added = row[\"Country\"]\n",
    "        other = other + added\n",
    "    else:\n",
    "        pass\n",
    "        \n",
    "print(other)"
   ]
  },
  {
   "cell_type": "code",
   "execution_count": null,
   "metadata": {},
   "outputs": [],
   "source": [
    "# Returns the top 40 varietals from US wineries\n",
    "us_var_top = us_varieties.loc[us_varieties[\"Country\"] >= 1000]"
   ]
  },
  {
   "cell_type": "code",
   "execution_count": null,
   "metadata": {},
   "outputs": [],
   "source": [
    "us_var_top.head()"
   ]
  },
  {
   "cell_type": "code",
   "execution_count": null,
   "metadata": {},
   "outputs": [],
   "source": [
    "other_wine = pd.DataFrame([[other,other,other,other,other]], columns=list([\"Country\",\"Points\",\"Price\",\"Province\",\"Region\"]))\n",
    "other_wine = other_wine.rename({\"0\":\"Other (206 Varietals)\"}) \n",
    "other_wine"
   ]
  },
  {
   "cell_type": "code",
   "execution_count": null,
   "metadata": {},
   "outputs": [],
   "source": [
    "us_var_top = us_var_top.append(other_wine, ignore_index=False)\n",
    "us_var_top"
   ]
  },
  {
   "cell_type": "code",
   "execution_count": null,
   "metadata": {},
   "outputs": [],
   "source": [
    "us_var_top = us_var_top.sort_values(by=\"Country\", ascending=False)\n",
    "us_var_top"
   ]
  },
  {
   "cell_type": "code",
   "execution_count": null,
   "metadata": {},
   "outputs": [],
   "source": [
    "# Creating a pie chart that shows the prevelence of each varietal in teh US\n",
    "# Labels for the sections of our pie chart\n",
    "labels = us_var_top.index\n",
    "\n",
    "# The values of each section of the pie chart\n",
    "sizes = us_var_top[\"Country\"]\n",
    "\n",
    "# The colors of each section of the pie chart\n",
    "# colors = [\"red\", \"orange\", \"lightcoral\", \"lightskyblue\"]\n",
    "\n",
    "# Seperate the top 3 Varietals\n",
    "explode = (0, 0.1, 0.1, 0.1, 0, 0, 0, 0, 0, 0, 0, 0)"
   ]
  },
  {
   "cell_type": "code",
   "execution_count": null,
   "metadata": {},
   "outputs": [],
   "source": [
    "plt.pie(sizes, labels=labels, autopct=\"%1.1f%%\", shadow=True, explode=explode, radius=2.5)\n",
    "plt.show()"
   ]
  },
  {
   "cell_type": "code",
   "execution_count": null,
   "metadata": {},
   "outputs": [],
   "source": [
    "# grouping the data by province to see how many entries there are for each province.\n",
    "province = US_only.groupby(\"Province\").count().sort_values(by=\"Country\", ascending=False)\n",
    "province"
   ]
  },
  {
   "cell_type": "code",
   "execution_count": null,
   "metadata": {},
   "outputs": [],
   "source": [
    "# Summing the entries to finding out how many times each province (region) is mentioned in the data\n",
    "other_prov = 0\n",
    "for prov, row in province.iterrows():\n",
    "    if row[\"Country\"] < 100:\n",
    "        added_prov = row[\"Country\"]\n",
    "        other_prov = other_prov + added_prov\n",
    "    else:\n",
    "        pass\n",
    "        \n",
    "print(other_prov)"
   ]
  },
  {
   "cell_type": "code",
   "execution_count": null,
   "metadata": {},
   "outputs": [],
   "source": [
    "other_province = pd.DataFrame([[other_prov,other_prov,other_prov,other_prov,other_prov]], columns=list([\"Country\",\"Points\",\"Price\",\"Province\",\"Region\"]))\n",
    "other_province"
   ]
  },
  {
   "cell_type": "code",
   "execution_count": null,
   "metadata": {},
   "outputs": [],
   "source": [
    "# Returns the top wine producing provinces in the US by looking at those with 1000 or more entries\n",
    "province_top = province.loc[province[\"Country\"] >1000]\n",
    "province_top"
   ]
  },
  {
   "cell_type": "code",
   "execution_count": null,
   "metadata": {},
   "outputs": [],
   "source": [
    "# Adding the previoulsy deleted data back in as single summed data point\n",
    "province_top.append(other_province, ignore_index=False)\n",
    "province_top"
   ]
  },
  {
   "cell_type": "code",
   "execution_count": null,
   "metadata": {},
   "outputs": [],
   "source": [
    "# province_top.loc[\"Other Provinces (469 Provinces)\"] = [other_prov,other_prov,other_prov,other_prov,other_prov]\n",
    "# province_top = province_top.sort_values(by=\"Country\", ascending=False)\n",
    "# province_top"
   ]
  },
  {
   "cell_type": "code",
   "execution_count": null,
   "metadata": {},
   "outputs": [],
   "source": [
    "# Creating a pie chart that shows the prevelence of each province (region) in the US\n",
    "# Labels for the sections of our pie chart\n",
    "labels = province_top.index\n",
    "\n",
    "# The values of each section of the pie chart\n",
    "sizes = province_top[\"Country\"]\n",
    "\n",
    "# The colors of each section of the pie chart\n",
    "# colors = [\"red\", \"orange\", \"lightcoral\", \"lightskyblue\"]\n",
    "\n",
    "# Seperate the top 3 Varietals\n",
    "explode = (0.1, 0, 0, 0, 0)"
   ]
  },
  {
   "cell_type": "code",
   "execution_count": null,
   "metadata": {},
   "outputs": [],
   "source": [
    "plt.pie(sizes, labels=labels, autopct=\"%1.1f%%\", shadow=True, explode=explode, startangle=90, radius=2.5)\n",
    "plt.show()"
   ]
  },
  {
   "cell_type": "code",
   "execution_count": null,
   "metadata": {},
   "outputs": [],
   "source": [
    "patches, text = plt.pie(sizes, shadow=True, explode=explode, startangle=90, radius=2.5)\n",
    "    \n",
    "plt.legend(patches, labels, loc=\"best\", bbox_to_anchor=(-0.1,1.), fontsize=12)\n",
    "plt.show()\n",
    "\n",
    "# Avoiding overlapping labels\n",
    "# https://stackoverflow.com/questions/23577505/how-to-avoid-overlapping-of-labels-autopct-in-a-matplotlib-pie-chart \n",
    "# Accessed 14 Feb 2021"
   ]
  },
  {
   "cell_type": "markdown",
   "metadata": {},
   "source": [
    "### Which country produces \"the biggest bang for your buck?\"\n",
    "* Identifying wines with with lower prices, but higher points."
   ]
  },
  {
   "cell_type": "code",
   "execution_count": null,
   "metadata": {},
   "outputs": [],
   "source": [
    "# adding a new column to the complete DF that creates the ratio of points:price; the higher the value, the better the deal\n",
    "ratio_df = wine_df\n",
    "ratio_df[\"Points:Price\"] = ratio_df[\"Points\"]/ratio_df[\"Price\"]\n",
    "ratio_df"
   ]
  },
  {
   "cell_type": "code",
   "execution_count": null,
   "metadata": {},
   "outputs": [],
   "source": [
    "# idenifying the mean of th ration by country\n",
    "mean = ratio_df.groupby(\"Country\").mean()\n",
    "mean"
   ]
  },
  {
   "cell_type": "code",
   "execution_count": null,
   "metadata": {},
   "outputs": [],
   "source": [
    "# idenifying the median of th ration by country\n",
    "median = ratio_df.groupby(\"Country\").median()\n",
    "median"
   ]
  },
  {
   "cell_type": "code",
   "execution_count": null,
   "metadata": {},
   "outputs": [],
   "source": [
    "# adding the mean and median into the DF for easier comparison\n",
    "mean_median = pd.merge(mean, median, left_index=True, right_index=True, suffixes=(\"_mean\",\"_median\"))\n",
    "best = mean_median.sort_values(by=\"Points:Price_mean\", ascending=False)\n",
    "best"
   ]
  },
  {
   "cell_type": "code",
   "execution_count": null,
   "metadata": {},
   "outputs": [],
   "source": [
    "# plotting the price/points mean per country\n",
    "x_axis_country = best.index\n",
    "point_per = best[\"Points:Price_mean\"]\n",
    "plt.bar(x_axis_country, point_per, align=\"center\")\n",
    "plt.xticks(rotation=45)\n",
    "plt.xlabel(\"Country\")\n",
    "plt.ylabel(\"Points per Dollar\")\n",
    "plt.title(\"Average Points per Dollar\")\n",
    "\n",
    "plt.show()"
   ]
  },
  {
   "cell_type": "code",
   "execution_count": null,
   "metadata": {},
   "outputs": [],
   "source": [
    "# natalia's code ends here"
   ]
  },
  {
   "cell_type": "code",
   "execution_count": null,
   "metadata": {},
   "outputs": [],
   "source": [
    "# sharon's code starts here"
   ]
  },
  {
   "cell_type": "code",
   "execution_count": null,
   "metadata": {},
   "outputs": [],
   "source": [

    "# Linear Regression... is there a correlation between price and rating\n",

    "# Can we predict the rating based on price?\n",
    "\n",
    "wine_df\n",
    "us_wine_df = wine_df.loc[wine_df['Country'] == 'US']\n",
    "# Dropping \"extreme, obvious\" outliers\n",
    "us_wine_df = us_wine_df.loc[us_wine_df['Price'] < 500.0]\n",
    "us_wine_df"
   ]
  },
  {
   "cell_type": "code",
   "execution_count": null,
   "metadata": {},
   "outputs": [],
   "source": [
    "# TODO: add the (x,y) values for the annotation so the equation shows up on the graph\n",
    "# Use strict outliers?  Or just the extreme outliers... maybe try the strict first\n",
    "\n",
    "def wine_regression(x_values, y_values, wine_variety):\n",
    "    \n",
    "\n",
    "    (slope, intercept, rvalue, pvalue, stderr) = st.linregress(x_values, y_values)\n",
    "    regress_values = x_values * slope + intercept\n",
    "    line_eq = \"y = \" + str(round(slope,2)) + \"x + \" + str(round(intercept,2))\n",
    "\n",
    "    plt.scatter(x_values, y_values, marker=\"o\", facecolor=\"maroon\", alpha=0.4)\n",
    "    plt.plot(x_values, regress_values, \"r-\")\n",
    "    plt.annotate(line_eq, (80, 250), fontsize=15, color = \"blue\")\n",
    "    plt.ylabel(\"Price of Wine (per bottle)\")\n",
    "    plt.xlabel(\"Rating of Wine (in Points)\")\n",
    "    plt.title(f\"{wine_variety}: Wine Rating versus Price\")\n",
    "    plt.show()"
   ]
  },
  {
   "cell_type": "code",
   "execution_count": null,
   "metadata": {},
   "outputs": [],
   "source": [
    "y_values = us_wine_df['Price']\n",
    "x_values = us_wine_df['Points']\n",
    "\n",
    "wine_regression(x_values, y_values, 'All Varieties')"
   ]
  },
  {
   "cell_type": "code",
   "execution_count": null,
   "metadata": {},
   "outputs": [],
   "source": [
    "# Pinot Noir\n",
    "us_pinot_df = us_wine_df.loc[us_wine_df['Variety'] == 'Pinot Noir']\n",
    "x_values = us_pinot_df['Points']\n",
    "y_values = us_pinot_df['Price']\n",
    "\n",
    "wine_regression(x_values, y_values, 'Pinot Noir')"
   ]
  },
  {
   "cell_type": "code",
   "execution_count": null,
   "metadata": {},
   "outputs": [],
   "source": [
    "## find Price outliers for boxplot (see below)\n",
    "pinots = np.asarray(us_pinot_df['Price'])\n",
    "\n",
    "pinot_quartiles = pd.DataFrame(pinots).quantile([.25,.5,.75], axis=0)\n",

    "pinot_quartiles"

   ]
  },
  {
   "cell_type": "code",
   "execution_count": null,
   "metadata": {},
   "outputs": [],
   "source": [
    "pinot_lowerq = pinot_quartiles.loc[0.25]  #TODO: this reference needs to be cleaned up\n",
    "pinot_median = pinot_quartiles.loc[0.50]\n",
    "pinot_upperq = pinot_quartiles.loc[0.75]\n",
    "pinot_iqr = pinot_upperq - pinot_lowerq\n",
    "\n",
    "print(f'The lower quartile of Price for Pinot Noir is: {pinot_lowerq[0]}')\n",
    "print(f'The upper quartile of Price for Pinot Noir is: {pinot_upperq[0]}')\n",
    "print(f'The interquartile range of Price for Pinot Noir is: {pinot_iqr[0]}')\n",
    "print(f'The median of Price for Pinot Noir is: {pinot_median[0]}')\n",
    "\n",
    "pinot_lower_bound = pinot_lowerq - (1.5*pinot_iqr)\n",
    "pinot_upper_bound = pinot_upperq + (1.5*pinot_iqr)\n",
    "\n",
    "print(f'Pinot Noir Price below {pinot_lower_bound[0]} could be outliers.')\n",
    "print(f'Pinot Noir Price above {pinot_upper_bound[0]} could be outliers.')"
   ]
  },
  {
   "cell_type": "code",
   "execution_count": null,
   "metadata": {},
   "outputs": [],
   "source": [
    "## re-run the linear regression HERE - TODO"
   ]
  },
  {
   "cell_type": "code",
   "execution_count": null,
   "metadata": {},
   "outputs": [],
   "source": [
    "# Cabernet Sauvignon\n",
    "us_cab_df = us_wine_df.loc[us_wine_df['Variety'] == 'Cabernet Sauvignon']\n",
    "x_values = us_cab_df['Points']\n",
    "y_values = us_cab_df['Price']\n",
    "\n",
    "wine_regression(x_values, y_values, 'Cabernet Sauvignon')"
   ]
  },
  {
   "cell_type": "code",
   "execution_count": null,
   "metadata": {},
   "outputs": [],
   "source": [
    "## find Price outliers for boxplot (see below)\n",
    "cabs = np.asarray(us_cab_df['Price'])  #Cabernet Sauvignon\n",
    "\n",
    "cabs_quartiles = pd.DataFrame(cabs).quantile([.25,.5,.75], axis=0)\n",

    "cabs_quartiles"


   ]
  },
  {
   "cell_type": "code",
   "execution_count": null,
   "metadata": {},
   "outputs": [],
   "source": [
    "cabs_lowerq = cabs_quartiles.loc[0.25]  #TODO: this reference needs to be cleaned up\n",
    "cabs_median = cabs_quartiles.loc[0.50]\n",
    "cabs_upperq = cabs_quartiles.loc[0.75]\n",
    "cabs_iqr = cabs_upperq - cabs_lowerq\n",
    "\n",
    "print(f'The lower quartile of Price for Cabernet Sauvignon is: {cabs_lowerq[0]}')\n",
    "print(f'The upper quartile of Price for Cabernet Sauvignon is: {cabs_upperq[0]}')\n",
    "print(f'The interquartile range of Price for Cabernet Sauvignon is: {cabs_iqr[0]}')\n",
    "print(f'The median of Price for Cabernet Sauvignon is: {cabs_median[0]}')\n",
    "\n",
    "cabs_lower_bound = cabs_lowerq - (1.5*cabs_iqr)\n",
    "cabs_upper_bound = cabs_upperq + (1.5*cabs_iqr)\n",
    "\n",
    "print(f'Cabernet Sauvignon Price below {cabs_lower_bound[0]} could be outliers.')\n",
    "print(f'Cabernet Sauvignon Price above {cabs_upper_bound[0]} could be outliers.')"
   ]
  },
  {
   "cell_type": "code",
   "execution_count": null,
   "metadata": {},
   "outputs": [],
   "source": [
    "# Chardonnay  This is a good candidate for a box plot b/c of the outlier\n",
    "us_chard_df = us_wine_df.loc[us_wine_df['Variety'] == 'Chardonnay']\n",
    "us_chard_df = us_chard_df.loc[us_chard_df['Price'] < 250]\n",
    "\n",
    "x_values = us_chard_df['Points']\n",
    "y_values = us_chard_df['Price']\n",
    "\n",
    "wine_regression(x_values, y_values, 'Chardonnay')"
   ]
  },
  {
   "cell_type": "code",
   "execution_count": null,
   "metadata": {},
   "outputs": [],
   "source": [
    "## find Price outliers for boxplot (see below)\n",
    "chards = np.asarray(us_chard_df['Price'])  #Chardonnay\n",
    "\n",
    "chard_quartiles = pd.DataFrame(chards).quantile([.25,.5,.75], axis=0)\n",
    "chard_quartiles"
   ]
  },
  {
   "cell_type": "code",
   "execution_count": null,
   "metadata": {},
   "outputs": [],
   "source": [
    "chard_lowerq = chard_quartiles.loc[0.25]  \n",
    "chard_median = chard_quartiles.loc[0.50]\n",
    "chard_upperq = chard_quartiles.loc[0.75]\n",
    "chard_iqr = chard_upperq - chard_lowerq\n",
    "\n",
    "print(f'The lower quartile of Price for Cabernet Sauvignon is: {chard_lowerq[0]}')\n",
    "print(f'The upper quartile of Price for Cabernet Sauvignon is: {chard_upperq[0]}')\n",
    "print(f'The interquartile range of Price for Cabernet Sauvignon is: {chard_iqr[0]}')\n",
    "print(f'The median of Price for Cabernet Sauvignon is: {chard_median[0]}')\n",
    "\n",
    "chard_lower_bound = chard_lowerq - (1.5*chard_iqr)\n",
    "chard_upper_bound = chard_upperq + (1.5*chard_iqr)\n",
    "\n",
    "print(f'Chardonnay Price below {chard_lower_bound[0]} could be outliers.')\n",
    "print(f'Chardonnay Price above {chard_upper_bound[0]} could be outliers.')"
   ]
  },
  {
   "cell_type": "code",
   "execution_count": null,
   "metadata": {},
   "outputs": [],
   "source": [
    "# Redraw Chard with upper outliers removed\n",
    "###  this is doing weird spacing things above the graph\n",
    "#us_chard_df = us_chard_df.loc[us_chard_df['Price'] < 62.0]\n",
    "\n",
    "#x_values = us_chard_df['Points']\n",
    "#y_values = us_chard_df['Price']\n",
    "\n",
    "#wine_regression(x_values, y_values, 'Chardonnay')"
   ]
  },
  {
   "cell_type": "code",
   "execution_count": null,
   "metadata": {},
   "outputs": [],
   "source": [
    "# Syrah\n",
    "us_syrah_df = us_wine_df.loc[us_wine_df['Variety'] == 'Syrah']\n",
    "x_values = us_syrah_df['Points']\n",
    "y_values = us_syrah_df['Price']\n",
    "\n",
    "wine_regression(x_values, y_values, 'Syrah')"
   ]
  },
  {
   "cell_type": "code",
   "execution_count": null,
   "metadata": {},
   "outputs": [],
   "source": [
    "## find Price outliers for boxplot (see below)\n",
    "syrahs = np.asarray(us_syrah_df['Price'])  #Syrah\n",
    "\n",
    "syrah_quartiles = pd.DataFrame(syrahs).quantile([.25,.5,.75], axis=0)\n",
    "syrah_quartiles"
   ]
  },
  {
   "cell_type": "code",
   "execution_count": null,
   "metadata": {},
   "outputs": [],
   "source": [
    "syrah_lowerq = syrah_quartiles.loc[0.25]  \n",
    "syrah_median = syrah_quartiles.loc[0.50]\n",
    "syrah_upperq = syrah_quartiles.loc[0.75]\n",
    "syrah_iqr = syrah_upperq - syrah_lowerq\n",
    "\n",
    "print(f'The lower quartile of Price for Cabernet Sauvignon is: {syrah_lowerq[0]}')\n",
    "print(f'The upper quartile of Price for Cabernet Sauvignon is: {syrah_upperq[0]}')\n",
    "print(f'The interquartile range of Price for Cabernet Sauvignon is: {syrah_iqr[0]}')\n",
    "print(f'The median of Price for Cabernet Sauvignon is: {syrah_median[0]}')\n",
    "\n",
    "syrah_lower_bound = syrah_lowerq - (1.5*syrah_iqr)\n",
    "syrah_upper_bound = syrah_upperq + (1.5*syrah_iqr)\n",
    "\n",
    "print(f'Syrah Price below {syrah_lower_bound[0]} could be outliers.')\n",
    "print(f'Syrah Price above {syrah_upper_bound[0]} could be outliers.')"
   ]
  },
  {
   "cell_type": "code",
   "execution_count": null,
   "metadata": {},
   "outputs": [],
   "source": []
  },
  {
   "cell_type": "code",
   "execution_count": null,
   "metadata": {},
   "outputs": [],
   "source": []
  },
  {
   "cell_type": "code",
   "execution_count": null,
   "metadata": {},
   "outputs": [],
   "source": []
  },
  {
   "cell_type": "code",
   "execution_count": null,
   "metadata": {},
   "outputs": [],
   "source": [
    "# Box plot for Pinot Noir, Cabernet Sauvignon, Chardonnay\n",
    "\n",
    "columns = [pinots, cabs, chards, syrahs]\n",
    "\n",
    "fig, ax = plt.subplots()\n",
    "ax.set_title('Wine Varieties')\n",
    "ax.set_ylabel('Price')  # per bottle?  update?\n",
    "labels = ['Pinot Noir', 'Cabernet Sauvignon', 'Chardonnay', 'Syrah']\n",
    "ax.boxplot(columns, labels=labels)\n",
    "plt.show()"
   ]
  },
  {
   "cell_type": "code",
   "execution_count": null,
   "metadata": {},
   "outputs": [],
   "source": []
  },
  {
   "cell_type": "code",
   "execution_count": null,
   "metadata": {},
   "outputs": [],
   "source": [
    "# sharon's code ends here"
   ]
  },
  {
   "cell_type": "code",
   "execution_count": null,
   "metadata": {},
   "outputs": [],
   "source": []
  },
  {
   "cell_type": "code",
   "execution_count": null,
   "metadata": {},
   "outputs": [],
   "source": []
  }
 ],
 "metadata": {
  "kernelspec": {
   "display_name": "Python 3",
   "language": "python",
   "name": "python3"
  },
  "language_info": {
   "codemirror_mode": {
    "name": "ipython",
    "version": 3
   },
   "file_extension": ".py",
   "mimetype": "text/x-python",
   "name": "python",
   "nbconvert_exporter": "python",
   "pygments_lexer": "ipython3",
   "version": "3.6.10"
  }
 },
 "nbformat": 4,
 "nbformat_minor": 4
}
