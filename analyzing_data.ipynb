{
 "cells": [
  {
   "cell_type": "code",
   "execution_count": null,
   "metadata": {},
   "outputs": [],
   "source": [
    "# jeannaej's code starts here"
   ]
  },
  {
   "cell_type": "code",
   "execution_count": null,
   "metadata": {},
   "outputs": [],
   "source": [
    "import pandas as pd\n",
    "import matplotlib.pyplot as plt"
   ]
  },
  {
   "cell_type": "code",
   "execution_count": null,
   "metadata": {},
   "outputs": [],
   "source": [
    "# Read the cleaned wine data csv\n",
    "wine_data = pd.read_csv(\"wine_data.csv\")\n",
    "wine_data.head()"
   ]
  },
  {
   "cell_type": "code",
   "execution_count": null,
   "metadata": {},
   "outputs": [],
   "source": [
    "# Get the countries\n",
    "countries = wine_data[\"Country\"].unique()\n",
    "countries = sorted(countries)\n",
    "countries"
   ]
  },
  {
   "cell_type": "code",
   "execution_count": null,
   "metadata": {},
   "outputs": [],
   "source": [
    "# Grouping by country\n",
    "country_group = wine_data.groupby([\"Country\"])\n",
    "points_c_mean = country_group[\"Points\"].mean()\n",
    "price_c_mean = country_group[\"Price\"].mean()\n",
    "points_c_median = country_group[\"Points\"].median()\n",
    "price_c_median = country_group[\"Price\"].median()"
   ]
  },
  {
   "cell_type": "code",
   "execution_count": null,
   "metadata": {},
   "outputs": [],
   "source": [
    "# Creating a bar graph Average rating by country\n",
    "plt.bar(countries, points_c_mean, align = \"center\")\n",
    "\n",
    "plt.title(\"Average Rating Points by Country\")\n",
    "plt.xlabel(\"Countries\")\n",
    "plt.ylabel(\"Rating Point\")\n",
    "plt.xticks(rotation = 90)\n",
    "plt.show()"
   ]
  },
  {
   "cell_type": "code",
   "execution_count": null,
   "metadata": {},
   "outputs": [],
   "source": [
    "# Creating a bar graph Median rating by country\n",
    "plt.bar(countries, points_c_median, align = \"center\")\n",
    "\n",
    "plt.title(\"Median Rating Points by Country\")\n",
    "plt.xlabel(\"Countries\")\n",
    "plt.ylabel(\"Rating Point\")\n",
    "plt.xticks(rotation = 90)\n",
    "plt.show()"
   ]
  },
  {
   "cell_type": "code",
   "execution_count": null,
   "metadata": {},
   "outputs": [],
   "source": [
    "# Creating a bar graph Price by country\n",
    "plt.bar(countries, price_c_mean, align = \"center\")\n",
    "\n",
    "plt.title(\"Average Price by Country\")\n",
    "plt.xlabel(\"Countries\")\n",
    "plt.ylabel(\"Price ($)\")\n",
    "plt.xticks(rotation = 90)\n",
    "plt.show()"
   ]
  },
  {
   "cell_type": "code",
   "execution_count": null,
   "metadata": {},
   "outputs": [],
   "source": [
    "# Creating a bar graph Price by country\n",
    "plt.bar(countries, price_c_median, align = \"center\")\n",
    "\n",
    "plt.title(\"Median Price by Country\")\n",
    "plt.xlabel(\"Countries\")\n",
    "plt.ylabel(\"Price ($)\")\n",
    "plt.xticks(rotation = 90)\n",
    "plt.show()"
   ]
  },
  {
   "cell_type": "code",
   "execution_count": null,
   "metadata": {},
   "outputs": [],
   "source": [
    "# Grouping by country\n",
    "variety_group = wine_data.groupby([\"Variety\"])\n",
    "points_v_mean = variety_group[\"Points\"].mean()\n",
    "price_v_mean = variety_group[\"Price\"].mean()\n",
    "points_v_median = variety_group[\"Points\"].median()\n",
    "price_v_median = variety_group[\"Price\"].median()\n",
    "varieties = wine_data[\"Variety\"].unique()\n",
    "varieties = sorted(varieties)\n",
    "varieties"
   ]
  },
  {
   "cell_type": "code",
   "execution_count": null,
   "metadata": {},
   "outputs": [],
   "source": [
    "# Creating a bar graph Average points by varietal\n",
    "plt.bar(varieties, points_v_mean, align = \"center\")\n",
    "\n",
    "plt.title(\"Average Rating Points by Variety\")\n",
    "plt.xlabel(\"Varieties\")\n",
    "plt.ylabel(\"Rating Points\")\n",
    "plt.xticks(rotation = 90)\n",
    "plt.show()"
   ]
  },
  {
   "cell_type": "code",
   "execution_count": null,
   "metadata": {},
   "outputs": [],
   "source": [
    "# Creating a bar graph Average points by varietal\n",
    "plt.bar(varieties, points_v_median, align = \"center\")\n",
    "\n",
    "plt.title(\"Median Rating Points by Variety\")\n",
    "plt.xlabel(\"Varieties\")\n",
    "plt.ylabel(\"Rating Points\")\n",
    "plt.xticks(rotation = 90)\n",
    "plt.show()"
   ]
  },
  {
   "cell_type": "code",
   "execution_count": null,
   "metadata": {},
   "outputs": [],
   "source": [
    "# Creating a bar graph Average Price by varietal\n",
    "plt.bar(varieties, price_v_mean, align = \"center\")\n",
    "\n",
    "plt.title(\"Average Price by Variety\")\n",
    "plt.xlabel(\"Varieties\")\n",
    "plt.ylabel(\"Price ($)\")\n",
    "plt.xticks(rotation = 90)\n",
    "plt.show()"
   ]
  },
  {
   "cell_type": "code",
   "execution_count": null,
   "metadata": {},
   "outputs": [],
   "source": [
    "# Creating a bar graph Average Price by varietal\n",
    "plt.bar(varieties, price_v_median, align = \"center\")\n",
    "\n",
    "plt.title(\"Median Price by Variety\")\n",
    "plt.xlabel(\"Varieties\")\n",
    "plt.ylabel(\"Price ($)\")\n",
    "plt.xticks(rotation = 90)\n",
    "plt.show()"
   ]
  },
  {
   "cell_type": "code",
   "execution_count": null,
   "metadata": {},
   "outputs": [],
   "source": [
    "# Getting $40 or more\n",
    "wine_over_40 = wine_data.loc[wine_data[\"Price\"] >= 40]\n",
    "wine_over_40"
   ]
  },
  {
   "cell_type": "code",
   "execution_count": null,
   "metadata": {},
   "outputs": [],
   "source": [
    "# Grouping by Variety\n",
    "variety_o40_group = wine_over_40.groupby([\"Variety\"])\n",
    "points_v_o40_mean = variety_group[\"Points\"].mean()\n",
    "price_v_o40_mean = variety_group[\"Price\"].mean()\n",
    "varieties_o40 = wine_data[\"Variety\"].unique()\n",
    "varieties_o40 = sorted(varieties)\n",
    "price_v_o40_mean"
   ]
  },
  {
   "cell_type": "code",
   "execution_count": null,
   "metadata": {},
   "outputs": [],
   "source": [
    "# Creating a bar graph Average points by varietal\n",
    "plt.bar(varieties_o40, points_v_o40_mean, align = \"center\")\n",
    "\n",
    "plt.title(\"Average Rating Points by Variety\")\n",
    "plt.xlabel(\"Varieties\")\n",
    "plt.ylabel(\"Average Rating Points\")\n",
    "plt.xticks(rotation = 90)\n",
    "plt.show()"
   ]
  },
  {
   "cell_type": "code",
   "execution_count": null,
   "metadata": {},
   "outputs": [],
   "source": [
    "# Creating a bar graph Average Price by varietal\n",
    "plt.bar(varieties_o40, price_v_o40_mean, align = \"center\")\n",
    "\n",
    "plt.title(\"Average Price by Variety\")\n",
    "plt.xlabel(\"Varieties\")\n",
    "plt.ylabel(\"Average Price\")\n",
    "plt.xticks(rotation = 90)\n",
    "plt.show()"
   ]
  },
  {
   "cell_type": "code",
   "execution_count": null,
   "metadata": {},
   "outputs": [],
   "source": [
    "# to do the over $40 need to get the average that is over $40. Think of possibly doing a For Loop?"
   ]
  },
  {
   "cell_type": "code",
   "execution_count": null,
   "metadata": {},
   "outputs": [],
   "source": []
  },
  {
   "cell_type": "code",
   "execution_count": null,
   "metadata": {},
   "outputs": [],
   "source": []
  },
  {
   "cell_type": "code",
   "execution_count": null,
   "metadata": {},
   "outputs": [],
   "source": []
  },
  {
   "cell_type": "code",
   "execution_count": null,
   "metadata": {},
   "outputs": [],
   "source": []
  },
  {
   "cell_type": "code",
   "execution_count": null,
   "metadata": {},
   "outputs": [],
   "source": [
    "# jeannaej's code ends here"
   ]
  },
  {
   "cell_type": "code",
   "execution_count": null,
   "metadata": {},
   "outputs": [],
   "source": [
    "# natalia's code starts here"
   ]
  },
  {
   "cell_type": "code",
   "execution_count": null,
   "metadata": {},
   "outputs": [],
   "source": [
    "# natalia's code ends here"
   ]
  },
  {
   "cell_type": "code",
   "execution_count": null,
   "metadata": {},
   "outputs": [],
   "source": [
    "# sharon's code starts here"
   ]
  },
  {
   "cell_type": "code",
   "execution_count": null,
   "metadata": {},
   "outputs": [],
   "source": [
    "# sharon's code ends here"
   ]
  }
 ],
 "metadata": {
  "kernelspec": {
   "display_name": "Python 3",
   "language": "python",
   "name": "python3"
  },
  "language_info": {
   "codemirror_mode": {
    "name": "ipython",
    "version": 3
   },
   "file_extension": ".py",
   "mimetype": "text/x-python",
   "name": "python",
   "nbconvert_exporter": "python",
   "pygments_lexer": "ipython3",
   "version": "3.6.10"
  }
 },
 "nbformat": 4,
 "nbformat_minor": 4
}
