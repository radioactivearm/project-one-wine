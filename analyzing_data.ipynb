{
 "cells": [
  {
   "cell_type": "code",
   "execution_count": 77,
   "metadata": {},
   "outputs": [],
   "source": [
    "#import dependencies\n",
    "import pandas as pd\n",
    "import matplotlib.pyplot as plt\n",
    "import numpy as np\n",
    "import csv\n",
    "import scipy.stats as st"
   ]
  },
  {
   "cell_type": "code",
   "execution_count": 72,
   "metadata": {},
   "outputs": [
    {
     "data": {
      "text/html": [
       "<div>\n",
       "<style scoped>\n",
       "    .dataframe tbody tr th:only-of-type {\n",
       "        vertical-align: middle;\n",
       "    }\n",
       "\n",
       "    .dataframe tbody tr th {\n",
       "        vertical-align: top;\n",
       "    }\n",
       "\n",
       "    .dataframe thead th {\n",
       "        text-align: right;\n",
       "    }\n",
       "</style>\n",
       "<table border=\"1\" class=\"dataframe\">\n",
       "  <thead>\n",
       "    <tr style=\"text-align: right;\">\n",
       "      <th></th>\n",
       "      <th>Country</th>\n",
       "      <th>Points</th>\n",
       "      <th>Price</th>\n",
       "      <th>Province</th>\n",
       "      <th>Region</th>\n",
       "      <th>Variety</th>\n",
       "    </tr>\n",
       "  </thead>\n",
       "  <tbody>\n",
       "    <tr>\n",
       "      <th>0</th>\n",
       "      <td>US</td>\n",
       "      <td>96</td>\n",
       "      <td>235.0</td>\n",
       "      <td>California</td>\n",
       "      <td>Napa Valley</td>\n",
       "      <td>Cabernet Sauvignon</td>\n",
       "    </tr>\n",
       "    <tr>\n",
       "      <th>1</th>\n",
       "      <td>US</td>\n",
       "      <td>96</td>\n",
       "      <td>90.0</td>\n",
       "      <td>California</td>\n",
       "      <td>Knights Valley</td>\n",
       "      <td>Sauvignon Blanc</td>\n",
       "    </tr>\n",
       "    <tr>\n",
       "      <th>2</th>\n",
       "      <td>US</td>\n",
       "      <td>96</td>\n",
       "      <td>65.0</td>\n",
       "      <td>Oregon</td>\n",
       "      <td>Willamette Valley</td>\n",
       "      <td>Pinot Noir</td>\n",
       "    </tr>\n",
       "    <tr>\n",
       "      <th>3</th>\n",
       "      <td>US</td>\n",
       "      <td>95</td>\n",
       "      <td>65.0</td>\n",
       "      <td>Oregon</td>\n",
       "      <td>Chehalem Mountains</td>\n",
       "      <td>Pinot Noir</td>\n",
       "    </tr>\n",
       "    <tr>\n",
       "      <th>4</th>\n",
       "      <td>US</td>\n",
       "      <td>95</td>\n",
       "      <td>60.0</td>\n",
       "      <td>California</td>\n",
       "      <td>Sonoma Coast</td>\n",
       "      <td>Pinot Noir</td>\n",
       "    </tr>\n",
       "    <tr>\n",
       "      <th>...</th>\n",
       "      <td>...</td>\n",
       "      <td>...</td>\n",
       "      <td>...</td>\n",
       "      <td>...</td>\n",
       "      <td>...</td>\n",
       "      <td>...</td>\n",
       "    </tr>\n",
       "    <tr>\n",
       "      <th>134423</th>\n",
       "      <td>South Africa</td>\n",
       "      <td>83</td>\n",
       "      <td>15.0</td>\n",
       "      <td>Stellenbosch</td>\n",
       "      <td>NaN</td>\n",
       "      <td>Pinotage</td>\n",
       "    </tr>\n",
       "    <tr>\n",
       "      <th>134424</th>\n",
       "      <td>South Africa</td>\n",
       "      <td>83</td>\n",
       "      <td>16.0</td>\n",
       "      <td>Stellenbosch</td>\n",
       "      <td>NaN</td>\n",
       "      <td>White Blend</td>\n",
       "    </tr>\n",
       "    <tr>\n",
       "      <th>134425</th>\n",
       "      <td>South Africa</td>\n",
       "      <td>82</td>\n",
       "      <td>15.0</td>\n",
       "      <td>Coastal Region</td>\n",
       "      <td>NaN</td>\n",
       "      <td>Merlot</td>\n",
       "    </tr>\n",
       "    <tr>\n",
       "      <th>134426</th>\n",
       "      <td>South Africa</td>\n",
       "      <td>82</td>\n",
       "      <td>14.0</td>\n",
       "      <td>Paarl</td>\n",
       "      <td>NaN</td>\n",
       "      <td>Merlot</td>\n",
       "    </tr>\n",
       "    <tr>\n",
       "      <th>134427</th>\n",
       "      <td>South Africa</td>\n",
       "      <td>82</td>\n",
       "      <td>14.0</td>\n",
       "      <td>Paarl</td>\n",
       "      <td>NaN</td>\n",
       "      <td>Chardonnay</td>\n",
       "    </tr>\n",
       "  </tbody>\n",
       "</table>\n",
       "<p>134428 rows × 6 columns</p>\n",
       "</div>"
      ],
      "text/plain": [
       "             Country  Points  Price        Province              Region  \\\n",
       "0                 US      96  235.0      California         Napa Valley   \n",
       "1                 US      96   90.0      California      Knights Valley   \n",
       "2                 US      96   65.0          Oregon   Willamette Valley   \n",
       "3                 US      95   65.0          Oregon  Chehalem Mountains   \n",
       "4                 US      95   60.0      California        Sonoma Coast   \n",
       "...              ...     ...    ...             ...                 ...   \n",
       "134423  South Africa      83   15.0    Stellenbosch                 NaN   \n",
       "134424  South Africa      83   16.0    Stellenbosch                 NaN   \n",
       "134425  South Africa      82   15.0  Coastal Region                 NaN   \n",
       "134426  South Africa      82   14.0           Paarl                 NaN   \n",
       "134427  South Africa      82   14.0           Paarl                 NaN   \n",
       "\n",
       "                   Variety  \n",
       "0       Cabernet Sauvignon  \n",
       "1          Sauvignon Blanc  \n",
       "2               Pinot Noir  \n",
       "3               Pinot Noir  \n",
       "4               Pinot Noir  \n",
       "...                    ...  \n",
       "134423            Pinotage  \n",
       "134424         White Blend  \n",
       "134425              Merlot  \n",
       "134426              Merlot  \n",
       "134427          Chardonnay  \n",
       "\n",
       "[134428 rows x 6 columns]"
      ]
     },
     "execution_count": 72,
     "metadata": {},
     "output_type": "execute_result"
    }
   ],
   "source": [
    "# import .csv\n",
    "csv_path = \"wine_data.csv\"\n",
    "wine_df = pd.read_csv(csv_path, low_memory=False)\n",
    "wine_df"
   ]
  },
  {
   "cell_type": "code",
   "execution_count": 21,
   "metadata": {},
   "outputs": [
    {
     "data": {
      "text/html": [
       "<div>\n",
       "<style scoped>\n",
       "    .dataframe tbody tr th:only-of-type {\n",
       "        vertical-align: middle;\n",
       "    }\n",
       "\n",
       "    .dataframe tbody tr th {\n",
       "        vertical-align: top;\n",
       "    }\n",
       "\n",
       "    .dataframe thead th {\n",
       "        text-align: right;\n",
       "    }\n",
       "</style>\n",
       "<table border=\"1\" class=\"dataframe\">\n",
       "  <thead>\n",
       "    <tr style=\"text-align: right;\">\n",
       "      <th></th>\n",
       "      <th>Country</th>\n",
       "      <th>Points</th>\n",
       "      <th>Price</th>\n",
       "      <th>Province</th>\n",
       "      <th>Region</th>\n",
       "      <th>Variety</th>\n",
       "    </tr>\n",
       "  </thead>\n",
       "  <tbody>\n",
       "    <tr>\n",
       "      <th>0</th>\n",
       "      <td>US</td>\n",
       "      <td>95</td>\n",
       "      <td>90.0</td>\n",
       "      <td>Oregon</td>\n",
       "      <td>Willamette Valley</td>\n",
       "      <td>Chardonnay</td>\n",
       "    </tr>\n",
       "    <tr>\n",
       "      <th>1</th>\n",
       "      <td>US</td>\n",
       "      <td>95</td>\n",
       "      <td>60.0</td>\n",
       "      <td>California</td>\n",
       "      <td>Edna Valley</td>\n",
       "      <td>Chardonnay</td>\n",
       "    </tr>\n",
       "    <tr>\n",
       "      <th>2</th>\n",
       "      <td>US</td>\n",
       "      <td>90</td>\n",
       "      <td>37.0</td>\n",
       "      <td>California</td>\n",
       "      <td>Russian River Valley</td>\n",
       "      <td>Chardonnay</td>\n",
       "    </tr>\n",
       "    <tr>\n",
       "      <th>3</th>\n",
       "      <td>US</td>\n",
       "      <td>90</td>\n",
       "      <td>42.0</td>\n",
       "      <td>Washington</td>\n",
       "      <td>Columbia Valley (WA)</td>\n",
       "      <td>Chardonnay</td>\n",
       "    </tr>\n",
       "    <tr>\n",
       "      <th>4</th>\n",
       "      <td>US</td>\n",
       "      <td>90</td>\n",
       "      <td>18.0</td>\n",
       "      <td>California</td>\n",
       "      <td>Russian River Valley</td>\n",
       "      <td>Chardonnay</td>\n",
       "    </tr>\n",
       "    <tr>\n",
       "      <th>...</th>\n",
       "      <td>...</td>\n",
       "      <td>...</td>\n",
       "      <td>...</td>\n",
       "      <td>...</td>\n",
       "      <td>...</td>\n",
       "      <td>...</td>\n",
       "    </tr>\n",
       "    <tr>\n",
       "      <th>106390</th>\n",
       "      <td>South Africa</td>\n",
       "      <td>89</td>\n",
       "      <td>30.0</td>\n",
       "      <td>Paarl</td>\n",
       "      <td>NaN</td>\n",
       "      <td>Viognier</td>\n",
       "    </tr>\n",
       "    <tr>\n",
       "      <th>106391</th>\n",
       "      <td>South Africa</td>\n",
       "      <td>88</td>\n",
       "      <td>19.0</td>\n",
       "      <td>Coastal Region</td>\n",
       "      <td>NaN</td>\n",
       "      <td>Viognier</td>\n",
       "    </tr>\n",
       "    <tr>\n",
       "      <th>106392</th>\n",
       "      <td>South Africa</td>\n",
       "      <td>88</td>\n",
       "      <td>14.0</td>\n",
       "      <td>Coastal Region</td>\n",
       "      <td>NaN</td>\n",
       "      <td>Viognier</td>\n",
       "    </tr>\n",
       "    <tr>\n",
       "      <th>106393</th>\n",
       "      <td>South Africa</td>\n",
       "      <td>87</td>\n",
       "      <td>20.0</td>\n",
       "      <td>Coastal Region</td>\n",
       "      <td>NaN</td>\n",
       "      <td>Viognier</td>\n",
       "    </tr>\n",
       "    <tr>\n",
       "      <th>106394</th>\n",
       "      <td>South Africa</td>\n",
       "      <td>85</td>\n",
       "      <td>23.0</td>\n",
       "      <td>Swartland</td>\n",
       "      <td>NaN</td>\n",
       "      <td>Viognier</td>\n",
       "    </tr>\n",
       "  </tbody>\n",
       "</table>\n",
       "<p>106395 rows × 6 columns</p>\n",
       "</div>"
      ],
      "text/plain": [
       "             Country  Points  Price        Province                Region  \\\n",
       "0                 US      95   90.0          Oregon     Willamette Valley   \n",
       "1                 US      95   60.0      California           Edna Valley   \n",
       "2                 US      90   37.0      California  Russian River Valley   \n",
       "3                 US      90   42.0      Washington  Columbia Valley (WA)   \n",
       "4                 US      90   18.0      California  Russian River Valley   \n",
       "...              ...     ...    ...             ...                   ...   \n",
       "106390  South Africa      89   30.0           Paarl                   NaN   \n",
       "106391  South Africa      88   19.0  Coastal Region                   NaN   \n",
       "106392  South Africa      88   14.0  Coastal Region                   NaN   \n",
       "106393  South Africa      87   20.0  Coastal Region                   NaN   \n",
       "106394  South Africa      85   23.0       Swartland                   NaN   \n",
       "\n",
       "           Variety  \n",
       "0       Chardonnay  \n",
       "1       Chardonnay  \n",
       "2       Chardonnay  \n",
       "3       Chardonnay  \n",
       "4       Chardonnay  \n",
       "...            ...  \n",
       "106390    Viognier  \n",
       "106391    Viognier  \n",
       "106392    Viognier  \n",
       "106393    Viognier  \n",
       "106394    Viognier  \n",
       "\n",
       "[106395 rows x 6 columns]"
      ]
     },
     "execution_count": 21,
     "metadata": {},
     "output_type": "execute_result"
    }
   ],
   "source": [
    "variety_path = \"variety_data.csv\"\n",
    "variety_df = pd.read_csv(variety_path, low_memory=False)\n",
    "variety_df"
   ]
  },
  {
   "cell_type": "code",
   "execution_count": 4,
   "metadata": {},
   "outputs": [],
   "source": [
    "# jeanaej's code starts here"
   ]
  },
  {
   "cell_type": "markdown",
   "metadata": {},
   "source": [
    "## By Country"
   ]
  },
  {
   "cell_type": "code",
   "execution_count": 6,
   "metadata": {
    "scrolled": true
   },
   "outputs": [
    {
     "data": {
      "text/plain": [
       "['Argentina',\n",
       " 'Australia',\n",
       " 'Austria',\n",
       " 'Chile',\n",
       " 'France',\n",
       " 'Germany',\n",
       " 'Italy',\n",
       " 'New Zealand',\n",
       " 'Portugal',\n",
       " 'South Africa',\n",
       " 'Spain',\n",
       " 'US']"
      ]
     },
     "execution_count": 6,
     "metadata": {},
     "output_type": "execute_result"
    }
   ],
   "source": [
    "# Get the countries\n",
    "countries = wine_df[\"Country\"].unique()\n",
    "countries = sorted(countries)\n",
    "countries"
   ]
  },
  {
   "cell_type": "code",
   "execution_count": 7,
   "metadata": {},
   "outputs": [],
   "source": [
    "# Grouping by country\n",
    "country_group = wine_df.groupby([\"Country\"])\n",
    "\n",
    "# Getting the mean of points and price\n",
    "points_c_mean = country_group[\"Points\"].mean()\n",
    "price_c_mean = country_group[\"Price\"].mean()\n",
    "\n",
    "# Getting the median of points and price\n",
    "points_c_median = country_group[\"Points\"].median()\n",
    "price_c_median = country_group[\"Price\"].median()"
   ]
  },
  {
   "cell_type": "code",
   "execution_count": 47,
   "metadata": {},
   "outputs": [
    {
     "data": {
      "image/png": "[encoded data removed]",
      "text/plain": [
       "<Figure size 432x288 with 1 Axes>"
      ]
     },
     "metadata": {
      "needs_background": "light"
     },
     "output_type": "display_data"
    }
   ],
   "source": [
    "# Creating a bar graph Average rating by country\n",
    "plt.bar(countries, points_c_mean, align = \"center\", color = \"yellow\", edgecolor =\"black\")\n",
    "\n",
    "# Labeling graphs\n",
    "plt.title(\"Average Rating Points by Country\")\n",
    "plt.xlabel(\"Countries\")\n",
    "plt.ylabel(\"Rating Point\")\n",
    "plt.xticks(rotation = 90)\n",
    "\n",
    "# Making the y-values start at 80 to 90 because the range of the rating points began at 85. \n",
    "# Note: There is a payment threshold to get a wine rated; therefore, the rating points begin at 85.\n",
    "plt.ylim(85, 90)\n",
    "plt.show()"
   ]
  },
  {
   "cell_type": "code",
   "execution_count": 48,
   "metadata": {},
   "outputs": [
    {
     "data": {
      "image/png": "[encoded data removed]",
      "text/plain": [
       "<Figure size 432x288 with 1 Axes>"
      ]
     },
     "metadata": {
      "needs_background": "light"
     },
     "output_type": "display_data"
    }
   ],
   "source": [
    "# Creating a bar graph Median rating by country\n",
    "plt.bar(countries, points_c_median, align = \"center\", color = \"yellow\", edgecolor =\"black\")\n",
    "\n",
    "# Labeling graphs\n",
    "plt.title(\"Median Rating Points by Country\")\n",
    "plt.xlabel(\"Countries\")\n",
    "plt.ylabel(\"Rating Point\")\n",
    "plt.xticks(rotation = 90)\n",
    "\n",
    "# Making the y-values start at 80 to 90 because the range of the rating points began at 85. \n",
    "# Note: There is a payment threshold to get a wine rated; therefore, the rating points begin at 85.\n",
    "plt.ylim(85, 90)\n",
    "plt.show()"
   ]
  },
  {
   "cell_type": "markdown",
   "metadata": {},
   "source": [
    "Difference between Average and Median."
   ]
  },
  {
   "cell_type": "code",
   "execution_count": 45,
   "metadata": {},
   "outputs": [
    {
     "data": {
      "image/png": "[encoded data removed]",
      "text/plain": [
       "<Figure size 432x288 with 1 Axes>"
      ]
     },
     "metadata": {
      "needs_background": "light"
     },
     "output_type": "display_data"
    }
   ],
   "source": [
    "# Creating a bar graph Average Price by country\n",
    "plt.bar(countries, price_c_mean, align = \"center\", color = \"green\", edgecolor =\"black\")\n",
    "\n",
    "# Labeling the graph\n",
    "plt.title(\"Average Price by Country\")\n",
    "plt.xlabel(\"Countries\")\n",
    "plt.ylabel(\"Price ($)\")\n",
    "plt.xticks(rotation = 90)\n",
    "plt.show()"
   ]
  },
  {
   "cell_type": "code",
   "execution_count": 46,
   "metadata": {},
   "outputs": [
    {
     "data": {
      "image/png": "[encoded data removed]",
      "text/plain": [
       "<Figure size 432x288 with 1 Axes>"
      ]
     },
     "metadata": {
      "needs_background": "light"
     },
     "output_type": "display_data"
    }
   ],
   "source": [
    "# Creating a bar graph Median Price by country\n",
    "plt.bar(countries, price_c_median, align = \"center\", color = \"green\", edgecolor =\"black\")\n",
    "\n",
    "# Labeling the graph\n",
    "plt.title(\"Median Price by Country\")\n",
    "plt.xlabel(\"Countries\")\n",
    "plt.ylabel(\"Price ($)\")\n",
    "plt.xticks(rotation = 90)\n",
    "plt.show()"
   ]
  },
  {
   "cell_type": "markdown",
   "metadata": {},
   "source": [
    "Difference between Average and Median."
   ]
  },
  {
   "cell_type": "markdown",
   "metadata": {},
   "source": [
    "## By Variety"
   ]
  },
  {
   "cell_type": "code",
   "execution_count": 34,
   "metadata": {},
   "outputs": [
    {
     "data": {
      "text/plain": [
       "['Aglianico',\n",
       " 'Airen',\n",
       " 'Albana',\n",
       " 'Albariño',\n",
       " 'Albarossa',\n",
       " 'Albarín',\n",
       " 'Aleatico',\n",
       " 'Alfrocheiro',\n",
       " 'Alicante',\n",
       " 'Alicante Bouschet',\n",
       " 'Aligoté',\n",
       " 'Alsace white blend',\n",
       " 'Altesse',\n",
       " 'Alvarelhão',\n",
       " 'Alvarinho',\n",
       " 'Alvarinho-Chardonnay',\n",
       " 'Angevine',\n",
       " 'Ansonica',\n",
       " 'Antão Vaz',\n",
       " 'Apple',\n",
       " 'Aragonez',\n",
       " 'Aragonês',\n",
       " 'Arinto',\n",
       " 'Arneis',\n",
       " 'Austrian Red Blend',\n",
       " 'Austrian white blend',\n",
       " 'Auxerrois',\n",
       " 'Avesso',\n",
       " 'Azal',\n",
       " 'Baco Noir',\n",
       " 'Baga',\n",
       " 'Baga-Touriga Nacional',\n",
       " 'Barbera',\n",
       " 'Bastardo',\n",
       " 'Bical',\n",
       " 'Black Monukka',\n",
       " 'Black Muscat',\n",
       " 'Blauburgunder',\n",
       " 'Blauer Portugieser',\n",
       " 'Blaufränkisch',\n",
       " 'Bobal',\n",
       " 'Bombino Bianco',\n",
       " 'Bonarda',\n",
       " 'Bordeaux-style Red Blend',\n",
       " 'Bordeaux-style White Blend',\n",
       " 'Bovale',\n",
       " 'Brachetto',\n",
       " 'Braucol',\n",
       " 'Bual',\n",
       " 'Bukettraube',\n",
       " 'Cabernet',\n",
       " 'Cabernet Blend',\n",
       " 'Cabernet Franc',\n",
       " 'Cabernet Franc-Cabernet Sauvignon',\n",
       " 'Cabernet Franc-Carmenère',\n",
       " 'Cabernet Franc-Malbec',\n",
       " 'Cabernet Franc-Merlot',\n",
       " 'Cabernet Franc-Tempranillo',\n",
       " 'Cabernet Merlot',\n",
       " 'Cabernet Pfeffer',\n",
       " 'Cabernet Sauvignon',\n",
       " 'Cabernet Sauvignon Grenache',\n",
       " 'Cabernet Sauvignon and Tinta Roriz',\n",
       " 'Cabernet Sauvignon-Cabernet Franc',\n",
       " 'Cabernet Sauvignon-Carmenère',\n",
       " 'Cabernet Sauvignon-Malbec',\n",
       " 'Cabernet Sauvignon-Merlot',\n",
       " 'Cabernet Sauvignon-Merlot-Shiraz',\n",
       " 'Cabernet Sauvignon-Sangiovese',\n",
       " 'Cabernet Sauvignon-Shiraz',\n",
       " 'Cabernet Sauvignon-Syrah',\n",
       " 'Cabernet Sauvignon-Tempranillo',\n",
       " 'Cabernet-Shiraz',\n",
       " 'Cabernet-Syrah',\n",
       " 'Cannonau',\n",
       " 'Caprettone',\n",
       " 'Carignan',\n",
       " 'Carignan-Grenache',\n",
       " 'Carignan-Syrah',\n",
       " 'Carignane',\n",
       " 'Carignano',\n",
       " 'Carineña',\n",
       " 'Cariñena-Garnacha',\n",
       " 'Carmenère',\n",
       " 'Carmenère-Cabernet Sauvignon',\n",
       " 'Carmenère-Syrah',\n",
       " 'Carnelian',\n",
       " 'Carricante',\n",
       " 'Casavecchia',\n",
       " 'Castelão',\n",
       " 'Catalanesca',\n",
       " 'Catarratto',\n",
       " 'Cayuga',\n",
       " 'Cerceal',\n",
       " \"Cesanese d'Affile\",\n",
       " 'Chambourcin',\n",
       " 'Champagne Blend',\n",
       " 'Charbono',\n",
       " 'Chardonel',\n",
       " 'Chardonelle',\n",
       " 'Chardonnay',\n",
       " 'Chardonnay Weissburgunder',\n",
       " 'Chardonnay-Albariño',\n",
       " 'Chardonnay-Pinot Blanc',\n",
       " 'Chardonnay-Pinot Grigio',\n",
       " 'Chardonnay-Pinot Gris',\n",
       " 'Chardonnay-Sauvignon',\n",
       " 'Chardonnay-Sauvignon Blanc',\n",
       " 'Chardonnay-Semillon',\n",
       " 'Chardonnay-Viognier',\n",
       " 'Chasselas',\n",
       " 'Chenin Blanc',\n",
       " 'Chenin Blanc-Chardonnay',\n",
       " 'Chenin Blanc-Sauvignon Blanc',\n",
       " 'Chenin Blanc-Viognier',\n",
       " 'Ciliegiolo',\n",
       " 'Cinsault',\n",
       " 'Clairette',\n",
       " 'Claret',\n",
       " 'Cococciola',\n",
       " 'Coda di Volpe',\n",
       " 'Colombard',\n",
       " 'Colombard-Sauvignon Blanc',\n",
       " 'Colombard-Ugni Blanc',\n",
       " 'Colorino',\n",
       " 'Cortese',\n",
       " 'Corvina',\n",
       " 'Corvina, Rondinella, Molinara',\n",
       " 'Counoise',\n",
       " 'Crespiello',\n",
       " 'Códega do Larinho',\n",
       " 'Debit',\n",
       " 'Dolcetto',\n",
       " 'Dornfelder',\n",
       " 'Doña Blanca',\n",
       " 'Duras',\n",
       " 'Durello',\n",
       " 'Durif',\n",
       " 'Edelzwicker',\n",
       " 'Elbling',\n",
       " 'Encruzado',\n",
       " 'Erbaluce',\n",
       " 'Falanghina',\n",
       " 'Favorita',\n",
       " 'Fer Servadou',\n",
       " 'Fernão Pires',\n",
       " 'Fiano',\n",
       " 'Forcallà',\n",
       " 'Franconia',\n",
       " 'Frappato',\n",
       " 'Freisa',\n",
       " 'Friulano',\n",
       " 'Früburgunder',\n",
       " 'Fumé Blanc',\n",
       " 'Furmint',\n",
       " 'G-S-M',\n",
       " 'Gaglioppo',\n",
       " 'Gamay',\n",
       " 'Gamay Noir',\n",
       " 'Garganega',\n",
       " 'Garnacha',\n",
       " 'Garnacha Blanca',\n",
       " 'Garnacha Blend',\n",
       " 'Garnacha Tintorera',\n",
       " 'Garnacha-Cabernet',\n",
       " 'Garnacha-Graciano',\n",
       " 'Garnacha-Monastrell',\n",
       " 'Garnacha-Syrah',\n",
       " 'Garnacha-Tempranillo',\n",
       " 'Gelber Muskateller',\n",
       " 'Gewürztraminer',\n",
       " 'Gewürztraminer-Riesling',\n",
       " 'Glera',\n",
       " 'Godello',\n",
       " 'Graciano',\n",
       " 'Gragnano',\n",
       " 'Grauburgunder',\n",
       " 'Grecanico',\n",
       " 'Grechetto',\n",
       " 'Greco',\n",
       " 'Greco Bianco',\n",
       " 'Grenache',\n",
       " 'Grenache Blanc',\n",
       " 'Grenache Blend',\n",
       " 'Grenache Gris',\n",
       " 'Grenache-Carignan',\n",
       " 'Grenache-Mourvèdre',\n",
       " 'Grenache-Shiraz',\n",
       " 'Grenache-Syrah',\n",
       " 'Grignolino',\n",
       " 'Grillo',\n",
       " 'Grolleau',\n",
       " 'Groppello',\n",
       " 'Gros Manseng',\n",
       " 'Gros and Petit Manseng',\n",
       " 'Grüner Veltliner',\n",
       " 'Hondarrabi Zuri',\n",
       " 'Huxelrebe',\n",
       " 'Incrocio Manzoni',\n",
       " 'Insolia',\n",
       " 'Inzolia',\n",
       " 'Jacquez',\n",
       " 'Jacquère',\n",
       " 'Jaen',\n",
       " 'Johannisberg Riesling',\n",
       " 'Kerner',\n",
       " 'Lacrima',\n",
       " 'Lagrein',\n",
       " 'Lambrusco',\n",
       " 'Lambrusco Grasparossa',\n",
       " 'Lambrusco di Sorbara',\n",
       " 'Lemberger',\n",
       " 'Listán Negro',\n",
       " \"Loin de l'Oeil\",\n",
       " 'Loureiro',\n",
       " 'Macabeo',\n",
       " 'Macabeo-Chardonnay',\n",
       " 'Macabeo-Gewürztraminer',\n",
       " 'Macabeo-Moscatel',\n",
       " 'Madeira Blend',\n",
       " 'Madeleine Angevine',\n",
       " 'Magliocco',\n",
       " 'Malbec',\n",
       " 'Malbec Blend',\n",
       " 'Malbec-Bonarda',\n",
       " 'Malbec-Cabernet Franc',\n",
       " 'Malbec-Cabernet Sauvignon',\n",
       " 'Malbec-Merlot',\n",
       " 'Malbec-Petit Verdot',\n",
       " 'Malbec-Syrah',\n",
       " 'Malbec-Tannat',\n",
       " 'Malbec-Tempranillo',\n",
       " 'Malmsey',\n",
       " 'Malvar',\n",
       " 'Malvasia',\n",
       " 'Malvasia Bianca',\n",
       " 'Malvasia Fina',\n",
       " 'Malvasia Istriana',\n",
       " 'Malvasia Nera',\n",
       " 'Malvasia-Viura',\n",
       " 'Malvoisie',\n",
       " 'Mansois',\n",
       " 'Mantonico',\n",
       " 'Manzoni',\n",
       " 'Marsanne',\n",
       " 'Marsanne-Roussanne',\n",
       " 'Marsanne-Viognier',\n",
       " 'Marzemino',\n",
       " 'Maréchal Foch',\n",
       " 'Mataro',\n",
       " 'Maturana',\n",
       " 'Mauzac',\n",
       " 'Mazuelo',\n",
       " 'Melon',\n",
       " 'Mencía',\n",
       " 'Meritage',\n",
       " 'Merlot',\n",
       " 'Merlot-Cabernet',\n",
       " 'Merlot-Cabernet Franc',\n",
       " 'Merlot-Cabernet Sauvignon',\n",
       " 'Merlot-Grenache',\n",
       " 'Merlot-Malbec',\n",
       " 'Merlot-Petite Verdot',\n",
       " 'Merlot-Shiraz',\n",
       " 'Merlot-Syrah',\n",
       " 'Mission',\n",
       " 'Monastrell',\n",
       " 'Monastrell-Syrah',\n",
       " 'Mondeuse',\n",
       " 'Monica',\n",
       " 'Montepulciano',\n",
       " 'Morillon',\n",
       " 'Morio Muskat',\n",
       " 'Moristel',\n",
       " 'Moscadello',\n",
       " 'Moscatel',\n",
       " 'Moscatel Graúdo',\n",
       " 'Moscatel Roxo',\n",
       " 'Moscatel de Alejandría',\n",
       " 'Moscato',\n",
       " 'Moscato Giallo',\n",
       " 'Moscato di Noto',\n",
       " 'Mourvèdre',\n",
       " 'Muscadel',\n",
       " 'Muscadelle',\n",
       " 'Muscadet',\n",
       " 'Muscat',\n",
       " 'Muscat Blanc',\n",
       " 'Muscat Blanc à Petit Grain',\n",
       " 'Muscat Canelli',\n",
       " 'Muscat Hamburg',\n",
       " \"Muscat d'Alexandrie\",\n",
       " 'Muscat of Alexandria',\n",
       " 'Muscatel',\n",
       " 'Muskat Ottonel',\n",
       " 'Muskateller',\n",
       " 'Müller-Thurgau',\n",
       " 'Nasco',\n",
       " 'Nebbiolo',\n",
       " 'Negrette',\n",
       " 'Negroamaro',\n",
       " 'Nerello Cappuccio',\n",
       " 'Nerello Mascalese',\n",
       " \"Nero d'Avola\",\n",
       " 'Nero di Troia',\n",
       " 'Neuburger',\n",
       " 'Nielluciu',\n",
       " 'Norton',\n",
       " 'Nosiola',\n",
       " 'Nuragus',\n",
       " 'Orange Muscat',\n",
       " 'Orangetraube',\n",
       " 'Pallagrello',\n",
       " 'Pallagrello Bianco',\n",
       " 'Pallagrello Nero',\n",
       " 'Palomino',\n",
       " 'Pansa Blanca',\n",
       " 'Pardina',\n",
       " 'Parraleta',\n",
       " 'Passerina',\n",
       " 'País',\n",
       " 'Pecorino',\n",
       " 'Pedro Ximénez',\n",
       " 'Pelaverga Piccolo',\n",
       " 'Perricone',\n",
       " 'Petit Manseng',\n",
       " 'Petit Verdot',\n",
       " 'Petite Sirah',\n",
       " 'Petite Syrah',\n",
       " 'Petite Verdot',\n",
       " 'Picapoll',\n",
       " 'Picolit',\n",
       " 'Picpoul',\n",
       " 'Pied de Perdrix',\n",
       " 'Piedirosso',\n",
       " 'Pigato',\n",
       " 'Pignoletto',\n",
       " 'Pinot Auxerrois',\n",
       " 'Pinot Bianco',\n",
       " 'Pinot Blanc',\n",
       " 'Pinot Blanc-Chardonnay',\n",
       " 'Pinot Blanc-Pinot Noir',\n",
       " 'Pinot Grigio',\n",
       " 'Pinot Grigio-Chardonnay',\n",
       " 'Pinot Grigio-Sauvignon Blanc',\n",
       " 'Pinot Gris',\n",
       " 'Pinot Meunier',\n",
       " 'Pinot Nero',\n",
       " 'Pinot Noir',\n",
       " 'Pinot Noir-Gamay',\n",
       " 'Pinot Noir-Syrah',\n",
       " 'Pinot-Chardonnay',\n",
       " 'Pinotage',\n",
       " 'Pinotage-Merlot',\n",
       " 'Port',\n",
       " 'Portuguese Red',\n",
       " 'Portuguese Rosé',\n",
       " 'Portuguese Sparkling',\n",
       " 'Portuguese White',\n",
       " 'Premsal',\n",
       " 'Prieto Picudo',\n",
       " 'Primitivo',\n",
       " 'Prié Blanc',\n",
       " 'Prosecco',\n",
       " 'Provence red blend',\n",
       " 'Provence white blend',\n",
       " 'Prugnolo Gentile',\n",
       " 'Pugnitello',\n",
       " 'Raboso',\n",
       " 'Red Blend',\n",
       " 'Refosco',\n",
       " 'Rhône-style Red Blend',\n",
       " 'Rhône-style White Blend',\n",
       " 'Ribolla Gialla',\n",
       " 'Rieslaner',\n",
       " 'Riesling',\n",
       " 'Rivaner',\n",
       " 'Rkatsiteli',\n",
       " 'Rolle',\n",
       " 'Romorantin',\n",
       " 'Rosado',\n",
       " 'Rosato',\n",
       " 'Roscetto',\n",
       " 'Rosé',\n",
       " 'Roter Traminer',\n",
       " 'Roter Veltliner',\n",
       " 'Rotgipfler',\n",
       " 'Roussanne',\n",
       " 'Roussanne-Grenache Blanc',\n",
       " 'Roussanne-Marsanne',\n",
       " 'Roussanne-Viognier',\n",
       " 'Roviello',\n",
       " 'Ruché',\n",
       " 'Rufete',\n",
       " 'Sagrantino',\n",
       " 'Sangiovese',\n",
       " 'Sangiovese Cabernet',\n",
       " 'Sangiovese Grosso',\n",
       " 'Sangiovese-Cabernet Sauvignon',\n",
       " 'Sangiovese-Syrah',\n",
       " 'Saperavi',\n",
       " 'Sauvignon',\n",
       " 'Sauvignon Blanc',\n",
       " 'Sauvignon Blanc-Chardonnay',\n",
       " 'Sauvignon Blanc-Chenin Blanc',\n",
       " 'Sauvignon Blanc-Semillon',\n",
       " 'Sauvignon Blanc-Verdejo',\n",
       " 'Sauvignon Gris',\n",
       " 'Sauvignon Musqué',\n",
       " 'Savagnin',\n",
       " 'Scheurebe',\n",
       " 'Schiava',\n",
       " 'Schwartzriesling',\n",
       " 'Segalin',\n",
       " 'Semillon-Chardonnay',\n",
       " 'Semillon-Sauvignon Blanc',\n",
       " 'Sercial',\n",
       " 'Seyval Blanc',\n",
       " 'Sherry',\n",
       " 'Shiraz',\n",
       " 'Shiraz-Cabernet Sauvignon',\n",
       " 'Shiraz-Grenache',\n",
       " 'Shiraz-Malbec',\n",
       " 'Shiraz-Merlot',\n",
       " 'Shiraz-Mourvèdre',\n",
       " 'Shiraz-Pinotage',\n",
       " 'Shiraz-Tempranillo',\n",
       " 'Shiraz-Viognier',\n",
       " 'Siegerrebe',\n",
       " 'Silvaner',\n",
       " 'Silvaner-Traminer',\n",
       " 'Siria',\n",
       " 'Sirica',\n",
       " 'Sousão',\n",
       " 'Sparkling Blend',\n",
       " 'Spätburgunder',\n",
       " 'St. Laurent',\n",
       " 'St. Vincent',\n",
       " 'Steen',\n",
       " 'Susumaniello',\n",
       " 'Sylvaner',\n",
       " 'Symphony',\n",
       " 'Syrah',\n",
       " 'Syrah-Bonarda',\n",
       " 'Syrah-Cabernet',\n",
       " 'Syrah-Cabernet Franc',\n",
       " 'Syrah-Cabernet Sauvignon',\n",
       " 'Syrah-Carignan',\n",
       " 'Syrah-Grenache',\n",
       " 'Syrah-Grenache-Viognier',\n",
       " 'Syrah-Malbec',\n",
       " 'Syrah-Merlot',\n",
       " 'Syrah-Mourvèdre',\n",
       " 'Syrah-Petite Sirah',\n",
       " 'Syrah-Tempranillo',\n",
       " 'Syrah-Viognier',\n",
       " 'Sämling',\n",
       " 'Sémillon',\n",
       " 'Tai',\n",
       " 'Tannat',\n",
       " 'Tannat-Cabernet',\n",
       " 'Tannat-Cabernet Franc',\n",
       " 'Tannat-Merlot',\n",
       " 'Tempranillo',\n",
       " 'Tempranillo Blanco',\n",
       " 'Tempranillo Blend',\n",
       " 'Tempranillo-Cabernet Sauvignon',\n",
       " 'Tempranillo-Garnacha',\n",
       " 'Tempranillo-Malbec',\n",
       " 'Tempranillo-Merlot',\n",
       " 'Tempranillo-Shiraz',\n",
       " 'Teroldego',\n",
       " 'Teroldego Rotaliano',\n",
       " 'Tinta Barroca',\n",
       " 'Tinta Fina',\n",
       " 'Tinta Francisca',\n",
       " 'Tinta Negra Mole',\n",
       " 'Tinta Roriz',\n",
       " 'Tinta de Toro',\n",
       " 'Tintilia ',\n",
       " 'Tinto Fino',\n",
       " 'Tinto del Pais',\n",
       " 'Tocai',\n",
       " 'Tocai Friulano',\n",
       " 'Tocai Rosso',\n",
       " 'Tokay',\n",
       " 'Tokay Pinot Gris',\n",
       " 'Torbato',\n",
       " 'Torontel',\n",
       " 'Torrontés',\n",
       " 'Touriga Franca',\n",
       " 'Touriga Nacional',\n",
       " 'Touriga Nacional Blend',\n",
       " 'Touriga Nacional-Cabernet Sauvignon',\n",
       " 'Traminer',\n",
       " 'Traminette',\n",
       " 'Trebbiano',\n",
       " 'Trebbiano di Lugana',\n",
       " 'Trebbiano-Malvasia',\n",
       " 'Trepat',\n",
       " 'Trincadeira',\n",
       " 'Trousseau Gris',\n",
       " 'Turbiana',\n",
       " 'Ugni Blanc',\n",
       " 'Ugni Blanc-Colombard',\n",
       " 'Uva di Troia',\n",
       " 'Valdiguié',\n",
       " 'Veltliner',\n",
       " 'Verdeca',\n",
       " 'Verdejo',\n",
       " 'Verdejo-Sauvignon Blanc',\n",
       " 'Verdejo-Viura',\n",
       " 'Verdelho',\n",
       " 'Verdicchio',\n",
       " 'Verduzzo',\n",
       " 'Verduzzo Friulano ',\n",
       " 'Vermentino',\n",
       " 'Vermentino Nero',\n",
       " 'Vernaccia',\n",
       " 'Vespaiolo',\n",
       " 'Vidadillo',\n",
       " 'Vidal Blanc',\n",
       " 'Vignoles',\n",
       " 'Vinhão',\n",
       " 'Viognier',\n",
       " 'Viognier-Chardonnay',\n",
       " 'Viognier-Grenache Blanc',\n",
       " 'Viognier-Marsanne',\n",
       " 'Viognier-Roussanne',\n",
       " 'Viognier-Valdiguié',\n",
       " 'Viura',\n",
       " 'Viura-Chardonnay',\n",
       " 'Viura-Sauvignon Blanc',\n",
       " 'Viura-Verdejo',\n",
       " 'Weissburgunder',\n",
       " 'Welschriesling',\n",
       " 'White Blend',\n",
       " 'White Port',\n",
       " 'White Riesling',\n",
       " 'Xarel-lo',\n",
       " 'Zibibbo',\n",
       " 'Zierfandler',\n",
       " 'Zierfandler-Rotgipfler',\n",
       " 'Zinfandel',\n",
       " 'Zweigelt']"
      ]
     },
     "execution_count": 34,
     "metadata": {},
     "output_type": "execute_result"
    }
   ],
   "source": [
    "# Getting the varieties\n",
    "var1ieties = wine_df[\"Variety\"].unique()\n",
    "varieties = sorted(varieties)\n",
    "varieties"
   ]
  },
  {
   "cell_type": "code",
   "execution_count": 57,
   "metadata": {},
   "outputs": [],
   "source": [
    "# Grouping by varieties\n",
    "wine_variety_group = wine_df.groupby([\"Variety\"])\n",
    "\n",
    "# Getting the mean of points and price\n",
    "points_wv_mean = variety_group[\"Points\"].mean()\n",
    "price_wv_mean = variety_group[\"Price\"].mean()\n",
    "\n",
    "# Getting the median of points and price\n",
    "points_wv_median = variety_group[\"Points\"].median()\n",
    "price_wv_median = variety_group[\"Price\"].median()"
   ]
  },
  {
   "cell_type": "code",
   "execution_count": 58,
   "metadata": {},
   "outputs": [
    {
     "data": {
      "image/png": "[encoded data removed]",
      "text/plain": [
       "<Figure size 432x288 with 1 Axes>"
      ]
     },
     "metadata": {
      "needs_background": "light"
     },
     "output_type": "display_data"
    }
   ],
   "source": [
    "# Creating a bar graph Average points by varietal\n",
    "plt.bar(varieties, points_wv_mean, align = \"center\")\n",
    "\n",
    "# Labeling the graph\n",
    "plt.title(\"Average Rating Points by Variety\")\n",
    "plt.xlabel(\"Varieties\")\n",
    "plt.ylabel(\"Rating Points\")\n",
    "plt.xticks(rotation = 90)\n",
    "\n",
    "# Making the y-values start at 80 to 90 because the range of the rating points began at 80. \n",
    "# Note: There is a payment threshold to get a wine rated; therefore, the rating points begin at 80.\n",
    "plt.ylim(80,100)\n",
    "plt.show()"
   ]
  },
  {
   "cell_type": "markdown",
   "metadata": {},
   "source": [
    "There are 545 different varieties within the cleaned wine data set. In order to further analyze the price and rating points of wine varieties, we created another data set with the 25 top ranked varieties."
   ]
  },
  {
   "cell_type": "code",
   "execution_count": 40,
   "metadata": {},
   "outputs": [
    {
     "data": {
      "text/plain": [
       "['Bordeaux-style Red Blend',\n",
       " 'Cabernet Franc',\n",
       " 'Cabernet Sauvignon',\n",
       " 'Chardonnay',\n",
       " 'Corvina, Rondinella, Molinara',\n",
       " 'Malbec',\n",
       " 'Merlot',\n",
       " 'Nebbiolo',\n",
       " 'Pinot Grigio',\n",
       " 'Pinot Gris',\n",
       " 'Pinot Noir',\n",
       " 'Portuguese Red',\n",
       " 'Red Blend',\n",
       " 'Rhône-style Red Blend',\n",
       " 'Riesling',\n",
       " 'Rosé',\n",
       " 'Sangiovese',\n",
       " 'Sauvignon Blanc',\n",
       " 'Shiraz',\n",
       " 'Sparkling Blend',\n",
       " 'Syrah',\n",
       " 'Tempranillo',\n",
       " 'Viognier',\n",
       " 'White Blend',\n",
       " 'Zinfandel']"
      ]
     },
     "execution_count": 40,
     "metadata": {},
     "output_type": "execute_result"
    }
   ],
   "source": [
    "# Getting the Top 25 Variety names\n",
    "top_varieties = variety_df[\"Variety\"].unique()\n",
    "top_varieties = sorted(top_varieties)\n",
    "top_varieties"
   ]
  },
  {
   "cell_type": "code",
   "execution_count": 41,
   "metadata": {},
   "outputs": [],
   "source": [
    "# Grouping by varieties\n",
    "varieties_group = variety_df.groupby([\"Variety\"])\n",
    "\n",
    "# Getting the mean of points and price\n",
    "points_v_mean = varieties_group[\"Points\"].mean()\n",
    "price_v_mean = varieties_group[\"Price\"].mean()\n",
    "\n",
    "# Getting the median of points and price\n",
    "points_v_median = varieties_group[\"Points\"].median()\n",
    "price_v_median = varieties_group[\"Price\"].median()"
   ]
  },
  {
   "cell_type": "code",
   "execution_count": 65,
   "metadata": {},
   "outputs": [
    {
     "data": {
      "image/png": "[encoded data removed]",
      "text/plain": [
       "<Figure size 432x288 with 1 Axes>"
      ]
     },
     "metadata": {
      "needs_background": "light"
     },
     "output_type": "display_data"
    }
   ],
   "source": [
    "# Creating a bar graph Median points by varietal\n",
    "plt.bar(top_varieties, points_v_mean, align = \"center\", color = \"yellow\", edgecolor =\"black\")\n",
    "\n",
    "# Labeling the graph\n",
    "plt.title(\"Median Rating Points by Variety\")\n",
    "plt.xlabel(\"Varieties\")\n",
    "plt.ylabel(\"Rating Points\")\n",
    "plt.xticks(rotation = 90)\n",
    "\n",
    "# Making the y-values start at 80 to 90 because the range of the rating points began at 85. \n",
    "# Note: There is a payment threshold to get a wine rated; therefore, the rating points begin at 85.\n",
    "plt.ylim(85, 90.5)\n",
    "plt.show()"
   ]
  },
  {
   "cell_type": "code",
   "execution_count": 67,
   "metadata": {},
   "outputs": [
    {
     "data": {
      "image/png": "[encoded data removed]",
      "text/plain": [
       "<Figure size 432x288 with 1 Axes>"
      ]
     },
     "metadata": {
      "needs_background": "light"
     },
     "output_type": "display_data"
    }
   ],
   "source": [
    "# Creating a bar graph Median points by varietal\n",
    "plt.bar(top_varieties, points_v_median, align = \"center\", color = \"yellow\", edgecolor =\"black\")\n",
    "\n",
    "# Labeling the graph\n",
    "plt.title(\"Median Rating Points by Variety\")\n",
    "plt.xlabel(\"Varieties\")\n",
    "plt.ylabel(\"Rating Points\")\n",
    "plt.xticks(rotation = 90)\n",
    "\n",
    "# Making the y-values start at 80 to 90 because the range of the rating points began at 85. \n",
    "# Note: There is a payment threshold to get a wine rated; therefore, the rating points begin at 85.\n",
    "plt.ylim(85, 90.5)\n",
    "plt.show()"
   ]
  },
  {
   "cell_type": "markdown",
   "metadata": {},
   "source": [
    "Difference between Average and Median"
   ]
  },
  {
   "cell_type": "code",
   "execution_count": 62,
   "metadata": {},
   "outputs": [
    {
     "data": {
      "image/png": "[encoded data removed]",
      "text/plain": [
       "<Figure size 432x288 with 1 Axes>"
      ]
     },
     "metadata": {
      "needs_background": "light"
     },
     "output_type": "display_data"
    }
   ],
   "source": [
    "# Creating a bar graph Average Price by varietal\n",
    "plt.bar(top_varieties, price_v_mean, align = \"center\",color = \"green\", edgecolor =\"black\")\n",
    "\n",
    "# Labeling the graph\n",
    "plt.title(\"Average Price by Variety\")\n",
    "plt.xlabel(\"Varieties\")\n",
    "plt.ylabel(\"Price ($)\")\n",
    "plt.xticks(rotation = 90)\n",
    "plt.show()"
   ]
  },
  {
   "cell_type": "code",
   "execution_count": 64,
   "metadata": {},
   "outputs": [
    {
     "data": {
      "image/png": "[encoded data removed]",
      "text/plain": [
       "<Figure size 432x288 with 1 Axes>"
      ]
     },
     "metadata": {
      "needs_background": "light"
     },
     "output_type": "display_data"
    }
   ],
   "source": [
    "# Creating a bar graph Median Price by varietal\n",
    "plt.bar(top_varieties, price_v_median, align = \"center\", color = \"green\", edgecolor =\"black\")\n",
    "\n",
    "# Labeling the graph\n",
    "plt.title(\"Median Price by Variety\")\n",
    "plt.xlabel(\"Varieties\")\n",
    "plt.ylabel(\"Price ($)\")\n",
    "plt.xticks(rotation = 90)\n",
    "plt.show()"
   ]
  },
  {
   "cell_type": "markdown",
   "metadata": {},
   "source": [
    "Difference between Average and Median"
   ]
  },
  {
   "cell_type": "markdown",
   "metadata": {},
   "source": [
    "## Wines Below $25"
   ]
  },
  {
   "cell_type": "code",
   "execution_count": 74,
   "metadata": {},
   "outputs": [
    {
     "data": {
      "text/html": [
       "<div>\n",
       "<style scoped>\n",
       "    .dataframe tbody tr th:only-of-type {\n",
       "        vertical-align: middle;\n",
       "    }\n",
       "\n",
       "    .dataframe tbody tr th {\n",
       "        vertical-align: top;\n",
       "    }\n",
       "\n",
       "    .dataframe thead th {\n",
       "        text-align: right;\n",
       "    }\n",
       "</style>\n",
       "<table border=\"1\" class=\"dataframe\">\n",
       "  <thead>\n",
       "    <tr style=\"text-align: right;\">\n",
       "      <th></th>\n",
       "      <th>Country</th>\n",
       "      <th>Points</th>\n",
       "      <th>Price</th>\n",
       "      <th>Province</th>\n",
       "      <th>Region</th>\n",
       "      <th>Variety</th>\n",
       "    </tr>\n",
       "  </thead>\n",
       "  <tbody>\n",
       "    <tr>\n",
       "      <th>11</th>\n",
       "      <td>US</td>\n",
       "      <td>95</td>\n",
       "      <td>24.0</td>\n",
       "      <td>California</td>\n",
       "      <td>Napa Valley</td>\n",
       "      <td>Rosé</td>\n",
       "    </tr>\n",
       "    <tr>\n",
       "      <th>23</th>\n",
       "      <td>US</td>\n",
       "      <td>90</td>\n",
       "      <td>18.0</td>\n",
       "      <td>California</td>\n",
       "      <td>Russian River Valley</td>\n",
       "      <td>Chardonnay</td>\n",
       "    </tr>\n",
       "    <tr>\n",
       "      <th>25</th>\n",
       "      <td>US</td>\n",
       "      <td>90</td>\n",
       "      <td>25.0</td>\n",
       "      <td>New York</td>\n",
       "      <td>Finger Lakes</td>\n",
       "      <td>Riesling</td>\n",
       "    </tr>\n",
       "    <tr>\n",
       "      <th>33</th>\n",
       "      <td>US</td>\n",
       "      <td>91</td>\n",
       "      <td>19.0</td>\n",
       "      <td>Oregon</td>\n",
       "      <td>Willamette Valley</td>\n",
       "      <td>Pinot Gris</td>\n",
       "    </tr>\n",
       "    <tr>\n",
       "      <th>38</th>\n",
       "      <td>US</td>\n",
       "      <td>91</td>\n",
       "      <td>22.0</td>\n",
       "      <td>California</td>\n",
       "      <td>Napa Valley</td>\n",
       "      <td>Cabernet Sauvignon</td>\n",
       "    </tr>\n",
       "    <tr>\n",
       "      <th>...</th>\n",
       "      <td>...</td>\n",
       "      <td>...</td>\n",
       "      <td>...</td>\n",
       "      <td>...</td>\n",
       "      <td>...</td>\n",
       "      <td>...</td>\n",
       "    </tr>\n",
       "    <tr>\n",
       "      <th>134423</th>\n",
       "      <td>South Africa</td>\n",
       "      <td>83</td>\n",
       "      <td>15.0</td>\n",
       "      <td>Stellenbosch</td>\n",
       "      <td>NaN</td>\n",
       "      <td>Pinotage</td>\n",
       "    </tr>\n",
       "    <tr>\n",
       "      <th>134424</th>\n",
       "      <td>South Africa</td>\n",
       "      <td>83</td>\n",
       "      <td>16.0</td>\n",
       "      <td>Stellenbosch</td>\n",
       "      <td>NaN</td>\n",
       "      <td>White Blend</td>\n",
       "    </tr>\n",
       "    <tr>\n",
       "      <th>134425</th>\n",
       "      <td>South Africa</td>\n",
       "      <td>82</td>\n",
       "      <td>15.0</td>\n",
       "      <td>Coastal Region</td>\n",
       "      <td>NaN</td>\n",
       "      <td>Merlot</td>\n",
       "    </tr>\n",
       "    <tr>\n",
       "      <th>134426</th>\n",
       "      <td>South Africa</td>\n",
       "      <td>82</td>\n",
       "      <td>14.0</td>\n",
       "      <td>Paarl</td>\n",
       "      <td>NaN</td>\n",
       "      <td>Merlot</td>\n",
       "    </tr>\n",
       "    <tr>\n",
       "      <th>134427</th>\n",
       "      <td>South Africa</td>\n",
       "      <td>82</td>\n",
       "      <td>14.0</td>\n",
       "      <td>Paarl</td>\n",
       "      <td>NaN</td>\n",
       "      <td>Chardonnay</td>\n",
       "    </tr>\n",
       "  </tbody>\n",
       "</table>\n",
       "<p>73271 rows × 6 columns</p>\n",
       "</div>"
      ],
      "text/plain": [
       "             Country  Points  Price        Province                Region  \\\n",
       "11                US      95   24.0      California           Napa Valley   \n",
       "23                US      90   18.0      California  Russian River Valley   \n",
       "25                US      90   25.0        New York          Finger Lakes   \n",
       "33                US      91   19.0          Oregon     Willamette Valley   \n",
       "38                US      91   22.0      California           Napa Valley   \n",
       "...              ...     ...    ...             ...                   ...   \n",
       "134423  South Africa      83   15.0    Stellenbosch                   NaN   \n",
       "134424  South Africa      83   16.0    Stellenbosch                   NaN   \n",
       "134425  South Africa      82   15.0  Coastal Region                   NaN   \n",
       "134426  South Africa      82   14.0           Paarl                   NaN   \n",
       "134427  South Africa      82   14.0           Paarl                   NaN   \n",
       "\n",
       "                   Variety  \n",
       "11                    Rosé  \n",
       "23              Chardonnay  \n",
       "25                Riesling  \n",
       "33              Pinot Gris  \n",
       "38      Cabernet Sauvignon  \n",
       "...                    ...  \n",
       "134423            Pinotage  \n",
       "134424         White Blend  \n",
       "134425              Merlot  \n",
       "134426              Merlot  \n",
       "134427          Chardonnay  \n",
       "\n",
       "[73271 rows x 6 columns]"
      ]
     },
     "execution_count": 74,
     "metadata": {},
     "output_type": "execute_result"
    }
   ],
   "source": [
    "# Create a new dataframe with economical priced wine\n",
    "low_price = 25\n",
    "low_price_df = wine_df.loc[wine_df[\"Price\"] <= low_price]\n",
    "low_price_df"
   ]
  },
  {
   "cell_type": "code",
   "execution_count": 115,
   "metadata": {},
   "outputs": [],
   "source": [
    "# Get the Price and Points of Economical Wines\n",
    "lp_price = low_price_df[\"Price\"]\n",
    "lp_points = low_price_df[\"Points\"]"
   ]
  },
  {
   "cell_type": "markdown",
   "metadata": {},
   "source": [
    "### Rating Points by Price"
   ]
  },
  {
   "cell_type": "code",
   "execution_count": 118,
   "metadata": {},
   "outputs": [
    {
     "data": {
      "image/png": "[encoded data removed]",
      "text/plain": [
       "<Figure size 432x288 with 1 Axes>"
      ]
     },
     "metadata": {
      "needs_background": "light"
     },
     "output_type": "display_data"
    }
   ],
   "source": [
    "# Generate a scatter plot \n",
    "plt.scatter(lp_price, lp_points, color = \"yellow\", edgecolor = \"black\")\n",
    "\n",
    "# Labeling the graph\n",
    "plt.title(f\"Economical Wines (${low_price} and below) Rating Points by Price\")\n",
    "plt.xlabel(\"Price ($)\")\n",
    "plt.ylabel(\"Points\")\n",
    "\n",
    "plt.ylim(75,100)\n",
    "plt.grid(True)\n",
    "\n",
    "plt.show()"
   ]
  },
  {
   "cell_type": "code",
   "execution_count": 119,
   "metadata": {},
   "outputs": [
    {
     "name": "stdout",
     "output_type": "stream",
     "text": [
      "The correlation coefficient of price and rating points for economical wines 0.14\n",
      "\n",
      " y = 0.19 x + 83.24\n"
     ]
    }
   ],
   "source": [
    "# Calculate the correlation coefficient\n",
    "r = st.pearsonr(lp_price, lp_points)\n",
    "r = r[0]**2\n",
    "\n",
    "print(f'The correlation coefficient of price and rating points for economical wines {round(r,2)}\\n')\n",
    "\n",
    "# Calculate the linear regression model \n",
    "\n",
    "(slope, intercept, rvalue, pvalue, stderr) = st.linregress(lp_price, lp_points)\n",
    "regress_values = lp_price * slope + intercept\n",
    "line_eq = f' y = {round(slope,2)} x + {round(intercept,2)}'\n",
    "\n",
    "print(line_eq)"
   ]
  },
  {
   "cell_type": "code",
   "execution_count": 120,
   "metadata": {},
   "outputs": [
    {
     "data": {
      "image/png": "[encoded data removed]",
      "text/plain": [
       "<Figure size 432x288 with 1 Axes>"
      ]
     },
     "metadata": {
      "needs_background": "light"
     },
     "output_type": "display_data"
    }
   ],
   "source": [
    "# Generate a scatter plot of the average tumor volume vs. mouse weight\n",
    "# with the linear regression line and equation\n",
    "\n",
    "plt.plot(lp_price,regress_values, \"r-\")\n",
    "plt.scatter(lp_price, lp_points, color = \"yellow\", edgecolor = \"black\")\n",
    "\n",
    "# Labeling the graph with the Linear Regression\n",
    "plt.title(f\"Economical Wines (${low_price} and below) Rating Points by Price\")\n",
    "plt.xlabel(\"Price ($)\")\n",
    "plt.ylabel(\"Points\")\n",
    "\n",
    "plt.ylim(75,100)\n",
    "plt.grid(True)\n",
    "plt.annotate(line_eq, (4,95), fontsize = 14, color =\"r\")\n",
    "\n",
    "plt.show()"
   ]
  },
  {
   "cell_type": "markdown",
   "metadata": {},
   "source": [
    "### Price by Rating Points"
   ]
  },
  {
   "cell_type": "code",
   "execution_count": 129,
   "metadata": {},
   "outputs": [
    {
     "data": {
      "image/png": "[encoded data removed]",
      "text/plain": [
       "<Figure size 432x288 with 1 Axes>"
      ]
     },
     "metadata": {
      "needs_background": "light"
     },
     "output_type": "display_data"
    }
   ],
   "source": [
    "# Generate a scatter plot \n",
    "plt.scatter(lp_points, lp_price, color = \"green\", edgecolor = \"black\")\n",
    "\n",
    "# Labeling the graph\n",
    "plt.title(f\"Economical Wines (${low_price} and below) Price by Rating Points\")\n",
    "plt.xlabel(\"Points\")\n",
    "plt.ylabel(\"Price ($)\")\n",
    "\n",
    "plt.xlim(75,100)\n",
    "plt.grid(True)\n",
    "\n",
    "plt.show()"
   ]
  },
  {
   "cell_type": "code",
   "execution_count": 130,
   "metadata": {},
   "outputs": [
    {
     "name": "stdout",
     "output_type": "stream",
     "text": [
      "The correlation coefficient of price and rating points for economical wines 0.14\n",
      "\n",
      " y = 0.72 x + -45.64\n"
     ]
    }
   ],
   "source": [
    "# Calculate the correlation coefficient\n",
    "r = st.pearsonr(lp_points, lp_price)\n",
    "r = r[0]**2\n",
    "\n",
    "print(f'The correlation coefficient of price and rating points for economical wines {round(r,2)}\\n')\n",
    "\n",
    "# Calculate the linear regression model \n",
    "\n",
    "(slope, intercept, rvalue, pvalue, stderr) = st.linregress(lp_points, lp_price)\n",
    "regress_values = lp_points * slope + intercept\n",
    "line_eq = f' y = {round(slope,2)} x + {round(intercept,2)}'\n",
    "\n",
    "print(line_eq)"
   ]
  },
  {
   "cell_type": "code",
   "execution_count": 143,
   "metadata": {},
   "outputs": [
    {
     "data": {
      "image/png": "[encoded data removed]",
      "text/plain": [
       "<Figure size 432x288 with 1 Axes>"
      ]
     },
     "metadata": {
      "needs_background": "light"
     },
     "output_type": "display_data"
    }
   ],
   "source": [
    "# Generate a scatter plot of the average tumor volume vs. mouse weight\n",
    "# with the linear regression line and equation\n",
    "\n",
    "plt.plot(lp_points,regress_values, \"r-\")\n",
    "plt.scatter(lp_points, lp_price, color = \"green\", edgecolor = \"black\")\n",
    "\n",
    "# Labeling the graph with the Linear Regression\n",
    "plt.title(f\"Economical Wines (${low_price} and below) Price by Rating Points\")\n",
    "plt.xlabel(\"Points\")\n",
    "plt.ylabel(\"Price ($)\")\n",
    "\n",
    "plt.xlim(75,100)\n",
    "plt.grid(True)\n",
    "plt.annotate(line_eq, (89,3.5), fontsize = 14, color =\"r\")\n",
    "\n",
    "plt.show()"
   ]
  },
  {
   "cell_type": "markdown",
   "metadata": {},
   "source": [
    "## Wines Above $40"
   ]
  },
  {
   "cell_type": "code",
   "execution_count": 121,
   "metadata": {},
   "outputs": [
    {
     "data": {
      "text/html": [
       "<div>\n",
       "<style scoped>\n",
       "    .dataframe tbody tr th:only-of-type {\n",
       "        vertical-align: middle;\n",
       "    }\n",
       "\n",
       "    .dataframe tbody tr th {\n",
       "        vertical-align: top;\n",
       "    }\n",
       "\n",
       "    .dataframe thead th {\n",
       "        text-align: right;\n",
       "    }\n",
       "</style>\n",
       "<table border=\"1\" class=\"dataframe\">\n",
       "  <thead>\n",
       "    <tr style=\"text-align: right;\">\n",
       "      <th></th>\n",
       "      <th>Country</th>\n",
       "      <th>Points</th>\n",
       "      <th>Price</th>\n",
       "      <th>Province</th>\n",
       "      <th>Region</th>\n",
       "      <th>Variety</th>\n",
       "    </tr>\n",
       "  </thead>\n",
       "  <tbody>\n",
       "    <tr>\n",
       "      <th>0</th>\n",
       "      <td>US</td>\n",
       "      <td>96</td>\n",
       "      <td>235.0</td>\n",
       "      <td>California</td>\n",
       "      <td>Napa Valley</td>\n",
       "      <td>Cabernet Sauvignon</td>\n",
       "    </tr>\n",
       "    <tr>\n",
       "      <th>1</th>\n",
       "      <td>US</td>\n",
       "      <td>96</td>\n",
       "      <td>90.0</td>\n",
       "      <td>California</td>\n",
       "      <td>Knights Valley</td>\n",
       "      <td>Sauvignon Blanc</td>\n",
       "    </tr>\n",
       "    <tr>\n",
       "      <th>2</th>\n",
       "      <td>US</td>\n",
       "      <td>96</td>\n",
       "      <td>65.0</td>\n",
       "      <td>Oregon</td>\n",
       "      <td>Willamette Valley</td>\n",
       "      <td>Pinot Noir</td>\n",
       "    </tr>\n",
       "    <tr>\n",
       "      <th>3</th>\n",
       "      <td>US</td>\n",
       "      <td>95</td>\n",
       "      <td>65.0</td>\n",
       "      <td>Oregon</td>\n",
       "      <td>Chehalem Mountains</td>\n",
       "      <td>Pinot Noir</td>\n",
       "    </tr>\n",
       "    <tr>\n",
       "      <th>4</th>\n",
       "      <td>US</td>\n",
       "      <td>95</td>\n",
       "      <td>60.0</td>\n",
       "      <td>California</td>\n",
       "      <td>Sonoma Coast</td>\n",
       "      <td>Pinot Noir</td>\n",
       "    </tr>\n",
       "    <tr>\n",
       "      <th>...</th>\n",
       "      <td>...</td>\n",
       "      <td>...</td>\n",
       "      <td>...</td>\n",
       "      <td>...</td>\n",
       "      <td>...</td>\n",
       "      <td>...</td>\n",
       "    </tr>\n",
       "    <tr>\n",
       "      <th>134239</th>\n",
       "      <td>South Africa</td>\n",
       "      <td>90</td>\n",
       "      <td>66.0</td>\n",
       "      <td>Paarl</td>\n",
       "      <td>NaN</td>\n",
       "      <td>Shiraz</td>\n",
       "    </tr>\n",
       "    <tr>\n",
       "      <th>134263</th>\n",
       "      <td>South Africa</td>\n",
       "      <td>92</td>\n",
       "      <td>145.0</td>\n",
       "      <td>Stellenbosch</td>\n",
       "      <td>NaN</td>\n",
       "      <td>Cabernet Blend</td>\n",
       "    </tr>\n",
       "    <tr>\n",
       "      <th>134343</th>\n",
       "      <td>South Africa</td>\n",
       "      <td>87</td>\n",
       "      <td>69.0</td>\n",
       "      <td>Western Cape</td>\n",
       "      <td>NaN</td>\n",
       "      <td>Shiraz</td>\n",
       "    </tr>\n",
       "    <tr>\n",
       "      <th>134373</th>\n",
       "      <td>South Africa</td>\n",
       "      <td>91</td>\n",
       "      <td>68.0</td>\n",
       "      <td>Paarl</td>\n",
       "      <td>NaN</td>\n",
       "      <td>Shiraz</td>\n",
       "    </tr>\n",
       "    <tr>\n",
       "      <th>134379</th>\n",
       "      <td>South Africa</td>\n",
       "      <td>88</td>\n",
       "      <td>59.0</td>\n",
       "      <td>Stellenbosch</td>\n",
       "      <td>NaN</td>\n",
       "      <td>Cabernet Blend</td>\n",
       "    </tr>\n",
       "  </tbody>\n",
       "</table>\n",
       "<p>22538 rows × 6 columns</p>\n",
       "</div>"
      ],
      "text/plain": [
       "             Country  Points  Price      Province              Region  \\\n",
       "0                 US      96  235.0    California         Napa Valley   \n",
       "1                 US      96   90.0    California      Knights Valley   \n",
       "2                 US      96   65.0        Oregon   Willamette Valley   \n",
       "3                 US      95   65.0        Oregon  Chehalem Mountains   \n",
       "4                 US      95   60.0    California        Sonoma Coast   \n",
       "...              ...     ...    ...           ...                 ...   \n",
       "134239  South Africa      90   66.0         Paarl                 NaN   \n",
       "134263  South Africa      92  145.0  Stellenbosch                 NaN   \n",
       "134343  South Africa      87   69.0  Western Cape                 NaN   \n",
       "134373  South Africa      91   68.0         Paarl                 NaN   \n",
       "134379  South Africa      88   59.0  Stellenbosch                 NaN   \n",
       "\n",
       "                   Variety  \n",
       "0       Cabernet Sauvignon  \n",
       "1          Sauvignon Blanc  \n",
       "2               Pinot Noir  \n",
       "3               Pinot Noir  \n",
       "4               Pinot Noir  \n",
       "...                    ...  \n",
       "134239              Shiraz  \n",
       "134263      Cabernet Blend  \n",
       "134343              Shiraz  \n",
       "134373              Shiraz  \n",
       "134379      Cabernet Blend  \n",
       "\n",
       "[22538 rows x 6 columns]"
      ]
     },
     "execution_count": 121,
     "metadata": {},
     "output_type": "execute_result"
    }
   ],
   "source": [
    "high_price = 50\n",
    "high_price_df = wine_df.loc[wine_df[\"Price\"] >= high_price]\n",
    "high_price_df"
   ]
  },
  {
   "cell_type": "code",
   "execution_count": 122,
   "metadata": {},
   "outputs": [],
   "source": [
    "# Get the Price and Points of Expensive Wines\n",
    "hp_price = high_price_df[\"Price\"]\n",
    "hp_points = high_price_df[\"Points\"]"
   ]
  },
  {
   "cell_type": "code",
   "execution_count": 123,
   "metadata": {},
   "outputs": [
    {
     "data": {
      "image/png": "[encoded data removed]",
      "text/plain": [
       "<Figure size 432x288 with 1 Axes>"
      ]
     },
     "metadata": {
      "needs_background": "light"
     },
     "output_type": "display_data"
    }
   ],
   "source": [
    "# Generate a scatter plot \n",
    "plt.scatter(hp_price, hp_points, color = \"yellow\", edgecolor = \"black\")\n",
    "\n",
    "plt.title(f\"Expensive Wines (${high_price} and above) Rating Points by Price\")\n",
    "plt.xlabel(\"Price ($)\")\n",
    "plt.ylabel(\"Points\")\n",
    "\n",
    "plt.ylim(75,105)\n",
    "plt.grid(True)\n",
    "\n",
    "plt.show()"
   ]
  },
  {
   "cell_type": "code",
   "execution_count": 148,
   "metadata": {},
   "outputs": [
    {
     "name": "stdout",
     "output_type": "stream",
     "text": [
      "The correlation coefficient of price and rating points for economical wines 0.08\n",
      "\n",
      " y = 0.01 x + 89.98\n"
     ]
    }
   ],
   "source": [
    "# Calculate the correlation coefficient\n",
    "\n",
    "r = st.pearsonr(hp_price, hp_points)\n",
    "r = r[0]**2\n",
    "\n",
    "print(f'The correlation coefficient of price and rating points for economical wines {round(r,2)}\\n')\n",
    "\n",
    "# Calculate the linear regression model \n",
    "\n",
    "(slope, intercept, rvalue, pvalue, stderr) = st.linregress(hp_price, hp_points)\n",
    "regress_values = hp_price * slope + intercept\n",
    "line_eq = f' y = {round(slope,2)} x + {round(intercept,2)}'\n",
    "\n",
    "print(line_eq)"
   ]
  },
  {
   "cell_type": "code",
   "execution_count": 149,
   "metadata": {},
   "outputs": [
    {
     "data": {
      "image/png": "[encoded data removed]",
      "text/plain": [
       "<Figure size 432x288 with 1 Axes>"
      ]
     },
     "metadata": {
      "needs_background": "light"
     },
     "output_type": "display_data"
    }
   ],
   "source": [
    "# Generate a scatter plot of the average tumor volume vs. mouse weight\n",
    "# with the linear regression line and equation\n",
    "\n",
    "plt.plot(hp_price,regress_values, \"r-\")\n",
    "plt.scatter(hp_price, hp_points, color = \"yellow\", edgecolor = \"black\")\n",
    "\n",
    "# Labeling the graph with the Linear Regression\n",
    "plt.title(f\"Expensive Wines (${high_price} and below) Rating Points by Price\")\n",
    "plt.xlabel(\"Price ($)\")\n",
    "plt.ylabel(\"Points\")\n",
    "\n",
    "plt.ylim(75,105)\n",
    "plt.grid(True)\n",
    "plt.annotate(line_eq, (550,80), fontsize = 14, color =\"r\")\n",
    "\n",
    "plt.show()"
   ]
  },
  {
   "cell_type": "code",
   "execution_count": 145,
   "metadata": {},
   "outputs": [
    {
     "data": {
      "image/png": "[encoded data removed]",
      "text/plain": [
       "<Figure size 432x288 with 1 Axes>"
      ]
     },
     "metadata": {
      "needs_background": "light"
     },
     "output_type": "display_data"
    }
   ],
   "source": [
    "# Generate a scatter plot \n",
    "plt.scatter(hp_points, hp_price, color = \"green\", edgecolor = \"black\")\n",
    "\n",
    "# Labeling the graph\n",
    "plt.title(f\"Economical Wines (${high_price} and below) Price by Rating Points\")\n",
    "plt.xlabel(\"Points\")\n",
    "plt.ylabel(\"Price ($)\")\n",
    "\n",
    "plt.xlim()\n",
    "plt.grid(True)\n",
    "\n",
    "plt.show()"
   ]
  },
  {
   "cell_type": "code",
   "execution_count": 150,
   "metadata": {},
   "outputs": [
    {
     "name": "stdout",
     "output_type": "stream",
     "text": [
      "The correlation coefficient of price and rating points for economical wines 0.08\n",
      "\n",
      " y = 6.52 x + -510.28\n"
     ]
    }
   ],
   "source": [
    "# Calculate the correlation coefficient\n",
    "r = st.pearsonr(hp_points, hp_price)\n",
    "r = r[0]**2\n",
    "\n",
    "print(f'The correlation coefficient of price and rating points for economical wines {round(r,2)}\\n')\n",
    "\n",
    "# Calculate the linear regression model \n",
    "\n",
    "(slope, intercept, rvalue, pvalue, stderr) = st.linregress(hp_points, hp_price)\n",
    "regress_values = hp_points * slope + intercept\n",
    "line_eq = f' y = {round(slope,2)} x + {round(intercept,2)}'\n",
    "\n",
    "print(line_eq)"
   ]
  },
  {
   "cell_type": "code",
   "execution_count": 152,
   "metadata": {},
   "outputs": [
    {
     "data": {
      "image/png": "[encoded data removed]",
      "text/plain": [
       "<Figure size 432x288 with 1 Axes>"
      ]
     },
     "metadata": {
      "needs_background": "light"
     },
     "output_type": "display_data"
    }
   ],
   "source": [
    "# Generate a scatter plot of the average tumor volume vs. mouse weight\n",
    "# with the linear regression line and equation\n",
    "\n",
    "plt.plot(hp_points,regress_values, \"r-\")\n",
    "plt.scatter(hp_points, hp_price, color = \"green\", edgecolor = \"black\")\n",
    "\n",
    "# Labeling the graph with the Linear Regression\n",
    "plt.title(f\"Economical Wines (${high_price} and below) Price by Rating Points\")\n",
    "plt.xlabel(\"Points\")\n",
    "plt.ylabel(\"Price ($)\")\n",
    "\n",
    "plt.xlim()\n",
    "plt.grid(True)\n",
    "plt.annotate(line_eq, (80,1500), fontsize = 14, color =\"r\")\n",
    "\n",
    "plt.show()"
   ]
  },
  {
   "cell_type": "code",
   "execution_count": null,
   "metadata": {},
   "outputs": [],
   "source": []
  },
  {
   "cell_type": "code",
   "execution_count": null,
   "metadata": {},
   "outputs": [],
   "source": []
  },
  {
   "cell_type": "markdown",
   "metadata": {},
   "source": [
    "## France vs Italy"
   ]
  },
  {
   "cell_type": "code",
   "execution_count": null,
   "metadata": {},
   "outputs": [],
   "source": []
  },
  {
   "cell_type": "code",
   "execution_count": null,
   "metadata": {},
   "outputs": [],
   "source": [
    "# jeannaej's code ends here"
   ]
  },
  {
   "cell_type": "code",
   "execution_count": null,
   "metadata": {},
   "outputs": [],
   "source": [
    "# natalia's code starts here"
   ]
  },
  {
   "cell_type": "code",
   "execution_count": null,
   "metadata": {},
   "outputs": [],
   "source": [
    "wine_df.nunique()"
   ]
  },
  {
   "cell_type": "code",
   "execution_count": null,
   "metadata": {},
   "outputs": [],
   "source": [
    "US_only = wine_df.loc[wine_df[\"Country\"] == \"US\"]\n",
    "US_only"
   ]
  },
  {
   "cell_type": "code",
   "execution_count": null,
   "metadata": {},
   "outputs": [],
   "source": [
    "us_var = US_only.groupby(\"Variety\")\n",
    "us_varieties = us_var.count()\n",
    "us_varieties"
   ]
  },
  {
   "cell_type": "code",
   "execution_count": null,
   "metadata": {},
   "outputs": [],
   "source": [
    "# Summing all varieties that will be lummped together\n",
    "other = 0\n",
    "for variety, row in us_varieties.iterrows():\n",
    "    if row[\"Country\"] < 1000:\n",
    "        added = row[\"Country\"]\n",
    "        other = other + added\n",
    "    else:\n",
    "        pass\n",
    "        \n",
    "print(other)"
   ]
  },
  {
   "cell_type": "code",
   "execution_count": null,
   "metadata": {},
   "outputs": [],
   "source": [
    "# Returns the top 40 varietals from US wineries\n",
    "us_var_top = us_varieties.loc[us_varieties[\"Country\"] >= 1000]"
   ]
  },
  {
   "cell_type": "code",
   "execution_count": null,
   "metadata": {},
   "outputs": [],
   "source": [
    "us_var_top.head()"
   ]
  },
  {
   "cell_type": "code",
   "execution_count": null,
   "metadata": {},
   "outputs": [],
   "source": [
    "us_var_top.loc[\"Other Wine (206 Varietals)\"] = [12575,12575,12575,12575,12575]\n",
    "us_var_top = us_var_top.sort_values(by=\"Country\", ascending=False)\n",
    "us_var_top"
   ]
  },
  {
   "cell_type": "code",
   "execution_count": null,
   "metadata": {},
   "outputs": [],
   "source": [
    "# Labels for the sections of our pie chart\n",
    "labels = us_var_top.index\n",
    "\n",
    "# The values of each section of the pie chart\n",
    "sizes = us_var_top[\"Country\"]\n",
    "\n",
    "# The colors of each section of the pie chart\n",
    "# colors = [\"red\", \"orange\", \"lightcoral\", \"lightskyblue\"]\n",
    "\n",
    "# Seperate the top 3 Varietals\n",
    "explode = (0, 0.1, 0.1, 0.1, 0, 0, 0, 0, 0, 0, 0, 0)"
   ]
  },
  {
   "cell_type": "code",
   "execution_count": null,
   "metadata": {},
   "outputs": [],
   "source": [
    "plt.pie(sizes, labels=labels, autopct=\"%1.1f%%\", shadow=True, explode=explode, radius=2.5)\n",
    "plt.show()"
   ]
  },
  {
   "cell_type": "code",
   "execution_count": null,
   "metadata": {},
   "outputs": [],
   "source": [
    "province = US_only.groupby(\"Province\").count().sort_values(by=\"Country\", ascending=False)\n",
    "province"
   ]
  },
  {
   "cell_type": "code",
   "execution_count": null,
   "metadata": {},
   "outputs": [],
   "source": [
    "# Summing all varieties that will be lummped together\n",
    "other_prov = 0\n",
    "for prov, row in province.iterrows():\n",
    "    if row[\"Country\"] < 100:\n",
    "        added_prov = row[\"Country\"]\n",
    "        other_prov = other_prov + added_prov\n",
    "    else:\n",
    "        pass\n",
    "        \n",
    "print(other_prov)"
   ]
  },
  {
   "cell_type": "code",
   "execution_count": null,
   "metadata": {},
   "outputs": [],
   "source": [
    "# Returns the top wine producing provinces in the US\n",
    "province_top = province.loc[province[\"Country\"] >1000]\n",
    "province_top"
   ]
  },
  {
   "cell_type": "code",
   "execution_count": null,
   "metadata": {},
   "outputs": [],
   "source": [
    "province_top.loc[\"Other Provinces (469 Provinces)\"] = [469,469,469,469,469]\n",
    "province_top = province_top.sort_values(by=\"Country\", ascending=False)\n",
    "province_top"
   ]
  },
  {
   "cell_type": "code",
   "execution_count": null,
   "metadata": {},
   "outputs": [],
   "source": [
    "# Labels for the sections of our pie chart\n",
    "labels = province_top.index\n",
    "\n",
    "# The values of each section of the pie chart\n",
    "sizes = province_top[\"Country\"]\n",
    "\n",
    "# The colors of each section of the pie chart\n",
    "# colors = [\"red\", \"orange\", \"lightcoral\", \"lightskyblue\"]\n",
    "\n",
    "# Seperate the top 3 Varietals\n",
    "explode = (0.1, 0, 0, 0, 0)"
   ]
  },
  {
   "cell_type": "code",
   "execution_count": null,
   "metadata": {},
   "outputs": [],
   "source": [
    "plt.pie(sizes, labels=labels, autopct=\"%1.1f%%\", shadow=True, explode=explode, startangle=90, radius=2.5)\n",
    "plt.show()"
   ]
  },
  {
   "cell_type": "code",
   "execution_count": null,
   "metadata": {},
   "outputs": [],
   "source": [
    "patches, text = plt.pie(sizes, shadow=True, explode=explode, startangle=90, radius=2.5)\n",
    "    \n",
    "plt.legend(patches, labels, loc=\"best\", bbox_to_anchor=(-0.1,1.), fontsize=12)\n",
    "plt.show()\n",
    "\n",
    "# Avoiding overlapping labels\n",
    "# https://stackoverflow.com/questions/23577505/how-to-avoid-overlapping-of-labels-autopct-in-a-matplotlib-pie-chart \n",
    "# Accessed 14 Feb 2021"
   ]
  },
  {
   "cell_type": "code",
   "execution_count": null,
   "metadata": {},
   "outputs": [],
   "source": [
    "ratio_df = wine_df\n",
    "ratio_df[\"Points:Price\"] = ratio_df[\"Points\"]/ratio_df[\"Price\"]\n",
    "ratio_df"
   ]
  },
  {
   "cell_type": "code",
   "execution_count": null,
   "metadata": {},
   "outputs": [],
   "source": [
    "mean = ratio_df.groupby(\"Country\").mean()\n",
    "mean"
   ]
  },
  {
   "cell_type": "code",
   "execution_count": null,
   "metadata": {},
   "outputs": [],
   "source": [
    "median = ratio_df.groupby(\"Country\").median()\n",
    "median"
   ]
  },
  {
   "cell_type": "code",
   "execution_count": null,
   "metadata": {},
   "outputs": [],
   "source": [
    "mean_median = pd.merge(mean, median, left_index=True, right_index=True, suffixes=(\"_mean\",\"_median\"))\n",
    "best = mean_median.sort_values(by=\"Points:Price_mean\", ascending=False)"
   ]
  },
  {
   "cell_type": "code",
   "execution_count": null,
   "metadata": {},
   "outputs": [],
   "source": [
    "x_axis_country = best.index\n",
    "point_per = best[\"Points:Price_mean\"]\n",
    "plt.bar(x_axis_country, point_per, align=\"center\")\n",
    "plt.xticks(rotation=45)\n",
    "plt.xlabel(\"Country\")\n",
    "plt.ylabel(\"Points per Dollar\")\n",
    "plt.title(\"Average Points per Dollar\")\n",
    "\n",
    "plt.show()"
   ]
  },
  {
   "cell_type": "code",
   "execution_count": null,
   "metadata": {},
   "outputs": [],
   "source": [
    "# natalia's code ends here"
   ]
  },
  {
   "cell_type": "code",
   "execution_count": null,
   "metadata": {},
   "outputs": [],
   "source": [
    "# sharon's code starts here"
   ]
  },
  {
   "cell_type": "code",
   "execution_count": null,
   "metadata": {},
   "outputs": [],
   "source": [
    "# sharon's code ends here"
   ]
  }
 ],
 "metadata": {
  "kernelspec": {
   "display_name": "Python 3",
   "language": "python",
   "name": "python3"
  },
  "language_info": {
   "codemirror_mode": {
    "name": "ipython",
    "version": 3
   },
   "file_extension": ".py",
   "mimetype": "text/x-python",
   "name": "python",
   "nbconvert_exporter": "python",
   "pygments_lexer": "ipython3",
   "version": "3.6.10"
  }
 },
 "nbformat": 4,
 "nbformat_minor": 4
}
