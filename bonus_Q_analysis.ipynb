{
 "cells": [
  {
   "cell_type": "code",
   "execution_count": null,
   "metadata": {},
   "outputs": [],
   "source": [
    "# andy's code"
   ]
  },
  {
   "cell_type": "code",
   "execution_count": null,
   "metadata": {},
   "outputs": [],
   "source": [
    "# dependencies\n",
    "import pandas as pd\n",
    "import matplotlib.pyplot as plt\n",
    "from scipy.stats import linregress"
   ]
  },
  {
   "cell_type": "code",
   "execution_count": null,
   "metadata": {},
   "outputs": [],
   "source": [
    "# making path to csv i want for this project\n",
    "file = 'region_data.csv'"
   ]
  },
  {
   "cell_type": "code",
   "execution_count": null,
   "metadata": {},
   "outputs": [],
   "source": [
    "# creating data frame\n",
    "us_wine_df = pd.read_csv(file)\n",
    "us_wine_df.head()"
   ]
  },
  {
   "cell_type": "code",
   "execution_count": null,
   "metadata": {},
   "outputs": [],
   "source": [
    "# so I am looking into picking a grape and figuring out the best place to grow it\n",
    "# to start I am just going to pick a grape to work with\n",
    "us_wine_df.Variety.value_counts().head(25)\n",
    "# I like Syrah alot and there is a lot of data to work with for that grape so that is what i will work with\n",
    "grape = 'Syrah'"
   ]
  },
  {
   "cell_type": "markdown",
   "metadata": {},
   "source": [
    "# I own a winery and I want to make Syrah in the US\n",
    "But I do not yet know where I should plant this wonderful grape. I am going to look at this three ways. Where is it grown the most, where is it the most profitiable, and where is the best wine produced. By looking at these three things I am hoping to piece together an idea of some of the best regions in America to plant these vines. "
   ]
  },
  {
   "cell_type": "code",
   "execution_count": null,
   "metadata": {},
   "outputs": [],
   "source": [
    "# My first Idea is to do a .loc to only have that grape in dataframe, \n",
    "# then to group by Province and Region, and then do a count of Region. Then I go and do pick the highest region"
   ]
  },
  {
   "cell_type": "code",
   "execution_count": null,
   "metadata": {},
   "outputs": [],
   "source": [
    "# loc by grape\n",
    "grape_df = us_wine_df.loc[us_wine_df['Variety'] == grape, :]\n",
    "grape_df.head()"
   ]
  },
  {
   "cell_type": "markdown",
   "metadata": {},
   "source": [
    "so i ran into a problem where some of my regions that were poping up as high priced and high pointed had only oneon wine to their name, and that just is not relevent to what i am looking at as someone looking for a good placeto plant a grape so I wanted to get rid of regions with out so many wines."
   ]
  },
  {
   "cell_type": "code",
   "execution_count": null,
   "metadata": {},
   "outputs": [],
   "source": [
    "# TA Chris helped with this bit of code here\n",
    "grape_df = grape_df[grape_df['Region'].map(grape_df['Region'].value_counts()) > 6]"
   ]
  },
  {
   "cell_type": "code",
   "execution_count": null,
   "metadata": {},
   "outputs": [],
   "source": [
    "# groupby Province and Region\n",
    "region_gb = grape_df.groupby(['Province','Region'])\n",
    "region_gb"
   ]
  },
  {
   "cell_type": "markdown",
   "metadata": {},
   "source": [
    "By grouping by both Province and Region I have both in the index and can access either if need be."
   ]
  },
  {
   "cell_type": "code",
   "execution_count": null,
   "metadata": {},
   "outputs": [],
   "source": [
    "# now a count on Region\n",
    "region_count = region_gb.Region.count()\n",
    "region_count.sort_values(inplace=True, ascending=False)\n",
    "region_count\n",
    "# there we go I have a series of the top producing Syrah regions"
   ]
  },
  {
   "cell_type": "code",
   "execution_count": null,
   "metadata": {},
   "outputs": [],
   "source": [
    "# this is telling me which region is the largest producer of the grape\n",
    "grape_region = region_count.index[0][1]\n",
    "grape_state = region_count.index[0][0]\n",
    "grape_str = f\"{grape} is grown the most in the {grape_region} of {grape_state}.\"\n",
    "print(grape_str)"
   ]
  },
  {
   "cell_type": "code",
   "execution_count": null,
   "metadata": {},
   "outputs": [],
   "source": [
    "# This is the number of Regions i am looking at in each plot\n",
    "len_of_plot = 10 "
   ]
  },
  {
   "cell_type": "code",
   "execution_count": null,
   "metadata": {},
   "outputs": [],
   "source": [
    "# lets plot the top ten grape regions\n",
    "#lets start by dropping all other regions\n",
    "region_count_plot = region_count.head(len_of_plot)\n",
    "region_count_plot"
   ]
  },
  {
   "cell_type": "code",
   "execution_count": null,
   "metadata": {},
   "outputs": [],
   "source": [
    "# This is generating a list of the regions for plotting on the x axis of the bar graph\n",
    "region_list = [region_count_plot.index[i][1] for i in range(0,len_of_plot)] \n",
    "region_list"
   ]
  },
  {
   "cell_type": "markdown",
   "metadata": {},
   "source": [
    "# Volume of Syrah Produced"
   ]
  },
  {
   "cell_type": "code",
   "execution_count": null,
   "metadata": {},
   "outputs": [],
   "source": [
    "# lets plot this stuff\n",
    "plt.figure(figsize=(8,6))\n",
    "\n",
    "plt.bar(region_list, region_count_plot, color='darkmagenta', edgecolor='black')\n",
    "\n",
    "plt.title(f'Most Popular Regions to Grow {grape} by Volume')\n",
    "plt.xlabel('Region')\n",
    "plt.ylabel('Number of Wines Produced')\n",
    "plt.xticks(rotation=90)\n",
    "\n",
    "plt.grid(axis='y', alpha=.5)\n",
    "\n",
    "plt.show()"
   ]
  },
  {
   "cell_type": "markdown",
   "metadata": {},
   "source": [
    "Interesting here that in the top five are Columbia Valley, Walla Walla Valley and Yakima Valley, all are Washington State. While all of the others are California. This lines up with my experince out side of class, in that California produces a lot wine and that Washington is known for their Syrahs. I am interested to see if Washington shows up in Price and Points in the same quantity of valleys. "
   ]
  },
  {
   "cell_type": "code",
   "execution_count": null,
   "metadata": {},
   "outputs": [],
   "source": [
    "# well that is pretty cool I've had some wine from those regions"
   ]
  },
  {
   "cell_type": "code",
   "execution_count": null,
   "metadata": {},
   "outputs": [],
   "source": [
    "# now i am going to look at which region is most profitable for that grape \n",
    "\n",
    "# i need to figure out if i need to use median or mean for price analysis\n",
    "(region_gb.Price.mean() - region_gb.Price.median()).sort_values(ascending=False)\n",
    "# so ten dollars is alot on a bottle of wine. and from my experience in the business (i work at a wine shop)\n",
    "# the price of a bottle of wine is definatly right skewed and I would say this would be prime time for using median"
   ]
  },
  {
   "cell_type": "code",
   "execution_count": null,
   "metadata": {},
   "outputs": [],
   "source": [
    "# just looking at the distrubition of the price\n",
    "price_mean = grape_df.Price.mean()\n",
    "price_median = grape_df.Price.median()\n",
    "plt.figure(figsize=(8,6))\n",
    "plt.hist(grape_df.Price)\n",
    "plt.vlines(price_mean,0,2000)\n",
    "plt.vlines(price_median,0,2000, color='r')\n",
    "plt.show()\n",
    "print(f'Mean is {price_mean}, Median is {price_median} and is red')"
   ]
  },
  {
   "cell_type": "markdown",
   "metadata": {},
   "source": [
    "I was trying to decide between mean and median so I made this visual to look at the price data for Syrah. The data is clearly right skewed. and there is a discrepancy between mean and median. I decided to go with median because of these reasons."
   ]
  },
  {
   "cell_type": "code",
   "execution_count": null,
   "metadata": {},
   "outputs": [],
   "source": [
    "# ya, I'd say this backs up my feeling that this is right skewed. The median should be a better representation of the\n",
    "# price."
   ]
  },
  {
   "cell_type": "code",
   "execution_count": null,
   "metadata": {},
   "outputs": [],
   "source": [
    "# just different operation on groupby object\n",
    "region_price = region_gb.Price.median()\n",
    "region_price.sort_values(inplace=True, ascending=False)\n",
    "region_price"
   ]
  },
  {
   "cell_type": "code",
   "execution_count": null,
   "metadata": {},
   "outputs": [],
   "source": [
    "# average prices by region by top regions\n",
    "region_price_plot = region_price.head(len_of_plot)\n",
    "region_price_plot"
   ]
  },
  {
   "cell_type": "code",
   "execution_count": null,
   "metadata": {},
   "outputs": [],
   "source": [
    "region_price_list = [region_price_plot.index[i][1] for i in range(0,len_of_plot)]\n",
    "region_price_list"
   ]
  },
  {
   "cell_type": "markdown",
   "metadata": {},
   "source": [
    "# Price of Syrah by Region"
   ]
  },
  {
   "cell_type": "code",
   "execution_count": null,
   "metadata": {},
   "outputs": [],
   "source": [
    "# making a plot of top regions based on price\n",
    "plt.figure(figsize=(8,6))\n",
    "plt.bar(region_price_list, region_price_plot, color='olive', edgecolor='black')\n",
    "\n",
    "plt.title(f'Most Popular Regions to Grow {grape} by Average Price')\n",
    "plt.xlabel('Region')\n",
    "plt.ylabel('Average Price')\n",
    "\n",
    "plt.grid(axis='y', alpha=.5)\n",
    "\n",
    "plt.xticks(rotation=90)\n",
    "plt.show()\n",
    "\n",
    "# I am not a fan of this approach to finding a place to grow a grape or variety as there are a lot of factors that go\n",
    "# into deciding the price of bottle of wine. So a higher price does not always mean more profit."
   ]
  },
  {
   "cell_type": "markdown",
   "metadata": {},
   "source": [
    "I do not like this plot. I think it looks great, but looking at just price alone is misleading. I know from experience that price does not mean profit. Is it more expesive because it is good so they can charge more? Or is it more expensive because it is harder to grow the grape? There are numerous reasons that a bottle of wine could be 50 instead of 40. So I think this plot is a little misleading when looking at it as we are. We are looking for the most profitable regions to grow our vines. And this data just does not give us enough to do that. \n",
    "Interesting titbit, the Walla Walla Valley on this plot is the same valley as the one on the previous plot but a different state. I will go into more detail later "
   ]
  },
  {
   "cell_type": "code",
   "execution_count": null,
   "metadata": {},
   "outputs": [],
   "source": [
    "# now i want to look at the best regions by rating (points)"
   ]
  },
  {
   "cell_type": "code",
   "execution_count": null,
   "metadata": {},
   "outputs": [],
   "source": [
    "# i want to decide wether to look at median or mean\n",
    "plt.figure(figsize=(8,6))\n",
    "\n",
    "plt.hist(grape_df.Points)\n",
    "# that looks pretty normal\n",
    "\n",
    "point_mean = grape_df.Points.mean()\n",
    "point_median = grape_df.Points.median()\n",
    "\n",
    "# adding averages to graph\n",
    "plt.vlines(point_mean,0,800)\n",
    "plt.vlines(point_median,0,800, color='r')\n",
    "\n",
    "plt.show()\n",
    "\n",
    "print(f'Mean is {point_mean}, Median is {point_median} and is red')\n",
    "\n",
    "# I'd say this is ok to use the mean this time."
   ]
  },
  {
   "cell_type": "markdown",
   "metadata": {},
   "source": [
    "Again I wanted to decide between mean and median. This time the data looked normal so I went with mean."
   ]
  },
  {
   "cell_type": "code",
   "execution_count": null,
   "metadata": {},
   "outputs": [],
   "source": [
    "region_points = region_gb.Points.mean()\n",
    "region_points.sort_values(inplace=True, ascending=False)\n",
    "region_points"
   ]
  },
  {
   "cell_type": "code",
   "execution_count": null,
   "metadata": {},
   "outputs": [],
   "source": [
    "region_points_plot = region_points.head(len_of_plot)\n",
    "region_points_plot"
   ]
  },
  {
   "cell_type": "code",
   "execution_count": null,
   "metadata": {},
   "outputs": [],
   "source": [
    "region_points_list = [region_points_plot.index[i][1] for i in range(0,len_of_plot)]\n",
    "region_points_list"
   ]
  },
  {
   "cell_type": "markdown",
   "metadata": {},
   "source": [
    "# Rating of Syrah by Region"
   ]
  },
  {
   "cell_type": "code",
   "execution_count": null,
   "metadata": {},
   "outputs": [],
   "source": [
    "# making a plot of top regions based on points\n",
    "plt.figure(figsize=(8,6))\n",
    "plt.bar(region_points_list, region_points_plot, color='goldenrod', edgecolor='black')\n",
    "\n",
    "plt.title(f'Most Popular Regions to Grow {grape} by Average Rating')\n",
    "plt.xlabel('Region')\n",
    "plt.ylabel('Average Points')\n",
    "\n",
    "plt.ylim(80,100) # pretty typical window for wine ratings (at least for good wines)\n",
    "\n",
    "plt.grid(axis='y', alpha=.5)\n",
    "\n",
    "plt.xticks(rotation=90)\n",
    "plt.show()"
   ]
  },
  {
   "cell_type": "markdown",
   "metadata": {},
   "source": [
    "We have a good distrubition of WA, CA and OR regions here. It makes me think that there might be a certian terrior that produces excellent Syrah. Just good soil and the right sun and temp. These are the places that probably have the right stuff. "
   ]
  },
  {
   "cell_type": "code",
   "execution_count": null,
   "metadata": {},
   "outputs": [],
   "source": [
    "# so now i'm going to see if there are any valley's/regions that occur in these list more than once\n",
    "# i figure these would be the ideal regions for growing my grape\n",
    "\n",
    "# i am going to make a data frame of all valley's that came up\n",
    "valley_list = region_list + region_price_list + region_points_list\n",
    "print(valley_list)"
   ]
  },
  {
   "cell_type": "code",
   "execution_count": null,
   "metadata": {},
   "outputs": [],
   "source": [
    "valley_df = pd.DataFrame({\n",
    "    'Valley': valley_list\n",
    "})"
   ]
  },
  {
   "cell_type": "code",
   "execution_count": null,
   "metadata": {},
   "outputs": [],
   "source": [
    "valley_df"
   ]
  },
  {
   "cell_type": "code",
   "execution_count": null,
   "metadata": {},
   "outputs": [],
   "source": [
    "valley_df.Valley.value_counts().head(10)"
   ]
  },
  {
   "cell_type": "markdown",
   "metadata": {},
   "source": [
    "# Walla Walla Valley\n",
    "\n",
    "Walla Walla Valley actually comes up in all three. Twice as Washinton, and twice as Oregon. This is a interesting valley that is located on top of the border of the two states and produces great wine. This seems like the ideal location for growing syrah.\n",
    "\n",
    "Walla Walla Valley has peaked my interest as a potential region to grow my Syrah vines so I am going to take a closer look at the region\n"
   ]
  },
  {
   "cell_type": "code",
   "execution_count": null,
   "metadata": {
    "scrolled": true
   },
   "outputs": [],
   "source": [
    "# I am making a dataframe of only walla walla valley (both oregon and washington)\n",
    "walla_walla_or = grape_df.loc[grape_df[\"Region\"] == \"Walla Walla Valley (OR)\", :]\n",
    "walla_walla_wa = grape_df.loc[grape_df[\"Region\"] == \"Walla Walla Valley (WA)\", :]\n",
    "\n",
    "walla_walla = walla_walla_or.append(walla_walla_wa)"
   ]
  },
  {
   "cell_type": "code",
   "execution_count": null,
   "metadata": {},
   "outputs": [],
   "source": [
    "# plotting Price VS Points for Walla Walla Syrah (Two different States)\n",
    "plt.figure(figsize=(8,6))\n",
    "\n",
    "# Washingtion Plot\n",
    "walla_wa = plt.scatter(walla_walla_wa.Points, walla_walla_wa.Price, color='lightblue',\n",
    "                                      alpha=.4, label='Walla Walla (WA)')\n",
    "# Oregon Plot\n",
    "walla_or = plt.scatter(walla_walla_or.Points, walla_walla_or.Price, color='orange',\n",
    "                        alpha=.4, label='Walla Walla (OR)')\n",
    "\n",
    "# i need to add a legend\n",
    "plt.title(\"Price VS Points for Walla Walla Valley Syrah\")\n",
    "plt.xlabel('Points (out of 100)')\n",
    "plt.ylabel('Price ($)')\n",
    "\n",
    "plt.legend()\n",
    "\n",
    "plt.show()"
   ]
  },
  {
   "cell_type": "markdown",
   "metadata": {},
   "source": [
    "I wanted to dive into Walla Walla Valley. I wanted to see how Points affected Price, and I wanted to see the relation ship between the two halfs of the valley. I fit both into one plot. On this you can see that there is on group of WA wines, while there are two groups of OR wines. A higher-priced/Higher-rated group and a Lower-rated/lower-priced group. It is really interesting to find that there are two Tiers of wine coming out of that region. I have an isolated Walla Walla (OR) plot below."
   ]
  },
  {
   "cell_type": "code",
   "execution_count": null,
   "metadata": {},
   "outputs": [],
   "source": [
    "# plotting Price VS Points for Walla Walla Syrah (Two different States)\n",
    "plt.figure(figsize=(8,6))\n",
    "plt.scatter(walla_walla_or.Points, walla_walla_or.Price, color='orange', alpha=.4) # oregon\n",
    "\n",
    "plt.title(\"Price VS Points for Walla Walla Valley Oregon Syrah\")\n",
    "plt.xlabel('Points (out of 100)')\n",
    "plt.ylabel('Price ($)')\n",
    "\n",
    "plt.show()"
   ]
  },
  {
   "cell_type": "code",
   "execution_count": null,
   "metadata": {},
   "outputs": [],
   "source": [
    "# plotting Price VS Points for Walla Walla Syrah (Two different States)\n",
    "\n",
    "# calulating linear regression\n",
    "(slope, intercept, rvalue, pvalue, stderr) = linregress(walla_walla.Points, walla_walla.Price)\n",
    "regressline = slope * walla_walla.Points + intercept\n",
    "print(f\"r is {rvalue} and r^2 is {rvalue**2}\")\n",
    "\n",
    "line_eq = f\"{slope:.2f}x{intercept:.2f}\"\n",
    "\n",
    "plt.figure(figsize=(8,6))\n",
    "walla_wa = plt.scatter(walla_walla_wa.Points, walla_walla_wa.Price, color='lightblue',\n",
    "                                      alpha=.4, label='Walla Walla (WA)') # washington\n",
    "walla_or = plt.scatter(walla_walla_or.Points, walla_walla_or.Price, color='orange',\n",
    "                        alpha=.4, label='Walla Walla (OR)') # oregon\n",
    "\n",
    "plt.plot(walla_walla.Points, regressline, color='r', alpha=.5)\n",
    "\n",
    "plt.annotate(line_eq, (95,50), color='r', alpha=.5)\n",
    "\n",
    "# i need to add a legend\n",
    "plt.title(\"Price VS Points for Walla Walla Valley Syrah\")\n",
    "plt.xlabel('Points (out of 100)')\n",
    "plt.ylabel('Price ($)')\n",
    "\n",
    "\n",
    "plt.legend()\n",
    "\n",
    "plt.show()"
   ]
  },
  {
   "cell_type": "markdown",
   "metadata": {},
   "source": [
    "I wanted to look at how points related to price in Walla Walla Syrah. So I did a linear regression. The correlation coefficent came back to be 0.64 so I'd say they are fairly correlated, meaning the higher the wine is rated the higher the price will probably be. And the linear regression seems alright so you are in a pinch and need to guess what the price of a bottle of Walla Walla Syrah is this could help you out."
   ]
  },
  {
   "cell_type": "markdown",
   "metadata": {},
   "source": [
    "I want to test out my linear regression on a bottle of wine. \n",
    "Cayuse Vineyards Syrah 2013 Walla Walla Valley (WA) Rating = 95, My Store's price = 125, online price = 80\n",
    "Let us see if my store is really over priced :)"
   ]
  },
  {
   "cell_type": "code",
   "execution_count": null,
   "metadata": {},
   "outputs": [],
   "source": [
    "# finding price of Cayuse Syrah\n",
    "cayuse_points = 95\n",
    "cayuse_price = slope * cayuse_points + intercept\n",
    "\n",
    "print(f\"Cayuse 2013 Syrah is ${cayuse_price}\")\n",
    "\n"
   ]
  },
  {
   "cell_type": "markdown",
   "metadata": {},
   "source": [
    "Looks like that bottle might just be over priced in general. That or my linear regression is pulled down by all that delicisous inexpesive wine."
   ]
  },
  {
   "cell_type": "code",
   "execution_count": null,
   "metadata": {},
   "outputs": [],
   "source": [
    "# end andy's code"
   ]
  }
 ],
 "metadata": {
  "kernelspec": {
   "display_name": "Python 3",
   "language": "python",
   "name": "python3"
  },
  "language_info": {
   "codemirror_mode": {
    "name": "ipython",
    "version": 3
   },
   "file_extension": ".py",
   "mimetype": "text/x-python",
   "name": "python",
   "nbconvert_exporter": "python",
   "pygments_lexer": "ipython3",
   "version": "3.6.10"
  }
 },
 "nbformat": 4,
 "nbformat_minor": 4
}
