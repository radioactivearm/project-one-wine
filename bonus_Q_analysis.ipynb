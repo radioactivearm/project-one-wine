{
 "cells": [
  {
   "cell_type": "code",
   "execution_count": null,
   "metadata": {},
   "outputs": [],
   "source": [
    "# andy's code"
   ]
  },
  {
   "cell_type": "code",
   "execution_count": null,
   "metadata": {},
   "outputs": [],
   "source": [
    "# dependencies\n",
    "import pandas as pd\n",
    "import matplotlib.pyplot as plt\n",
    "from scipy.stats import linregress"
   ]
  },
  {
   "cell_type": "code",
   "execution_count": null,
   "metadata": {},
   "outputs": [],
   "source": [
    "# making path to csv i want for this project\n",
    "file = 'region_data.csv'"
   ]
  },
  {
   "cell_type": "code",
   "execution_count": null,
   "metadata": {},
   "outputs": [],
   "source": [
    "# creating data frame\n",
    "us_wine_df = pd.read_csv(file)\n",
    "us_wine_df.head()"
   ]
  },
  {
   "cell_type": "code",
   "execution_count": null,
   "metadata": {},
   "outputs": [],
   "source": [
    "# so I am looking into picking a grape and figuring out the best place to grow it\n",
    "# to start I am just going to pick a grape to work with\n",
    "us_wine_df.Variety.value_counts().head(25)\n",
    "# I like Syrah alot and there is a lot of data to work with for that grape so that is what i will work with\n",
    "grape = 'Syrah'"
   ]
  },
  {
   "cell_type": "code",
   "execution_count": null,
   "metadata": {},
   "outputs": [],
   "source": [
    "# My first Idea is to do a .loc to only have that grape in dataframe, \n",
    "# then to group by Province and Region, and then do a count of Region. Then I go and do pick the highest region"
   ]
  },
  {
   "cell_type": "code",
   "execution_count": null,
   "metadata": {},
   "outputs": [],
   "source": [
    "# loc by grape\n",
    "grape_df = us_wine_df.loc[us_wine_df['Variety'] == grape, :]\n",
    "grape_df.head()"
   ]
  },
  {
   "cell_type": "code",
   "execution_count": null,
   "metadata": {},
   "outputs": [],
   "source": [
    "# groupby Province and Region\n",
    "region_gb = grape_df.groupby(['Province','Region'])\n",
    "region_gb"
   ]
  },
  {
   "cell_type": "code",
   "execution_count": null,
   "metadata": {},
   "outputs": [],
   "source": [
    "# now a count on Region\n",
    "region_count = region_gb.Region.count()\n",
    "region_count.sort_values(inplace=True, ascending=False)\n",
    "region_count\n",
    "# there we go I have a series of the top producing Syrah regions"
   ]
  },
  {
   "cell_type": "code",
   "execution_count": null,
   "metadata": {},
   "outputs": [],
   "source": [
    "grape_region = region_count.index[0][1]\n",
    "grape_state = region_count.index[0][0]\n",
    "grape_str = f\"{grape} is grown the most in the {grape_region} of {grape_state}.\"\n",
    "print(grape_str)"
   ]
  },
  {
   "cell_type": "code",
   "execution_count": null,
   "metadata": {},
   "outputs": [],
   "source": [
    "# lets plot the top ten grape regions\n",
    "#lets start by dropping all other regions\n",
    "len_of_plot = 10\n",
    "region_count_plot = region_count.head(len_of_plot)\n",
    "region_count_plot"
   ]
  },
  {
   "cell_type": "code",
   "execution_count": null,
   "metadata": {},
   "outputs": [],
   "source": [
    "region_list = [region_count_plot.index[i][1] for i in range(0,len_of_plot)]"
   ]
  },
  {
   "cell_type": "code",
   "execution_count": null,
   "metadata": {},
   "outputs": [],
   "source": [
    "region_list"
   ]
  },
  {
   "cell_type": "code",
   "execution_count": null,
   "metadata": {},
   "outputs": [],
   "source": [
    "# lets plot this stuff\n",
    "plt.figure(figsize=(8,6))\n",
    "\n",
    "plt.bar(region_list, region_count_plot, color='darkmagenta', edgecolor='black')\n",
    "\n",
    "plt.title(f'Most Popular Regions to Grow {grape} by Volume')\n",
    "plt.xlabel('Region')\n",
    "plt.ylabel('Number of Wines Produced')\n",
    "plt.xticks(rotation=90)\n",
    "\n",
    "plt.grid(axis='y', alpha=.5)\n",
    "\n",
    "plt.show()"
   ]
  },
  {
   "cell_type": "code",
   "execution_count": null,
   "metadata": {},
   "outputs": [],
   "source": [
    "# well that is pretty cool I've had some wine from those regions"
   ]
  },
  {
   "cell_type": "code",
   "execution_count": null,
   "metadata": {},
   "outputs": [],
   "source": [
    "# now i am going to look at which region is most profitable for that grape \n",
    "\n",
    "# i need to figure out if i need to use median or mean for price analysis\n",
    "(region_gb.Price.mean() - region_gb.Price.median()).sort_values(ascending=False)\n",
    "# so ten dollars is alot on a bottle of wine. and from my experience in the business (i work at a wine shop)\n",
    "# the price of a bottle of wine is definatly right skewed and I would say this would be prime time for using median"
   ]
  },
  {
   "cell_type": "code",
   "execution_count": null,
   "metadata": {},
   "outputs": [],
   "source": [
    "# just looking at the distrubition of the price\n",
    "price_mean = grape_df.Price.mean()\n",
    "price_median = grape_df.Price.median()\n",
    "plt.figure(figsize=(8,6))\n",
    "plt.hist(grape_df.Price)\n",
    "plt.vlines(price_mean,0,2000)\n",
    "plt.vlines(price_median,0,2000, color='r')\n",
    "plt.show()\n",
    "print(f'Mean is {price_mean}, Median is {price_median} and is red')"
   ]
  },
  {
   "cell_type": "code",
   "execution_count": null,
   "metadata": {},
   "outputs": [],
   "source": [
    "# ya, I'd say this backs up my feeling that this is right skewed. The median should be a better representation of the\n",
    "# price."
   ]
  },
  {
   "cell_type": "code",
   "execution_count": null,
   "metadata": {},
   "outputs": [],
   "source": [
    "# just different operation on groupby object\n",
    "region_price = region_gb.Price.median()\n",
    "region_price.sort_values(inplace=True, ascending=False)\n",
    "region_price"
   ]
  },
  {
   "cell_type": "code",
   "execution_count": null,
   "metadata": {},
   "outputs": [],
   "source": [
    "# average prices by region by top regions\n",
    "region_price_plot = region_price.head(len_of_plot)\n",
    "region_price_plot"
   ]
  },
  {
   "cell_type": "code",
   "execution_count": null,
   "metadata": {},
   "outputs": [],
   "source": [
    "region_price_list = [region_price_plot.index[i][1] for i in range(0,len_of_plot)]\n",
    "region_price_list"
   ]
  },
  {
   "cell_type": "code",
   "execution_count": null,
   "metadata": {},
   "outputs": [],
   "source": [
    "# making a plot of top regions based on price\n",
    "plt.figure(figsize=(8,6))\n",
    "plt.bar(region_price_list, region_price_plot, color='olive', edgecolor='black')\n",
    "\n",
    "plt.title(f'Most Popular Regions to Grow {grape} by Average Price')\n",
    "plt.xlabel('Region')\n",
    "plt.ylabel('Average Price')\n",
    "\n",
    "plt.grid(axis='y', alpha=.5)\n",
    "\n",
    "plt.xticks(rotation=90)\n",
    "plt.show()\n",
    "\n",
    "# I am not a fan of this approach to finding a place to grow a grape or variety as there are a lot of factors that go\n",
    "# into deciding the price of bottle of wine. So a higher price does not always mean more profit."
   ]
  },
  {
   "cell_type": "code",
   "execution_count": null,
   "metadata": {},
   "outputs": [],
   "source": [
    "# now i want to look at the best regions by rating (points)"
   ]
  },
  {
   "cell_type": "code",
   "execution_count": null,
   "metadata": {},
   "outputs": [],
   "source": [
    "# i want to decide wether to look at median or mean\n",
    "plt.figure(figsize=(8,6))\n",
    "\n",
    "plt.hist(grape_df.Points)\n",
    "# that looks pretty normal\n",
    "\n",
    "point_mean = grape_df.Points.mean()\n",
    "point_median = grape_df.Points.median()\n",
    "\n",
    "# adding averages to graph\n",
    "plt.vlines(point_mean,0,800)\n",
    "plt.vlines(point_median,0,800, color='r')\n",
    "\n",
    "plt.show()\n",
    "\n",
    "print(f'Mean is {point_mean}, Median is {point_median} and is red')\n",
    "\n",
    "# I'd say this is ok to use the mean this time."
   ]
  },
  {
   "cell_type": "code",
   "execution_count": null,
   "metadata": {},
   "outputs": [],
   "source": [
    "region_points = region_gb.Points.mean()\n",
    "region_points.sort_values(inplace=True, ascending=False)\n",
    "region_points"
   ]
  },
  {
   "cell_type": "code",
   "execution_count": null,
   "metadata": {},
   "outputs": [],
   "source": [
    "region_points_plot = region_points.head(len_of_plot)\n",
    "region_points_plot"
   ]
  },
  {
   "cell_type": "code",
   "execution_count": null,
   "metadata": {},
   "outputs": [],
   "source": [
    "region_points_list = [region_points_plot.index[i][1] for i in range(0,len_of_plot)]\n",
    "region_points_list"
   ]
  },
  {
   "cell_type": "code",
   "execution_count": null,
   "metadata": {},
   "outputs": [],
   "source": [
    "# making a plot of top regions based on points\n",
    "plt.figure(figsize=(8,6))\n",
    "plt.bar(region_points_list, region_points_plot, color='goldenrod', edgecolor='black')\n",
    "\n",
    "plt.title(f'Most Popular Regions to Grow {grape} by Average Rating')\n",
    "plt.xlabel('Region')\n",
    "plt.ylabel('Average Points')\n",
    "\n",
    "plt.ylim(80,100) # pretty typical window for wine ratings (at least for good wines)\n",
    "\n",
    "plt.grid(axis='y', alpha=.5)\n",
    "\n",
    "plt.xticks(rotation=90)\n",
    "plt.show()"
   ]
  },
  {
   "cell_type": "code",
   "execution_count": null,
   "metadata": {},
   "outputs": [],
   "source": [
    "# so now i'm going to see if there are any valley's/regions that occur in these list more than once\n",
    "# i figure these would be the ideal regions for growing my grape\n",
    "\n",
    "# i am going to make a data frame of all valley's that came up\n",
    "valley_list = region_list + region_price_list + region_points_list\n",
    "print(valley_list)"
   ]
  },
  {
   "cell_type": "code",
   "execution_count": null,
   "metadata": {},
   "outputs": [],
   "source": [
    "valley_df = pd.DataFrame({\n",
    "    'Valley': valley_list\n",
    "})"
   ]
  },
  {
   "cell_type": "code",
   "execution_count": null,
   "metadata": {},
   "outputs": [],
   "source": [
    "valley_df"
   ]
  },
  {
   "cell_type": "code",
   "execution_count": null,
   "metadata": {},
   "outputs": [],
   "source": [
    "valley_df.Valley.value_counts().head(10)"
   ]
  },
  {
   "cell_type": "markdown",
   "metadata": {},
   "source": [
    "# This is relevent only to Syrah\n",
    " so for syrah my valley's are Walla Walla Valley (OR) (I want to expand on this one later), Spring Mountain District\n",
    "and Calistoga\n",
    "\n",
    "Walla Walla Valley actually comes up in all three. Once as washinton, and twice as oregon. This is a interesting valley that is located on top of the border of the two states and produces great wine. This seems like the ideal location for growing syrah.\n",
    "\n",
    "Spring Mountain District and Calistoga are both by and in California's Napa Valley Region\n"
   ]
  },
  {
   "cell_type": "markdown",
   "metadata": {},
   "source": [
    "## this next part only pertains to Syrah"
   ]
  },
  {
   "cell_type": "code",
   "execution_count": null,
   "metadata": {
    "scrolled": true
   },
   "outputs": [],
   "source": [
    "# I am making a dataframe of only walla walla valley (both oregon and washington)\n",
    "walla_walla_or = grape_df.loc[grape_df[\"Region\"] == \"Walla Walla Valley (OR)\", :]\n",
    "walla_walla_wa = grape_df.loc[grape_df[\"Region\"] == \"Walla Walla Valley (WA)\", :]\n",
    "\n",
    "walla_walla = walla_walla_or.append(walla_walla_wa)\n",
    "\n",
    "walla_walla.tail()"
   ]
  },
  {
   "cell_type": "code",
   "execution_count": null,
   "metadata": {},
   "outputs": [],
   "source": []
  },
  {
   "cell_type": "code",
   "execution_count": null,
   "metadata": {},
   "outputs": [],
   "source": [
    "# plotting Price VS Points for Walla Walla Syrah (Two different States)\n",
    "plt.figure(figsize=(8,6))\n",
    "walla_wa = plt.scatter(walla_walla_wa.Points, walla_walla_wa.Price, color='lightblue',\n",
    "                                      alpha=.4, label='Walla Walla (WA)') # washington\n",
    "walla_or = plt.scatter(walla_walla_or.Points, walla_walla_or.Price, color='orange',\n",
    "                        alpha=.4, label='Walla Walla (OR)') # oregon\n",
    "# i need to add a legend\n",
    "plt.title(\"Price VS Points for Walla Walla Valley Syrah\")\n",
    "plt.xlabel('Points (out of 100)')\n",
    "plt.ylabel('Price ($)')\n",
    "\n",
    "\n",
    "plt.legend()\n",
    "\n",
    "plt.show()"
   ]
  },
  {
   "cell_type": "code",
   "execution_count": null,
   "metadata": {},
   "outputs": [],
   "source": [
    "# plotting Price VS Points for Walla Walla Syrah (Two different States)\n",
    "\n",
    "# calulating linear regression\n",
    "(slope, intercept, rvalue, pvalue, stderr) = linregress(walla_walla.Points, walla_walla.Price)\n",
    "regressline = slope * walla_walla.Points + intercept\n",
    "print(f\"r is {rvalue} and r^2 is {rvalue**2}\")\n",
    "\n",
    "line_eq = f\"{slope:.2f}x{intercept:.2f}\"\n",
    "\n",
    "plt.figure(figsize=(8,6))\n",
    "walla_wa = plt.scatter(walla_walla_wa.Points, walla_walla_wa.Price, color='lightblue',\n",
    "                                      alpha=.4, label='Walla Walla (WA)') # washington\n",
    "walla_or = plt.scatter(walla_walla_or.Points, walla_walla_or.Price, color='orange',\n",
    "                        alpha=.4, label='Walla Walla (OR)') # oregon\n",
    "\n",
    "plt.plot(walla_walla.Points, regressline, color='r', alpha=.5)\n",
    "\n",
    "plt.annotate(line_eq, (95,50), color='r', alpha=.5)\n",
    "\n",
    "# i need to add a legend\n",
    "plt.title(\"Price VS Points for Walla Walla Valley Syrah\")\n",
    "plt.xlabel('Points (out of 100)')\n",
    "plt.ylabel('Price ($)')\n",
    "\n",
    "\n",
    "plt.legend()\n",
    "\n",
    "plt.show()"
   ]
  },
  {
   "cell_type": "code",
   "execution_count": null,
   "metadata": {},
   "outputs": [],
   "source": [
    "# plotting Price VS Points for Walla Walla Syrah (Two different States)\n",
    "plt.figure(figsize=(8,6))\n",
    "plt.scatter(walla_walla_or.Points, walla_walla_or.Price, color='orange', alpha=.4) # oregon\n",
    "\n",
    "plt.title(\"Price VS Points for Walla Walla Valley Oregon Syrah\")\n",
    "plt.xlabel('Points (out of 100)')\n",
    "plt.ylabel('Price ($)')\n",
    "\n",
    "plt.show()"
   ]
  },
  {
   "cell_type": "code",
   "execution_count": null,
   "metadata": {},
   "outputs": [],
   "source": []
  },
  {
   "cell_type": "code",
   "execution_count": null,
   "metadata": {},
   "outputs": [],
   "source": []
  },
  {
   "cell_type": "code",
   "execution_count": null,
   "metadata": {},
   "outputs": [],
   "source": []
  },
  {
   "cell_type": "code",
   "execution_count": null,
   "metadata": {},
   "outputs": [],
   "source": []
  }
 ],
 "metadata": {
  "kernelspec": {
   "display_name": "Python 3",
   "language": "python",
   "name": "python3"
  },
  "language_info": {
   "codemirror_mode": {
    "name": "ipython",
    "version": 3
   },
   "file_extension": ".py",
   "mimetype": "text/x-python",
   "name": "python",
   "nbconvert_exporter": "python",
   "pygments_lexer": "ipython3",
   "version": "3.6.10"
  }
 },
 "nbformat": 4,
 "nbformat_minor": 4
}
