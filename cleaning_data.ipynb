{
 "cells": [
  {
   "cell_type": "code",
   "execution_count": null,
   "metadata": {},
   "outputs": [],
   "source": [
    "# andy's code starts here"
   ]
  },
  {
   "cell_type": "code",
   "execution_count": null,
   "metadata": {},
   "outputs": [],
   "source": [
    "# dependencies\n",
    "import pandas as pd\n",
    "import os "
   ]
  },
  {
   "cell_type": "code",
   "execution_count": null,
   "metadata": {},
   "outputs": [],
   "source": [
    "# file path\n",
    "file = 'winemag-data_first150k.csv'"
   ]
  },
  {
   "cell_type": "markdown",
   "metadata": {},
   "source": [
    "I chose this csv over the other because it had more wines to look at. This one had less columns and we didn't need any of the others that the other had that this one did not."
   ]
  },
  {
   "cell_type": "code",
   "execution_count": null,
   "metadata": {},
   "outputs": [],
   "source": [
    "# reading csv file into dataframe\n",
    "dirty_wine_df = pd.read_csv(file)\n",
    "dirty_wine_df.head()"
   ]
  },
  {
   "cell_type": "code",
   "execution_count": null,
   "metadata": {},
   "outputs": [],
   "source": [
    "# checking to see where there might be nulls\n",
    "dirty_wine_df.count()"
   ]
  },
  {
   "cell_type": "markdown",
   "metadata": {},
   "source": [
    "So I noticed that some columns had a lot of null values and they also were not useful to what we were looking into so I decided to drop them. But, the region_1 column need to stay for the potential bonus question that I wanted to look into, so this is posed a problem where i could not just drop all na values."
   ]
  },
  {
   "cell_type": "code",
   "execution_count": null,
   "metadata": {},
   "outputs": [],
   "source": [
    "# seeing what countries we start with\n",
    "# dirty_wine_df['country'].value_counts()"
   ]
  },
  {
   "cell_type": "code",
   "execution_count": null,
   "metadata": {},
   "outputs": [],
   "source": [
    "# keeping only the columns we want (dropping imported index, description, designation, region_2 and winery)\n",
    "# dropping those partially because we don't need them , parially because they lose us lots of data\n",
    "less_dirty_wine_df = dirty_wine_df[['country', 'points', 'price', 'province', 'region_1', 'variety' ]]"
   ]
  },
  {
   "cell_type": "code",
   "execution_count": null,
   "metadata": {},
   "outputs": [],
   "source": [
    "less_dirty_wine_df.head()"
   ]
  },
  {
   "cell_type": "code",
   "execution_count": null,
   "metadata": {},
   "outputs": [],
   "source": [
    "# I am dropping all na's in in all columns except region_1. if i drop na's in that column we lose almost all our\n",
    "# counrties (a lot of data goes away like smoke in the wind)\n",
    "cleaned_wine_df = less_dirty_wine_df.dropna(subset=['country', 'province', 'variety', 'price', 'points'])"
   ]
  },
  {
   "cell_type": "markdown",
   "metadata": {},
   "source": [
    "Here I am dropping all na's EXCEPT in the region_1 column. If i drop in the region one column i lose all my countries except a few. That is not good. And I cannot get rid of that column because I need it in my bonus project."
   ]
  },
  {
   "cell_type": "code",
   "execution_count": null,
   "metadata": {},
   "outputs": [],
   "source": [
    "# just renaming columns\n",
    "cleaned_wine_df = cleaned_wine_df.rename(columns={\n",
    "    'country': 'Country',\n",
    "    'points': 'Points',\n",
    "    'price': 'Price',\n",
    "    'province': 'Province',\n",
    "    'region_1': 'Region',\n",
    "    'variety': 'Variety'\n",
    "})\n",
    "cleaned_wine_df.head()"
   ]
  },
  {
   "cell_type": "code",
   "execution_count": null,
   "metadata": {},
   "outputs": [],
   "source": [
    "# these are the countries i want in my csv that i will be exporting\n",
    "countries_i_want = [\n",
    "    'US',\n",
    "    'Italy',\n",
    "    'France',\n",
    "    'Spain',\n",
    "    'Chile',\n",
    "    'Argentina',\n",
    "    'Portugal',\n",
    "    'Australia',\n",
    "    'New Zealand',\n",
    "    'Austria',\n",
    "    'Germany',\n",
    "    'South Africa'\n",
    "]"
   ]
  },
  {
   "cell_type": "markdown",
   "metadata": {},
   "source": [
    "For the first csv I am going to export to the rest of the team, I am dropping alot of countries that we are not interested in. Due to the number of countries, amount of data available and that the countries above are really the ones that are leading the world in wine production."
   ]
  },
  {
   "cell_type": "code",
   "execution_count": null,
   "metadata": {},
   "outputs": [],
   "source": [
    "# i am going ot make a new data frame of only those countries\n",
    "\n",
    "# start with empty data frame\n",
    "wine_df = cleaned_wine_df.loc[cleaned_wine_df['Country'] == 'Andyland', :]\n",
    "\n",
    "# now iterating over those countries i want in my data frame i will add their data\n",
    "for land in countries_i_want:\n",
    "    wine_df = wine_df.append(cleaned_wine_df.loc[cleaned_wine_df['Country'] == land, :], ignore_index=True)\n",
    "    \n",
    "wine_df.head()"
   ]
  },
  {
   "cell_type": "markdown",
   "metadata": {},
   "source": [
    "I started by creating an empty dataframe then populating it with data of only those countries we wanted to look at."
   ]
  },
  {
   "cell_type": "code",
   "execution_count": null,
   "metadata": {},
   "outputs": [],
   "source": [
    "wine_df['Country'].value_counts()"
   ]
  },
  {
   "cell_type": "code",
   "execution_count": null,
   "metadata": {},
   "outputs": [],
   "source": [
    "wine_df.count()"
   ]
  },
  {
   "cell_type": "code",
   "execution_count": null,
   "metadata": {},
   "outputs": [],
   "source": [
    "# file path out for first csv\n",
    "out_file1 = 'wine_data.csv'"
   ]
  },
  {
   "cell_type": "code",
   "execution_count": null,
   "metadata": {},
   "outputs": [],
   "source": [
    "# writing first csv of those countries we selected\n",
    "wine_df.to_csv(out_file1, index=False)"
   ]
  },
  {
   "cell_type": "code",
   "execution_count": null,
   "metadata": {},
   "outputs": [],
   "source": [
    "# now looking to make another csv of only 25 top varieties"
   ]
  },
  {
   "cell_type": "code",
   "execution_count": null,
   "metadata": {},
   "outputs": [],
   "source": [
    "wine_df.head()"
   ]
  },
  {
   "cell_type": "code",
   "execution_count": null,
   "metadata": {},
   "outputs": [],
   "source": [
    "# we only want the ones with over a thousand datas\n",
    "wine_df.Variety.value_counts().head(30)"
   ]
  },
  {
   "cell_type": "code",
   "execution_count": null,
   "metadata": {},
   "outputs": [],
   "source": []
  },
  {
   "cell_type": "code",
   "execution_count": null,
   "metadata": {},
   "outputs": [],
   "source": [
    "# making list of top 25 varieties\n",
    "num_vars = 25\n",
    "ranked_varieties = wine_df.Variety.value_counts().head(num_vars).index\n",
    "print(ranked_varieties)"
   ]
  },
  {
   "cell_type": "markdown",
   "metadata": {},
   "source": [
    "So there are some 500+ varieties in this set of data. Some that we just do not care about in this analysis due to their obscurity. So we decided to look at the top 25 varieties (they all have over 1000 entries)"
   ]
  },
  {
   "cell_type": "code",
   "execution_count": null,
   "metadata": {},
   "outputs": [],
   "source": [
    "type(ranked_varieties)"
   ]
  },
  {
   "cell_type": "code",
   "execution_count": null,
   "metadata": {},
   "outputs": [],
   "source": [
    "# making a new df for only those selected varieties\n",
    "\n",
    "# start with empty df\n",
    "variety_df = wine_df.loc[wine_df['Variety'] == \"Andy's Blend\", :]\n",
    "\n",
    "\n",
    "\n",
    "# now append all rows for each variety list\n",
    "for wine in ranked_varieties:\n",
    "    variety_df = variety_df.append(wine_df.loc[wine_df['Variety'] == wine, :], ignore_index=True)\n",
    "\n",
    "variety_df.head()"
   ]
  },
  {
   "cell_type": "markdown",
   "metadata": {},
   "source": [
    "I did the same as I did the same as I did for Countries but with varieties. Making a empty dataframe and populating with data for each variety."
   ]
  },
  {
   "cell_type": "code",
   "execution_count": null,
   "metadata": {},
   "outputs": [],
   "source": [
    "# creating filepath to \n",
    "out_file2 = 'variety_data.csv'"
   ]
  },
  {
   "cell_type": "code",
   "execution_count": null,
   "metadata": {},
   "outputs": [],
   "source": [
    "variety_df.to_csv(out_file2, index=False)"
   ]
  },
  {
   "cell_type": "code",
   "execution_count": null,
   "metadata": {},
   "outputs": [],
   "source": []
  },
  {
   "cell_type": "code",
   "execution_count": null,
   "metadata": {},
   "outputs": [],
   "source": [
    "# This is for the bonus part of looking where to plant a specific grape variety"
   ]
  },
  {
   "cell_type": "code",
   "execution_count": null,
   "metadata": {},
   "outputs": [],
   "source": [
    "wine_df.head()"
   ]
  },
  {
   "cell_type": "code",
   "execution_count": null,
   "metadata": {},
   "outputs": [],
   "source": [
    "# I want only US entries for this excersize and because I am working with region I will now need to drop na's\n",
    "# in that column\n",
    "\n",
    "# dropping all countries besides us\n",
    "us_df = wine_df.loc[wine_df['Country'] == 'US', :]\n",
    "\n",
    "region_df = us_df.dropna()"
   ]
  },
  {
   "cell_type": "markdown",
   "metadata": {},
   "source": [
    "This is just creating a csv to work on with the bonus project. I want only US wine and only wine that has a region so i in this case finally drop all nulls. This works in this case because that problem I was running into before, the one of the only countries I was left with was the US, and I was left with an Abundance of data."
   ]
  },
  {
   "cell_type": "code",
   "execution_count": null,
   "metadata": {},
   "outputs": [],
   "source": [
    "us_df.count()"
   ]
  },
  {
   "cell_type": "code",
   "execution_count": null,
   "metadata": {},
   "outputs": [],
   "source": [
    "region_df.count()"
   ]
  },
  {
   "cell_type": "code",
   "execution_count": null,
   "metadata": {},
   "outputs": [],
   "source": [
    "# looks like i only lost about a hundred and thirty six entries so that is good"
   ]
  },
  {
   "cell_type": "code",
   "execution_count": null,
   "metadata": {},
   "outputs": [],
   "source": [
    "# region_df['Province'].value_counts().head(30)"
   ]
  },
  {
   "cell_type": "code",
   "execution_count": null,
   "metadata": {},
   "outputs": [],
   "source": [
    "# making file path for bonus work csv \n",
    "out_file3 = 'region_data.csv'"
   ]
  },
  {
   "cell_type": "code",
   "execution_count": null,
   "metadata": {},
   "outputs": [],
   "source": [
    "# writing csv\n",
    "region_df.to_csv(out_file3, index=False)"
   ]
  },
  {
   "cell_type": "code",
   "execution_count": null,
   "metadata": {},
   "outputs": [],
   "source": [
    "# andy's code ends here"
   ]
  },
  {
   "cell_type": "code",
   "execution_count": null,
   "metadata": {},
   "outputs": [],
   "source": [
    "# Natalia was here"
   ]
  }
 ],
 "metadata": {
  "kernelspec": {
   "display_name": "Python 3",
   "language": "python",
   "name": "python3"
  },
  "language_info": {
   "codemirror_mode": {
    "name": "ipython",
    "version": 3
   },
   "file_extension": ".py",
   "mimetype": "text/x-python",
   "name": "python",
   "nbconvert_exporter": "python",
   "pygments_lexer": "ipython3",
   "version": "3.6.10"
  }
 },
 "nbformat": 4,
 "nbformat_minor": 4
}
