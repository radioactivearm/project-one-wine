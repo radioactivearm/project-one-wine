{
 "cells": [
  {
   "cell_type": "code",
   "execution_count": null,
   "metadata": {},
   "outputs": [],
   "source": [
    "# andy's code starts here"
   ]
  },
  {
   "cell_type": "code",
   "execution_count": null,
   "metadata": {},
   "outputs": [],
   "source": [
    "# dependencies\n",
    "import pandas as pd\n",
    "import os"
   ]
  },
  {
   "cell_type": "code",
   "execution_count": null,
   "metadata": {},
   "outputs": [],
   "source": [
    "# file path\n",
    "file = 'winemag-data_first150k.csv'"
   ]
  },
  {
   "cell_type": "code",
   "execution_count": null,
   "metadata": {},
   "outputs": [],
   "source": [
    "# reading csv file into dataframe\n",
    "dirty_wine_df = pd.read_csv(file)\n",
    "dirty_wine_df.head()"
   ]
  },
  {
   "cell_type": "code",
   "execution_count": null,
   "metadata": {},
   "outputs": [],
   "source": [
    "# checking to see where there might be nulls\n",
    "dirty_wine_df.count()"
   ]
  },
  {
   "cell_type": "code",
   "execution_count": null,
   "metadata": {},
   "outputs": [],
   "source": [
    "# seeing what countries we start with\n",
    "# dirty_wine_df['country'].value_counts()"
   ]
  },
  {
   "cell_type": "code",
   "execution_count": null,
   "metadata": {},
   "outputs": [],
   "source": [
    "# keeping only the columns we want (dropping imported index, description, designation, region_2 and winery)\n",
    "# dropping those partially because we don't need them , parially because they lose us lots of data\n",
    "less_dirty_wine_df = dirty_wine_df[['country', 'points', 'price', 'province', 'region_1', 'variety',  ]]"
   ]
  },
  {
   "cell_type": "code",
   "execution_count": null,
   "metadata": {},
   "outputs": [],
   "source": [
    "less_dirty_wine_df.head()"
   ]
  },
  {
   "cell_type": "code",
   "execution_count": null,
   "metadata": {},
   "outputs": [],
   "source": [
    "# I am dropping all na's in in all columns except region_1. if i drop na's in that column we lose almost all our\n",
    "# counrties (a lot of data goes away like smoke in the wind)\n",
    "cleaned_wine_df = less_dirty_wine_df.dropna(subset=['country', 'province', 'variety', 'price', 'points'])"
   ]
  },
  {
   "cell_type": "code",
   "execution_count": null,
   "metadata": {},
   "outputs": [],
   "source": [
    "# just renaming columns\n",
    "cleaned_wine_df = cleaned_wine_df.rename(columns={\n",
    "    'country': 'Country',\n",
    "    'points': 'Points',\n",
    "    'price': 'Price',\n",
    "    'province': 'Province',\n",
    "    'region_1': 'Region',\n",
    "    'variety': 'Variety'\n",
    "})\n",
    "cleaned_wine_df.head()"
   ]
  },
  {
   "cell_type": "code",
   "execution_count": null,
   "metadata": {},
   "outputs": [],
   "source": [
    "# these are the countries i want in my csv that i will be exporting\n",
    "countries_i_want = [\n",
    "    'US',\n",
    "    'Italy',\n",
    "    'France',\n",
    "    'Spain',\n",
    "    'Chile',\n",
    "    'Argentina',\n",
    "    'Portugal',\n",
    "    'Australia',\n",
    "    'New Zealand',\n",
    "    'Austria',\n",
    "    'Germany',\n",
    "    'South Africa'\n",
    "]"
   ]
  },
  {
   "cell_type": "code",
   "execution_count": null,
   "metadata": {},
   "outputs": [],
   "source": [
    "# i am going ot make a new data frame of only those countries\n",
    "\n",
    "# start with empty data frame\n",
    "wine_df = cleaned_wine_df.loc[cleaned_wine_df['Country'] == 'Andyland', :]\n",
    "\n",
    "# now iterating over those countries i want in my data frame i will add their data\n",
    "for land in countries_i_want:\n",
    "    wine_df = wine_df.append(cleaned_wine_df.loc[cleaned_wine_df['Country'] == land, :], ignore_index=True)\n",
    "    \n",
    "wine_df.head()"
   ]
  },
  {
   "cell_type": "code",
   "execution_count": null,
   "metadata": {},
   "outputs": [],
   "source": [
    "wine_df['Country'].value_counts()"
   ]
  },
  {
   "cell_type": "code",
   "execution_count": null,
   "metadata": {},
   "outputs": [],
   "source": [
    "wine_df.count()"
   ]
  },
  {
   "cell_type": "code",
   "execution_count": null,
   "metadata": {},
   "outputs": [],
   "source": [
    "# file path out for first csv\n",
    "out_file1 = 'wine_data.csv'"
   ]
  },
  {
   "cell_type": "code",
   "execution_count": null,
   "metadata": {},
   "outputs": [],
   "source": [
    "# writing first csv of those countries we selected\n",
    "wine_df.to_csv(out_file1, index=False)"
   ]
  },
  {
   "cell_type": "code",
   "execution_count": null,
   "metadata": {},
   "outputs": [],
   "source": [
    "# now looking to make another csv of only 25 top varieties"
   ]
  },
  {
   "cell_type": "code",
   "execution_count": null,
   "metadata": {},
   "outputs": [],
   "source": [
    "wine_df.head()"
   ]
  },
  {
   "cell_type": "code",
   "execution_count": null,
   "metadata": {},
   "outputs": [],
   "source": [
    "# we only want the ones with over a thousand datas\n",
    "wine_df.Variety.value_counts().head(30)"
   ]
  },
  {
   "cell_type": "code",
   "execution_count": null,
   "metadata": {},
   "outputs": [],
   "source": []
  },
  {
   "cell_type": "code",
   "execution_count": null,
   "metadata": {},
   "outputs": [],
   "source": [
    "# making list of top 25 varieties\n",
    "num_vars = 25\n",
    "ranked_varieties = wine_df.Variety.value_counts().head(num_vars).index\n",
    "print(ranked_varieties)"
   ]
  },
  {
   "cell_type": "code",
   "execution_count": null,
   "metadata": {},
   "outputs": [],
   "source": [
    "type(ranked_varieties)"
   ]
  },
  {
   "cell_type": "code",
   "execution_count": null,
   "metadata": {},
   "outputs": [],
   "source": [
    "# making a new df for only those selected varieties\n",
    "\n",
    "# start with empty df\n",
    "variety_df = wine_df.loc[wine_df['Variety'] == \"Andy's Blend\", :]\n",
    "\n",
    "\n",
    "\n",
    "# now append all rows for each variety list\n",
    "for wine in ranked_varieties:\n",
    "    variety_df = variety_df.append(wine_df.loc[wine_df['Variety'] == wine, :], ignore_index=True)\n",
    "\n",
    "variety_df.head()"
   ]
  },
  {
   "cell_type": "code",
   "execution_count": null,
   "metadata": {},
   "outputs": [],
   "source": [
    "# creating filepath to \n",
    "out_file2 = 'variety_data.csv'"
   ]
  },
  {
   "cell_type": "code",
   "execution_count": null,
   "metadata": {},
   "outputs": [],
   "source": [
    "variety_df.to_csv(out_file2, index=False)"
   ]
  },
  {
   "cell_type": "code",
   "execution_count": null,
   "metadata": {},
   "outputs": [],
   "source": []
  },
  {
   "cell_type": "code",
   "execution_count": null,
   "metadata": {},
   "outputs": [],
   "source": [
    "# This is for the bonus part of looking where to plant a specific grape variety"
   ]
  },
  {
   "cell_type": "code",
   "execution_count": null,
   "metadata": {},
   "outputs": [],
   "source": [
    "wine_df.head()"
   ]
  },
  {
   "cell_type": "code",
   "execution_count": null,
   "metadata": {},
   "outputs": [],
   "source": [
    "# I want only US entries for this excersize and because I am working with region I will now need to drop na's\n",
    "# in that column\n",
    "\n",
    "# dropping all countries besides us\n",
    "us_df = wine_df.loc[wine_df['Country'] == 'US', :]\n",
    "\n",
    "region_df = us_df.dropna()"
   ]
  },
  {
   "cell_type": "code",
   "execution_count": null,
   "metadata": {},
   "outputs": [],
   "source": [
    "us_df.count()"
   ]
  },
  {
   "cell_type": "code",
   "execution_count": null,
   "metadata": {},
   "outputs": [],
   "source": [
    "region_df.count()"
   ]
  },
  {
   "cell_type": "code",
   "execution_count": null,
   "metadata": {},
   "outputs": [],
   "source": [
    "# looks like i only lost about a hundred and thirty six entries so that is good"
   ]
  },
  {
   "cell_type": "code",
   "execution_count": null,
   "metadata": {},
   "outputs": [],
   "source": [
    "# region_df['Province'].value_counts().head(30)"
   ]
  },
  {
   "cell_type": "code",
   "execution_count": null,
   "metadata": {},
   "outputs": [],
   "source": [
    "# making file path for bonus work csv \n",
    "out_file3 = 'region_data.csv'"
   ]
  },
  {
   "cell_type": "code",
   "execution_count": null,
   "metadata": {},
   "outputs": [],
   "source": [
    "# writing csv\n",
    "region_df.to_csv(out_file3, index=False)"
   ]
  },
  {
   "cell_type": "code",
   "execution_count": null,
   "metadata": {},
   "outputs": [],
   "source": []
  },
  {
   "cell_type": "code",
   "execution_count": null,
   "metadata": {},
   "outputs": [],
   "source": [
    "# andy's code ends here"
   ]
  }
 ],
 "metadata": {
  "kernelspec": {
   "display_name": "Python 3",
   "language": "python",
   "name": "python3"
  },
  "language_info": {
   "codemirror_mode": {
    "name": "ipython",
    "version": 3
   },
   "file_extension": ".py",
   "mimetype": "text/x-python",
   "name": "python",
   "nbconvert_exporter": "python",
   "pygments_lexer": "ipython3",
   "version": "3.6.10"
  }
 },
 "nbformat": 4,
 "nbformat_minor": 4
}
