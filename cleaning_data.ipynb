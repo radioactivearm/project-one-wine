{
 "cells": [
  {
   "cell_type": "code",
   "execution_count": null,
   "metadata": {},
   "outputs": [],
   "source": [
    "# andy's code starts here"
   ]
  },
  {
   "cell_type": "code",
   "execution_count": null,
   "metadata": {},
   "outputs": [],
   "source": [
    "# dependencies\n",
    "import pandas as pd\n",
    "import os"
   ]
  },
  {
   "cell_type": "code",
   "execution_count": null,
   "metadata": {},
   "outputs": [],
   "source": [
    "# file path\n",
    "file = 'winemag-data_first150k.csv'"
   ]
  },
  {
   "cell_type": "code",
   "execution_count": null,
   "metadata": {},
   "outputs": [],
   "source": [
    "# reading csv file into dataframe\n",
    "dirty_wine_df = pd.read_csv(file)\n",
    "dirty_wine_df.head()"
   ]
  },
  {
   "cell_type": "code",
   "execution_count": null,
   "metadata": {},
   "outputs": [],
   "source": [
    "# checking to see where there might be nulls\n",
    "dirty_wine_df.count()"
   ]
  },
  {
   "cell_type": "code",
   "execution_count": null,
   "metadata": {},
   "outputs": [],
   "source": [
    "# seeing what countries we start with\n",
    "# dirty_wine_df['country'].value_counts()"
   ]
  },
  {
   "cell_type": "code",
   "execution_count": null,
   "metadata": {},
   "outputs": [],
   "source": [
    "# keeping only the columns we want (dropping imported index, description, designation, region_2 and winery)\n",
    "less_dirty_wine_df = dirty_wine_df[['country', 'points', 'price', 'province', 'region_1', 'variety',  ]]"
   ]
  },
  {
   "cell_type": "code",
   "execution_count": null,
   "metadata": {},
   "outputs": [],
   "source": [
    "less_dirty_wine_df.head()"
   ]
  },
  {
   "cell_type": "code",
   "execution_count": null,
   "metadata": {},
   "outputs": [],
   "source": [
    "# I am dropping all na's in in all columns except region_1. if i drop na's in that column we lose almost all our\n",
    "# counrties (a lot of data goes away like smoke in the wind)\n",
    "cleaned_wine_df = less_dirty_wine_df.dropna(subset=['country', 'province', 'variety', 'price', 'points'])"
   ]
  },
  {
   "cell_type": "code",
   "execution_count": null,
   "metadata": {},
   "outputs": [],
   "source": [
    "# just renaming columns\n",
    "cleaned_wine_df = cleaned_wine_df.rename(columns={\n",
    "    'country': 'Country',\n",
    "    'points': 'Points',\n",
    "    'price': 'Price',\n",
    "    'province': 'Province',\n",
    "    'region_1': 'Region',\n",
    "    'variety': 'Variety'\n",
    "})\n",
    "cleaned_wine_df.head()"
   ]
  },
  {
   "cell_type": "code",
   "execution_count": null,
   "metadata": {},
   "outputs": [],
   "source": [
    "# these are the countries i want in my csv that i will be exporting\n",
    "countries_i_want = [\n",
    "    'US',\n",
    "    'Italy',\n",
    "    'France',\n",
    "    'Spain',\n",
    "    'Chile',\n",
    "    'Argentina',\n",
    "    'Portugal',\n",
    "    'Australia',\n",
    "    'New Zealand',\n",
    "    'Austria',\n",
    "    'Germany',\n",
    "    'South Africa'\n",
    "]"
   ]
  },
  {
   "cell_type": "code",
   "execution_count": null,
   "metadata": {},
   "outputs": [],
   "source": [
    "# i am going ot make a new data frame of only those countries\n",
    "\n",
    "# start with empty data frame\n",
    "wine_df = cleaned_wine_df.loc[cleaned_wine_df['Country'] == 'Andyland', :]\n",
    "\n",
    "# now iterating over those countries i want in my data frame i will add their data\n",
    "for land in countries_i_want:\n",
    "    wine_df = wine_df.append(cleaned_wine_df.loc[cleaned_wine_df['Country'] == land, :], ignore_index=True)\n",
    "    \n",
    "wine_df.head()"
   ]
  },
  {
   "cell_type": "code",
   "execution_count": null,
   "metadata": {},
   "outputs": [],
   "source": [
    "wine_df['Country'].value_counts()"
   ]
  },
  {
   "cell_type": "code",
   "execution_count": null,
   "metadata": {},
   "outputs": [],
   "source": [
    "wine_df.count()"
   ]
  },
  {
   "cell_type": "code",
   "execution_count": null,
   "metadata": {},
   "outputs": [],
   "source": [
    "# file path out for first csv\n",
    "out_file1 = 'wine_data.csv'"
   ]
  },
  {
   "cell_type": "code",
   "execution_count": null,
   "metadata": {},
   "outputs": [],
   "source": [
    "# writing first csv of those countries we selected\n",
    "wine_df.to_csv(out_file1, index=False)"
   ]
  },
  {
   "cell_type": "code",
   "execution_count": null,
   "metadata": {},
   "outputs": [],
   "source": [
    "# now looking to make another csv of only 25 top varieties"
   ]
  },
  {
   "cell_type": "code",
   "execution_count": null,
   "metadata": {},
   "outputs": [],
   "source": [
    "wine_df.head()"
   ]
  },
  {
   "cell_type": "code",
   "execution_count": null,
   "metadata": {},
   "outputs": [],
   "source": [
    "# making a group by on varietal column\n",
    "variety_groups = wine_df.groupby('Variety')\n",
    "variety_groups"
   ]
  },
  {
   "cell_type": "code",
   "execution_count": null,
   "metadata": {},
   "outputs": [],
   "source": [
    "#going to make a data frame\n",
    "variety_counts = variety_groups['Variety'].count()\n",
    "variety_names = variety_groups['Variety'].unique()\n",
    "variety_names = pd.Series(variety_names)\n",
    "variety_names = variety_names.str[0]"
   ]
  },
  {
   "cell_type": "code",
   "execution_count": null,
   "metadata": {},
   "outputs": [],
   "source": []
  },
  {
   "cell_type": "code",
   "execution_count": null,
   "metadata": {},
   "outputs": [],
   "source": []
  },
  {
   "cell_type": "code",
   "execution_count": null,
   "metadata": {},
   "outputs": [],
   "source": []
  },
  {
   "cell_type": "code",
   "execution_count": null,
   "metadata": {},
   "outputs": [],
   "source": []
  },
  {
   "cell_type": "code",
   "execution_count": null,
   "metadata": {},
   "outputs": [],
   "source": [
    "wines_above_1000 = [wine_list[i].index for i in range(len(wine_list)) if wine_list[i] > 1000]\n",
    "print(wines_above_1000)"
   ]
  },
  {
   "cell_type": "code",
   "execution_count": null,
   "metadata": {},
   "outputs": [],
   "source": []
  },
  {
   "cell_type": "code",
   "execution_count": null,
   "metadata": {},
   "outputs": [],
   "source": [
    "# andy's code ends here"
   ]
  }
 ],
 "metadata": {
  "kernelspec": {
   "display_name": "Python 3",
   "language": "python",
   "name": "python3"
  },
  "language_info": {
   "codemirror_mode": {
    "name": "ipython",
    "version": 3
   },
   "file_extension": ".py",
   "mimetype": "text/x-python",
   "name": "python",
   "nbconvert_exporter": "python",
   "pygments_lexer": "ipython3",
   "version": "3.6.10"
  }
 },
 "nbformat": 4,
 "nbformat_minor": 4
}
